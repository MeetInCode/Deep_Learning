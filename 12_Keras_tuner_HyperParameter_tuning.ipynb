{
  "nbformat": 4,
  "nbformat_minor": 0,
  "metadata": {
    "colab": {
      "provenance": [],
      "collapsed_sections": [
        "zM9JBtBRh0_X",
        "PdVa07yaiClJ",
        "3EIPwxJ3iWkJ",
        "YG6myW1kjRxM"
      ]
    },
    "kernelspec": {
      "name": "python3",
      "display_name": "Python 3"
    },
    "language_info": {
      "name": "python"
    }
  },
  "cells": [
    {
      "cell_type": "code",
      "execution_count": 45,
      "metadata": {
        "id": "SnxrYqoBaf1_"
      },
      "outputs": [],
      "source": [
        "import numpy as np\n",
        "import pandas as pd\n"
      ]
    },
    {
      "cell_type": "code",
      "source": [
        "df = pd.read_csv(\"/content/diabetes.csv\")"
      ],
      "metadata": {
        "id": "TEBgtOHiayqM"
      },
      "execution_count": 46,
      "outputs": []
    },
    {
      "cell_type": "code",
      "source": [
        "df.head()"
      ],
      "metadata": {
        "colab": {
          "base_uri": "https://localhost:8080/",
          "height": 206
        },
        "id": "AZCsdMuEbKSi",
        "outputId": "783c26dc-79fe-4d67-8c9f-1692ed98e596"
      },
      "execution_count": 47,
      "outputs": [
        {
          "output_type": "execute_result",
          "data": {
            "text/plain": [
              "   Pregnancies  Glucose  BloodPressure  SkinThickness  Insulin   BMI  \\\n",
              "0            6      148             72             35        0  33.6   \n",
              "1            1       85             66             29        0  26.6   \n",
              "2            8      183             64              0        0  23.3   \n",
              "3            1       89             66             23       94  28.1   \n",
              "4            0      137             40             35      168  43.1   \n",
              "\n",
              "   DiabetesPedigreeFunction  Age  Outcome  \n",
              "0                     0.627   50        1  \n",
              "1                     0.351   31        0  \n",
              "2                     0.672   32        1  \n",
              "3                     0.167   21        0  \n",
              "4                     2.288   33        1  "
            ],
            "text/html": [
              "\n",
              "  <div id=\"df-ad28c9f0-1a07-4ef6-b6ac-9975a88bd4ac\" class=\"colab-df-container\">\n",
              "    <div>\n",
              "<style scoped>\n",
              "    .dataframe tbody tr th:only-of-type {\n",
              "        vertical-align: middle;\n",
              "    }\n",
              "\n",
              "    .dataframe tbody tr th {\n",
              "        vertical-align: top;\n",
              "    }\n",
              "\n",
              "    .dataframe thead th {\n",
              "        text-align: right;\n",
              "    }\n",
              "</style>\n",
              "<table border=\"1\" class=\"dataframe\">\n",
              "  <thead>\n",
              "    <tr style=\"text-align: right;\">\n",
              "      <th></th>\n",
              "      <th>Pregnancies</th>\n",
              "      <th>Glucose</th>\n",
              "      <th>BloodPressure</th>\n",
              "      <th>SkinThickness</th>\n",
              "      <th>Insulin</th>\n",
              "      <th>BMI</th>\n",
              "      <th>DiabetesPedigreeFunction</th>\n",
              "      <th>Age</th>\n",
              "      <th>Outcome</th>\n",
              "    </tr>\n",
              "  </thead>\n",
              "  <tbody>\n",
              "    <tr>\n",
              "      <th>0</th>\n",
              "      <td>6</td>\n",
              "      <td>148</td>\n",
              "      <td>72</td>\n",
              "      <td>35</td>\n",
              "      <td>0</td>\n",
              "      <td>33.6</td>\n",
              "      <td>0.627</td>\n",
              "      <td>50</td>\n",
              "      <td>1</td>\n",
              "    </tr>\n",
              "    <tr>\n",
              "      <th>1</th>\n",
              "      <td>1</td>\n",
              "      <td>85</td>\n",
              "      <td>66</td>\n",
              "      <td>29</td>\n",
              "      <td>0</td>\n",
              "      <td>26.6</td>\n",
              "      <td>0.351</td>\n",
              "      <td>31</td>\n",
              "      <td>0</td>\n",
              "    </tr>\n",
              "    <tr>\n",
              "      <th>2</th>\n",
              "      <td>8</td>\n",
              "      <td>183</td>\n",
              "      <td>64</td>\n",
              "      <td>0</td>\n",
              "      <td>0</td>\n",
              "      <td>23.3</td>\n",
              "      <td>0.672</td>\n",
              "      <td>32</td>\n",
              "      <td>1</td>\n",
              "    </tr>\n",
              "    <tr>\n",
              "      <th>3</th>\n",
              "      <td>1</td>\n",
              "      <td>89</td>\n",
              "      <td>66</td>\n",
              "      <td>23</td>\n",
              "      <td>94</td>\n",
              "      <td>28.1</td>\n",
              "      <td>0.167</td>\n",
              "      <td>21</td>\n",
              "      <td>0</td>\n",
              "    </tr>\n",
              "    <tr>\n",
              "      <th>4</th>\n",
              "      <td>0</td>\n",
              "      <td>137</td>\n",
              "      <td>40</td>\n",
              "      <td>35</td>\n",
              "      <td>168</td>\n",
              "      <td>43.1</td>\n",
              "      <td>2.288</td>\n",
              "      <td>33</td>\n",
              "      <td>1</td>\n",
              "    </tr>\n",
              "  </tbody>\n",
              "</table>\n",
              "</div>\n",
              "    <div class=\"colab-df-buttons\">\n",
              "\n",
              "  <div class=\"colab-df-container\">\n",
              "    <button class=\"colab-df-convert\" onclick=\"convertToInteractive('df-ad28c9f0-1a07-4ef6-b6ac-9975a88bd4ac')\"\n",
              "            title=\"Convert this dataframe to an interactive table.\"\n",
              "            style=\"display:none;\">\n",
              "\n",
              "  <svg xmlns=\"http://www.w3.org/2000/svg\" height=\"24px\" viewBox=\"0 -960 960 960\">\n",
              "    <path d=\"M120-120v-720h720v720H120Zm60-500h600v-160H180v160Zm220 220h160v-160H400v160Zm0 220h160v-160H400v160ZM180-400h160v-160H180v160Zm440 0h160v-160H620v160ZM180-180h160v-160H180v160Zm440 0h160v-160H620v160Z\"/>\n",
              "  </svg>\n",
              "    </button>\n",
              "\n",
              "  <style>\n",
              "    .colab-df-container {\n",
              "      display:flex;\n",
              "      gap: 12px;\n",
              "    }\n",
              "\n",
              "    .colab-df-convert {\n",
              "      background-color: #E8F0FE;\n",
              "      border: none;\n",
              "      border-radius: 50%;\n",
              "      cursor: pointer;\n",
              "      display: none;\n",
              "      fill: #1967D2;\n",
              "      height: 32px;\n",
              "      padding: 0 0 0 0;\n",
              "      width: 32px;\n",
              "    }\n",
              "\n",
              "    .colab-df-convert:hover {\n",
              "      background-color: #E2EBFA;\n",
              "      box-shadow: 0px 1px 2px rgba(60, 64, 67, 0.3), 0px 1px 3px 1px rgba(60, 64, 67, 0.15);\n",
              "      fill: #174EA6;\n",
              "    }\n",
              "\n",
              "    .colab-df-buttons div {\n",
              "      margin-bottom: 4px;\n",
              "    }\n",
              "\n",
              "    [theme=dark] .colab-df-convert {\n",
              "      background-color: #3B4455;\n",
              "      fill: #D2E3FC;\n",
              "    }\n",
              "\n",
              "    [theme=dark] .colab-df-convert:hover {\n",
              "      background-color: #434B5C;\n",
              "      box-shadow: 0px 1px 3px 1px rgba(0, 0, 0, 0.15);\n",
              "      filter: drop-shadow(0px 1px 2px rgba(0, 0, 0, 0.3));\n",
              "      fill: #FFFFFF;\n",
              "    }\n",
              "  </style>\n",
              "\n",
              "    <script>\n",
              "      const buttonEl =\n",
              "        document.querySelector('#df-ad28c9f0-1a07-4ef6-b6ac-9975a88bd4ac button.colab-df-convert');\n",
              "      buttonEl.style.display =\n",
              "        google.colab.kernel.accessAllowed ? 'block' : 'none';\n",
              "\n",
              "      async function convertToInteractive(key) {\n",
              "        const element = document.querySelector('#df-ad28c9f0-1a07-4ef6-b6ac-9975a88bd4ac');\n",
              "        const dataTable =\n",
              "          await google.colab.kernel.invokeFunction('convertToInteractive',\n",
              "                                                    [key], {});\n",
              "        if (!dataTable) return;\n",
              "\n",
              "        const docLinkHtml = 'Like what you see? Visit the ' +\n",
              "          '<a target=\"_blank\" href=https://colab.research.google.com/notebooks/data_table.ipynb>data table notebook</a>'\n",
              "          + ' to learn more about interactive tables.';\n",
              "        element.innerHTML = '';\n",
              "        dataTable['output_type'] = 'display_data';\n",
              "        await google.colab.output.renderOutput(dataTable, element);\n",
              "        const docLink = document.createElement('div');\n",
              "        docLink.innerHTML = docLinkHtml;\n",
              "        element.appendChild(docLink);\n",
              "      }\n",
              "    </script>\n",
              "  </div>\n",
              "\n",
              "\n",
              "    <div id=\"df-b2a1229c-161c-42df-a7ae-e4a4e8a3836b\">\n",
              "      <button class=\"colab-df-quickchart\" onclick=\"quickchart('df-b2a1229c-161c-42df-a7ae-e4a4e8a3836b')\"\n",
              "                title=\"Suggest charts\"\n",
              "                style=\"display:none;\">\n",
              "\n",
              "<svg xmlns=\"http://www.w3.org/2000/svg\" height=\"24px\"viewBox=\"0 0 24 24\"\n",
              "     width=\"24px\">\n",
              "    <g>\n",
              "        <path d=\"M19 3H5c-1.1 0-2 .9-2 2v14c0 1.1.9 2 2 2h14c1.1 0 2-.9 2-2V5c0-1.1-.9-2-2-2zM9 17H7v-7h2v7zm4 0h-2V7h2v10zm4 0h-2v-4h2v4z\"/>\n",
              "    </g>\n",
              "</svg>\n",
              "      </button>\n",
              "\n",
              "<style>\n",
              "  .colab-df-quickchart {\n",
              "      --bg-color: #E8F0FE;\n",
              "      --fill-color: #1967D2;\n",
              "      --hover-bg-color: #E2EBFA;\n",
              "      --hover-fill-color: #174EA6;\n",
              "      --disabled-fill-color: #AAA;\n",
              "      --disabled-bg-color: #DDD;\n",
              "  }\n",
              "\n",
              "  [theme=dark] .colab-df-quickchart {\n",
              "      --bg-color: #3B4455;\n",
              "      --fill-color: #D2E3FC;\n",
              "      --hover-bg-color: #434B5C;\n",
              "      --hover-fill-color: #FFFFFF;\n",
              "      --disabled-bg-color: #3B4455;\n",
              "      --disabled-fill-color: #666;\n",
              "  }\n",
              "\n",
              "  .colab-df-quickchart {\n",
              "    background-color: var(--bg-color);\n",
              "    border: none;\n",
              "    border-radius: 50%;\n",
              "    cursor: pointer;\n",
              "    display: none;\n",
              "    fill: var(--fill-color);\n",
              "    height: 32px;\n",
              "    padding: 0;\n",
              "    width: 32px;\n",
              "  }\n",
              "\n",
              "  .colab-df-quickchart:hover {\n",
              "    background-color: var(--hover-bg-color);\n",
              "    box-shadow: 0 1px 2px rgba(60, 64, 67, 0.3), 0 1px 3px 1px rgba(60, 64, 67, 0.15);\n",
              "    fill: var(--button-hover-fill-color);\n",
              "  }\n",
              "\n",
              "  .colab-df-quickchart-complete:disabled,\n",
              "  .colab-df-quickchart-complete:disabled:hover {\n",
              "    background-color: var(--disabled-bg-color);\n",
              "    fill: var(--disabled-fill-color);\n",
              "    box-shadow: none;\n",
              "  }\n",
              "\n",
              "  .colab-df-spinner {\n",
              "    border: 2px solid var(--fill-color);\n",
              "    border-color: transparent;\n",
              "    border-bottom-color: var(--fill-color);\n",
              "    animation:\n",
              "      spin 1s steps(1) infinite;\n",
              "  }\n",
              "\n",
              "  @keyframes spin {\n",
              "    0% {\n",
              "      border-color: transparent;\n",
              "      border-bottom-color: var(--fill-color);\n",
              "      border-left-color: var(--fill-color);\n",
              "    }\n",
              "    20% {\n",
              "      border-color: transparent;\n",
              "      border-left-color: var(--fill-color);\n",
              "      border-top-color: var(--fill-color);\n",
              "    }\n",
              "    30% {\n",
              "      border-color: transparent;\n",
              "      border-left-color: var(--fill-color);\n",
              "      border-top-color: var(--fill-color);\n",
              "      border-right-color: var(--fill-color);\n",
              "    }\n",
              "    40% {\n",
              "      border-color: transparent;\n",
              "      border-right-color: var(--fill-color);\n",
              "      border-top-color: var(--fill-color);\n",
              "    }\n",
              "    60% {\n",
              "      border-color: transparent;\n",
              "      border-right-color: var(--fill-color);\n",
              "    }\n",
              "    80% {\n",
              "      border-color: transparent;\n",
              "      border-right-color: var(--fill-color);\n",
              "      border-bottom-color: var(--fill-color);\n",
              "    }\n",
              "    90% {\n",
              "      border-color: transparent;\n",
              "      border-bottom-color: var(--fill-color);\n",
              "    }\n",
              "  }\n",
              "</style>\n",
              "\n",
              "      <script>\n",
              "        async function quickchart(key) {\n",
              "          const quickchartButtonEl =\n",
              "            document.querySelector('#' + key + ' button');\n",
              "          quickchartButtonEl.disabled = true;  // To prevent multiple clicks.\n",
              "          quickchartButtonEl.classList.add('colab-df-spinner');\n",
              "          try {\n",
              "            const charts = await google.colab.kernel.invokeFunction(\n",
              "                'suggestCharts', [key], {});\n",
              "          } catch (error) {\n",
              "            console.error('Error during call to suggestCharts:', error);\n",
              "          }\n",
              "          quickchartButtonEl.classList.remove('colab-df-spinner');\n",
              "          quickchartButtonEl.classList.add('colab-df-quickchart-complete');\n",
              "        }\n",
              "        (() => {\n",
              "          let quickchartButtonEl =\n",
              "            document.querySelector('#df-b2a1229c-161c-42df-a7ae-e4a4e8a3836b button');\n",
              "          quickchartButtonEl.style.display =\n",
              "            google.colab.kernel.accessAllowed ? 'block' : 'none';\n",
              "        })();\n",
              "      </script>\n",
              "    </div>\n",
              "\n",
              "    </div>\n",
              "  </div>\n"
            ],
            "application/vnd.google.colaboratory.intrinsic+json": {
              "type": "dataframe",
              "variable_name": "df",
              "summary": "{\n  \"name\": \"df\",\n  \"rows\": 768,\n  \"fields\": [\n    {\n      \"column\": \"Pregnancies\",\n      \"properties\": {\n        \"dtype\": \"number\",\n        \"std\": 3,\n        \"min\": 0,\n        \"max\": 17,\n        \"num_unique_values\": 17,\n        \"samples\": [\n          6,\n          1,\n          3\n        ],\n        \"semantic_type\": \"\",\n        \"description\": \"\"\n      }\n    },\n    {\n      \"column\": \"Glucose\",\n      \"properties\": {\n        \"dtype\": \"number\",\n        \"std\": 31,\n        \"min\": 0,\n        \"max\": 199,\n        \"num_unique_values\": 136,\n        \"samples\": [\n          151,\n          101,\n          112\n        ],\n        \"semantic_type\": \"\",\n        \"description\": \"\"\n      }\n    },\n    {\n      \"column\": \"BloodPressure\",\n      \"properties\": {\n        \"dtype\": \"number\",\n        \"std\": 19,\n        \"min\": 0,\n        \"max\": 122,\n        \"num_unique_values\": 47,\n        \"samples\": [\n          86,\n          46,\n          85\n        ],\n        \"semantic_type\": \"\",\n        \"description\": \"\"\n      }\n    },\n    {\n      \"column\": \"SkinThickness\",\n      \"properties\": {\n        \"dtype\": \"number\",\n        \"std\": 15,\n        \"min\": 0,\n        \"max\": 99,\n        \"num_unique_values\": 51,\n        \"samples\": [\n          7,\n          12,\n          48\n        ],\n        \"semantic_type\": \"\",\n        \"description\": \"\"\n      }\n    },\n    {\n      \"column\": \"Insulin\",\n      \"properties\": {\n        \"dtype\": \"number\",\n        \"std\": 115,\n        \"min\": 0,\n        \"max\": 846,\n        \"num_unique_values\": 186,\n        \"samples\": [\n          52,\n          41,\n          183\n        ],\n        \"semantic_type\": \"\",\n        \"description\": \"\"\n      }\n    },\n    {\n      \"column\": \"BMI\",\n      \"properties\": {\n        \"dtype\": \"number\",\n        \"std\": 7.8841603203754405,\n        \"min\": 0.0,\n        \"max\": 67.1,\n        \"num_unique_values\": 248,\n        \"samples\": [\n          19.9,\n          31.0,\n          38.1\n        ],\n        \"semantic_type\": \"\",\n        \"description\": \"\"\n      }\n    },\n    {\n      \"column\": \"DiabetesPedigreeFunction\",\n      \"properties\": {\n        \"dtype\": \"number\",\n        \"std\": 0.33132859501277484,\n        \"min\": 0.078,\n        \"max\": 2.42,\n        \"num_unique_values\": 517,\n        \"samples\": [\n          1.731,\n          0.426,\n          0.138\n        ],\n        \"semantic_type\": \"\",\n        \"description\": \"\"\n      }\n    },\n    {\n      \"column\": \"Age\",\n      \"properties\": {\n        \"dtype\": \"number\",\n        \"std\": 11,\n        \"min\": 21,\n        \"max\": 81,\n        \"num_unique_values\": 52,\n        \"samples\": [\n          60,\n          47,\n          72\n        ],\n        \"semantic_type\": \"\",\n        \"description\": \"\"\n      }\n    },\n    {\n      \"column\": \"Outcome\",\n      \"properties\": {\n        \"dtype\": \"number\",\n        \"std\": 0,\n        \"min\": 0,\n        \"max\": 1,\n        \"num_unique_values\": 2,\n        \"samples\": [\n          0,\n          1\n        ],\n        \"semantic_type\": \"\",\n        \"description\": \"\"\n      }\n    }\n  ]\n}"
            }
          },
          "metadata": {},
          "execution_count": 47
        }
      ]
    },
    {
      "cell_type": "markdown",
      "source": [
        "# 1. see how much each column is contributing to outcome"
      ],
      "metadata": {
        "id": "LF0FPaosa-Lp"
      }
    },
    {
      "cell_type": "code",
      "source": [
        "df.corr()[\"Outcome\"]"
      ],
      "metadata": {
        "colab": {
          "base_uri": "https://localhost:8080/",
          "height": 367
        },
        "id": "FiwcIzBVa4ZB",
        "outputId": "aa616687-bb8a-49a2-8d0d-cb3ad04c90fd"
      },
      "execution_count": 48,
      "outputs": [
        {
          "output_type": "execute_result",
          "data": {
            "text/plain": [
              "Pregnancies                 0.221898\n",
              "Glucose                     0.466581\n",
              "BloodPressure               0.065068\n",
              "SkinThickness               0.074752\n",
              "Insulin                     0.130548\n",
              "BMI                         0.292695\n",
              "DiabetesPedigreeFunction    0.173844\n",
              "Age                         0.238356\n",
              "Outcome                     1.000000\n",
              "Name: Outcome, dtype: float64"
            ],
            "text/html": [
              "<div>\n",
              "<style scoped>\n",
              "    .dataframe tbody tr th:only-of-type {\n",
              "        vertical-align: middle;\n",
              "    }\n",
              "\n",
              "    .dataframe tbody tr th {\n",
              "        vertical-align: top;\n",
              "    }\n",
              "\n",
              "    .dataframe thead th {\n",
              "        text-align: right;\n",
              "    }\n",
              "</style>\n",
              "<table border=\"1\" class=\"dataframe\">\n",
              "  <thead>\n",
              "    <tr style=\"text-align: right;\">\n",
              "      <th></th>\n",
              "      <th>Outcome</th>\n",
              "    </tr>\n",
              "  </thead>\n",
              "  <tbody>\n",
              "    <tr>\n",
              "      <th>Pregnancies</th>\n",
              "      <td>0.221898</td>\n",
              "    </tr>\n",
              "    <tr>\n",
              "      <th>Glucose</th>\n",
              "      <td>0.466581</td>\n",
              "    </tr>\n",
              "    <tr>\n",
              "      <th>BloodPressure</th>\n",
              "      <td>0.065068</td>\n",
              "    </tr>\n",
              "    <tr>\n",
              "      <th>SkinThickness</th>\n",
              "      <td>0.074752</td>\n",
              "    </tr>\n",
              "    <tr>\n",
              "      <th>Insulin</th>\n",
              "      <td>0.130548</td>\n",
              "    </tr>\n",
              "    <tr>\n",
              "      <th>BMI</th>\n",
              "      <td>0.292695</td>\n",
              "    </tr>\n",
              "    <tr>\n",
              "      <th>DiabetesPedigreeFunction</th>\n",
              "      <td>0.173844</td>\n",
              "    </tr>\n",
              "    <tr>\n",
              "      <th>Age</th>\n",
              "      <td>0.238356</td>\n",
              "    </tr>\n",
              "    <tr>\n",
              "      <th>Outcome</th>\n",
              "      <td>1.000000</td>\n",
              "    </tr>\n",
              "  </tbody>\n",
              "</table>\n",
              "</div><br><label><b>dtype:</b> float64</label>"
            ]
          },
          "metadata": {},
          "execution_count": 48
        }
      ]
    },
    {
      "cell_type": "code",
      "source": [
        "## if needed we can eliminate BloodPressure\tSkinThickness"
      ],
      "metadata": {
        "id": "XjG1wbK1bH5C"
      },
      "execution_count": 49,
      "outputs": []
    },
    {
      "cell_type": "markdown",
      "source": [
        "# 2. split data"
      ],
      "metadata": {
        "id": "mv5BfhPnbhr6"
      }
    },
    {
      "cell_type": "code",
      "source": [
        "# prompt: split X and Y\n",
        "\n",
        "X = df.drop('Outcome', axis=1)\n",
        "y = df['Outcome']"
      ],
      "metadata": {
        "id": "qBRnxfqBbY4P"
      },
      "execution_count": 50,
      "outputs": []
    },
    {
      "cell_type": "markdown",
      "source": [
        "# 3. standard scaling"
      ],
      "metadata": {
        "id": "XNjd5--Xb1s8"
      }
    },
    {
      "cell_type": "code",
      "source": [
        "\n",
        "\n",
        "from sklearn.preprocessing import StandardScaler\n",
        "\n",
        "scaler = StandardScaler()\n",
        "X_scaled = scaler.fit_transform(X)\n",
        "\n",
        "\n"
      ],
      "metadata": {
        "id": "Wb2UpT_MbsL9"
      },
      "execution_count": 51,
      "outputs": []
    },
    {
      "cell_type": "code",
      "source": [
        "X_scaled"
      ],
      "metadata": {
        "colab": {
          "base_uri": "https://localhost:8080/"
        },
        "id": "9xZHx3rNcQdE",
        "outputId": "67563575-f33f-4764-d8c5-9d520b1cebcd"
      },
      "execution_count": 52,
      "outputs": [
        {
          "output_type": "execute_result",
          "data": {
            "text/plain": [
              "array([[ 0.63994726,  0.84832379,  0.14964075, ...,  0.20401277,\n",
              "         0.46849198,  1.4259954 ],\n",
              "       [-0.84488505, -1.12339636, -0.16054575, ..., -0.68442195,\n",
              "        -0.36506078, -0.19067191],\n",
              "       [ 1.23388019,  1.94372388, -0.26394125, ..., -1.10325546,\n",
              "         0.60439732, -0.10558415],\n",
              "       ...,\n",
              "       [ 0.3429808 ,  0.00330087,  0.14964075, ..., -0.73518964,\n",
              "        -0.68519336, -0.27575966],\n",
              "       [-0.84488505,  0.1597866 , -0.47073225, ..., -0.24020459,\n",
              "        -0.37110101,  1.17073215],\n",
              "       [-0.84488505, -0.8730192 ,  0.04624525, ..., -0.20212881,\n",
              "        -0.47378505, -0.87137393]])"
            ]
          },
          "metadata": {},
          "execution_count": 52
        }
      ]
    },
    {
      "cell_type": "markdown",
      "source": [
        "# 4. train test split"
      ],
      "metadata": {
        "id": "BOulcbJ7cWow"
      }
    },
    {
      "cell_type": "code",
      "source": [
        "\n",
        "\n",
        "from sklearn.model_selection import train_test_split\n",
        "\n",
        "X_train, X_test, y_train, y_test = train_test_split(X_scaled, y, test_size=0.2, random_state=42)"
      ],
      "metadata": {
        "id": "POSUnwpmcZ23"
      },
      "execution_count": 53,
      "outputs": []
    },
    {
      "cell_type": "markdown",
      "source": [
        "# 5. IMPORT tensorflow keras sequential and dense and fit model"
      ],
      "metadata": {
        "id": "TXXiMzVGcwO9"
      }
    },
    {
      "cell_type": "code",
      "source": [
        "# prompt: # 5. IMPORT tensorflow keras sequential and dense\n",
        "\n",
        "import tensorflow as tf\n",
        "from tensorflow import keras\n",
        "from tensorflow.keras.models import Sequential\n",
        "from tensorflow.keras.layers import Dense"
      ],
      "metadata": {
        "id": "NcDl_5m3c2e8"
      },
      "execution_count": 54,
      "outputs": []
    },
    {
      "cell_type": "code",
      "source": [
        "# prompt: 2 layer dense model , relu sigmoid , adam , BCentropy , metrics accuracy\n",
        "\n",
        "model = Sequential([\n",
        "    Dense(32, activation='relu', input_dim=8),\n",
        "    Dense(1, activation='sigmoid')\n",
        "])\n",
        "\n",
        "\n",
        "model.compile(optimizer='adam',\n",
        "              loss='binary_crossentropy',\n",
        "              metrics=['accuracy'])\n",
        "\n",
        "\n",
        "history = model.fit(X_train, y_train, epochs=10, batch_size=32, validation_split=0.2)\n",
        "# validation_split=0.2 means 80% of the training data is used for training and 20% for validation during training"
      ],
      "metadata": {
        "colab": {
          "base_uri": "https://localhost:8080/"
        },
        "id": "EtfBKW4GdFG2",
        "outputId": "4611fdee-9d35-4559-d749-81f53a830f87"
      },
      "execution_count": 55,
      "outputs": [
        {
          "output_type": "stream",
          "name": "stdout",
          "text": [
            "Epoch 1/10\n"
          ]
        },
        {
          "output_type": "stream",
          "name": "stderr",
          "text": [
            "/usr/local/lib/python3.11/dist-packages/keras/src/layers/core/dense.py:87: UserWarning: Do not pass an `input_shape`/`input_dim` argument to a layer. When using Sequential models, prefer using an `Input(shape)` object as the first layer in the model instead.\n",
            "  super().__init__(activity_regularizer=activity_regularizer, **kwargs)\n"
          ]
        },
        {
          "output_type": "stream",
          "name": "stdout",
          "text": [
            "\u001b[1m16/16\u001b[0m \u001b[32m━━━━━━━━━━━━━━━━━━━━\u001b[0m\u001b[37m\u001b[0m \u001b[1m2s\u001b[0m 22ms/step - accuracy: 0.2597 - loss: 0.9533 - val_accuracy: 0.2846 - val_loss: 0.8554\n",
            "Epoch 2/10\n",
            "\u001b[1m16/16\u001b[0m \u001b[32m━━━━━━━━━━━━━━━━━━━━\u001b[0m\u001b[37m\u001b[0m \u001b[1m0s\u001b[0m 7ms/step - accuracy: 0.3297 - loss: 0.8348 - val_accuracy: 0.3008 - val_loss: 0.7933\n",
            "Epoch 3/10\n",
            "\u001b[1m16/16\u001b[0m \u001b[32m━━━━━━━━━━━━━━━━━━━━\u001b[0m\u001b[37m\u001b[0m \u001b[1m0s\u001b[0m 9ms/step - accuracy: 0.3367 - loss: 0.7730 - val_accuracy: 0.4390 - val_loss: 0.7452\n",
            "Epoch 4/10\n",
            "\u001b[1m16/16\u001b[0m \u001b[32m━━━━━━━━━━━━━━━━━━━━\u001b[0m\u001b[37m\u001b[0m \u001b[1m0s\u001b[0m 8ms/step - accuracy: 0.4992 - loss: 0.7103 - val_accuracy: 0.5366 - val_loss: 0.7064\n",
            "Epoch 5/10\n",
            "\u001b[1m16/16\u001b[0m \u001b[32m━━━━━━━━━━━━━━━━━━━━\u001b[0m\u001b[37m\u001b[0m \u001b[1m0s\u001b[0m 7ms/step - accuracy: 0.5762 - loss: 0.6747 - val_accuracy: 0.5772 - val_loss: 0.6728\n",
            "Epoch 6/10\n",
            "\u001b[1m16/16\u001b[0m \u001b[32m━━━━━━━━━━━━━━━━━━━━\u001b[0m\u001b[37m\u001b[0m \u001b[1m0s\u001b[0m 7ms/step - accuracy: 0.6514 - loss: 0.6458 - val_accuracy: 0.6504 - val_loss: 0.6457\n",
            "Epoch 7/10\n",
            "\u001b[1m16/16\u001b[0m \u001b[32m━━━━━━━━━━━━━━━━━━━━\u001b[0m\u001b[37m\u001b[0m \u001b[1m0s\u001b[0m 12ms/step - accuracy: 0.6813 - loss: 0.6345 - val_accuracy: 0.6829 - val_loss: 0.6230\n",
            "Epoch 8/10\n",
            "\u001b[1m16/16\u001b[0m \u001b[32m━━━━━━━━━━━━━━━━━━━━\u001b[0m\u001b[37m\u001b[0m \u001b[1m0s\u001b[0m 12ms/step - accuracy: 0.6966 - loss: 0.6019 - val_accuracy: 0.7154 - val_loss: 0.6047\n",
            "Epoch 9/10\n",
            "\u001b[1m16/16\u001b[0m \u001b[32m━━━━━━━━━━━━━━━━━━━━\u001b[0m\u001b[37m\u001b[0m \u001b[1m0s\u001b[0m 12ms/step - accuracy: 0.7081 - loss: 0.5742 - val_accuracy: 0.7236 - val_loss: 0.5902\n",
            "Epoch 10/10\n",
            "\u001b[1m16/16\u001b[0m \u001b[32m━━━━━━━━━━━━━━━━━━━━\u001b[0m\u001b[37m\u001b[0m \u001b[1m0s\u001b[0m 13ms/step - accuracy: 0.7434 - loss: 0.5712 - val_accuracy: 0.7154 - val_loss: 0.5776\n"
          ]
        }
      ]
    },
    {
      "cell_type": "markdown",
      "source": [
        "# 6. check model with test data"
      ],
      "metadata": {
        "id": "YMTme6xSenZr"
      }
    },
    {
      "cell_type": "code",
      "source": [
        "history = model.fit(X_train, y_train, epochs=100, batch_size=32, validation_data=(X_test, y_test))\n",
        "\n",
        "# 100% of X_train is used for training, and 100% X_test is used as the validation set during training.\n"
      ],
      "metadata": {
        "colab": {
          "base_uri": "https://localhost:8080/"
        },
        "id": "Qw7MH1gbdiqD",
        "outputId": "3b325209-a56b-41ac-ac6b-dd8d836f0401"
      },
      "execution_count": 56,
      "outputs": [
        {
          "output_type": "stream",
          "name": "stdout",
          "text": [
            "Epoch 1/100\n",
            "\u001b[1m20/20\u001b[0m \u001b[32m━━━━━━━━━━━━━━━━━━━━\u001b[0m\u001b[37m\u001b[0m \u001b[1m0s\u001b[0m 13ms/step - accuracy: 0.7424 - loss: 0.5381 - val_accuracy: 0.7208 - val_loss: 0.5505\n",
            "Epoch 2/100\n",
            "\u001b[1m20/20\u001b[0m \u001b[32m━━━━━━━━━━━━━━━━━━━━\u001b[0m\u001b[37m\u001b[0m \u001b[1m0s\u001b[0m 11ms/step - accuracy: 0.7307 - loss: 0.5435 - val_accuracy: 0.7403 - val_loss: 0.5388\n",
            "Epoch 3/100\n",
            "\u001b[1m20/20\u001b[0m \u001b[32m━━━━━━━━━━━━━━━━━━━━\u001b[0m\u001b[37m\u001b[0m \u001b[1m0s\u001b[0m 10ms/step - accuracy: 0.7735 - loss: 0.5253 - val_accuracy: 0.7338 - val_loss: 0.5306\n",
            "Epoch 4/100\n",
            "\u001b[1m20/20\u001b[0m \u001b[32m━━━━━━━━━━━━━━━━━━━━\u001b[0m\u001b[37m\u001b[0m \u001b[1m0s\u001b[0m 10ms/step - accuracy: 0.7673 - loss: 0.5048 - val_accuracy: 0.7468 - val_loss: 0.5247\n",
            "Epoch 5/100\n",
            "\u001b[1m20/20\u001b[0m \u001b[32m━━━━━━━━━━━━━━━━━━━━\u001b[0m\u001b[37m\u001b[0m \u001b[1m0s\u001b[0m 10ms/step - accuracy: 0.7736 - loss: 0.4868 - val_accuracy: 0.7468 - val_loss: 0.5184\n",
            "Epoch 6/100\n",
            "\u001b[1m20/20\u001b[0m \u001b[32m━━━━━━━━━━━━━━━━━━━━\u001b[0m\u001b[37m\u001b[0m \u001b[1m0s\u001b[0m 7ms/step - accuracy: 0.7796 - loss: 0.4752 - val_accuracy: 0.7597 - val_loss: 0.5155\n",
            "Epoch 7/100\n",
            "\u001b[1m20/20\u001b[0m \u001b[32m━━━━━━━━━━━━━━━━━━━━\u001b[0m\u001b[37m\u001b[0m \u001b[1m0s\u001b[0m 6ms/step - accuracy: 0.7621 - loss: 0.5026 - val_accuracy: 0.7532 - val_loss: 0.5134\n",
            "Epoch 8/100\n",
            "\u001b[1m20/20\u001b[0m \u001b[32m━━━━━━━━━━━━━━━━━━━━\u001b[0m\u001b[37m\u001b[0m \u001b[1m0s\u001b[0m 6ms/step - accuracy: 0.7768 - loss: 0.4696 - val_accuracy: 0.7532 - val_loss: 0.5104\n",
            "Epoch 9/100\n",
            "\u001b[1m20/20\u001b[0m \u001b[32m━━━━━━━━━━━━━━━━━━━━\u001b[0m\u001b[37m\u001b[0m \u001b[1m0s\u001b[0m 8ms/step - accuracy: 0.7863 - loss: 0.4556 - val_accuracy: 0.7597 - val_loss: 0.5067\n",
            "Epoch 10/100\n",
            "\u001b[1m20/20\u001b[0m \u001b[32m━━━━━━━━━━━━━━━━━━━━\u001b[0m\u001b[37m\u001b[0m \u001b[1m0s\u001b[0m 7ms/step - accuracy: 0.7818 - loss: 0.4633 - val_accuracy: 0.7403 - val_loss: 0.5059\n",
            "Epoch 11/100\n",
            "\u001b[1m20/20\u001b[0m \u001b[32m━━━━━━━━━━━━━━━━━━━━\u001b[0m\u001b[37m\u001b[0m \u001b[1m0s\u001b[0m 6ms/step - accuracy: 0.7602 - loss: 0.4797 - val_accuracy: 0.7532 - val_loss: 0.5053\n",
            "Epoch 12/100\n",
            "\u001b[1m20/20\u001b[0m \u001b[32m━━━━━━━━━━━━━━━━━━━━\u001b[0m\u001b[37m\u001b[0m \u001b[1m0s\u001b[0m 7ms/step - accuracy: 0.7651 - loss: 0.4815 - val_accuracy: 0.7468 - val_loss: 0.5039\n",
            "Epoch 13/100\n",
            "\u001b[1m20/20\u001b[0m \u001b[32m━━━━━━━━━━━━━━━━━━━━\u001b[0m\u001b[37m\u001b[0m \u001b[1m0s\u001b[0m 6ms/step - accuracy: 0.7843 - loss: 0.4664 - val_accuracy: 0.7403 - val_loss: 0.5044\n",
            "Epoch 14/100\n",
            "\u001b[1m20/20\u001b[0m \u001b[32m━━━━━━━━━━━━━━━━━━━━\u001b[0m\u001b[37m\u001b[0m \u001b[1m0s\u001b[0m 7ms/step - accuracy: 0.7692 - loss: 0.4799 - val_accuracy: 0.7403 - val_loss: 0.5038\n",
            "Epoch 15/100\n",
            "\u001b[1m20/20\u001b[0m \u001b[32m━━━━━━━━━━━━━━━━━━━━\u001b[0m\u001b[37m\u001b[0m \u001b[1m0s\u001b[0m 6ms/step - accuracy: 0.7989 - loss: 0.4567 - val_accuracy: 0.7468 - val_loss: 0.5019\n",
            "Epoch 16/100\n",
            "\u001b[1m20/20\u001b[0m \u001b[32m━━━━━━━━━━━━━━━━━━━━\u001b[0m\u001b[37m\u001b[0m \u001b[1m0s\u001b[0m 8ms/step - accuracy: 0.7574 - loss: 0.4740 - val_accuracy: 0.7597 - val_loss: 0.5009\n",
            "Epoch 17/100\n",
            "\u001b[1m20/20\u001b[0m \u001b[32m━━━━━━━━━━━━━━━━━━━━\u001b[0m\u001b[37m\u001b[0m \u001b[1m0s\u001b[0m 8ms/step - accuracy: 0.7765 - loss: 0.4566 - val_accuracy: 0.7662 - val_loss: 0.5003\n",
            "Epoch 18/100\n",
            "\u001b[1m20/20\u001b[0m \u001b[32m━━━━━━━━━━━━━━━━━━━━\u001b[0m\u001b[37m\u001b[0m \u001b[1m0s\u001b[0m 7ms/step - accuracy: 0.7960 - loss: 0.4284 - val_accuracy: 0.7662 - val_loss: 0.5017\n",
            "Epoch 19/100\n",
            "\u001b[1m20/20\u001b[0m \u001b[32m━━━━━━━━━━━━━━━━━━━━\u001b[0m\u001b[37m\u001b[0m \u001b[1m0s\u001b[0m 6ms/step - accuracy: 0.7729 - loss: 0.4524 - val_accuracy: 0.7468 - val_loss: 0.5041\n",
            "Epoch 20/100\n",
            "\u001b[1m20/20\u001b[0m \u001b[32m━━━━━━━━━━━━━━━━━━━━\u001b[0m\u001b[37m\u001b[0m \u001b[1m0s\u001b[0m 8ms/step - accuracy: 0.7850 - loss: 0.4617 - val_accuracy: 0.7597 - val_loss: 0.5042\n",
            "Epoch 21/100\n",
            "\u001b[1m20/20\u001b[0m \u001b[32m━━━━━━━━━━━━━━━━━━━━\u001b[0m\u001b[37m\u001b[0m \u001b[1m0s\u001b[0m 8ms/step - accuracy: 0.7665 - loss: 0.4537 - val_accuracy: 0.7597 - val_loss: 0.5029\n",
            "Epoch 22/100\n",
            "\u001b[1m20/20\u001b[0m \u001b[32m━━━━━━━━━━━━━━━━━━━━\u001b[0m\u001b[37m\u001b[0m \u001b[1m0s\u001b[0m 10ms/step - accuracy: 0.7822 - loss: 0.4501 - val_accuracy: 0.7662 - val_loss: 0.5039\n",
            "Epoch 23/100\n",
            "\u001b[1m20/20\u001b[0m \u001b[32m━━━━━━━━━━━━━━━━━━━━\u001b[0m\u001b[37m\u001b[0m \u001b[1m0s\u001b[0m 7ms/step - accuracy: 0.7632 - loss: 0.4603 - val_accuracy: 0.7532 - val_loss: 0.5044\n",
            "Epoch 24/100\n",
            "\u001b[1m20/20\u001b[0m \u001b[32m━━━━━━━━━━━━━━━━━━━━\u001b[0m\u001b[37m\u001b[0m \u001b[1m0s\u001b[0m 6ms/step - accuracy: 0.7964 - loss: 0.4413 - val_accuracy: 0.7532 - val_loss: 0.5033\n",
            "Epoch 25/100\n",
            "\u001b[1m20/20\u001b[0m \u001b[32m━━━━━━━━━━━━━━━━━━━━\u001b[0m\u001b[37m\u001b[0m \u001b[1m0s\u001b[0m 6ms/step - accuracy: 0.7975 - loss: 0.4210 - val_accuracy: 0.7532 - val_loss: 0.5043\n",
            "Epoch 26/100\n",
            "\u001b[1m20/20\u001b[0m \u001b[32m━━━━━━━━━━━━━━━━━━━━\u001b[0m\u001b[37m\u001b[0m \u001b[1m0s\u001b[0m 9ms/step - accuracy: 0.7777 - loss: 0.4329 - val_accuracy: 0.7727 - val_loss: 0.5034\n",
            "Epoch 27/100\n",
            "\u001b[1m20/20\u001b[0m \u001b[32m━━━━━━━━━━━━━━━━━━━━\u001b[0m\u001b[37m\u001b[0m \u001b[1m0s\u001b[0m 6ms/step - accuracy: 0.7775 - loss: 0.4405 - val_accuracy: 0.7727 - val_loss: 0.5040\n",
            "Epoch 28/100\n",
            "\u001b[1m20/20\u001b[0m \u001b[32m━━━━━━━━━━━━━━━━━━━━\u001b[0m\u001b[37m\u001b[0m \u001b[1m0s\u001b[0m 6ms/step - accuracy: 0.7790 - loss: 0.4297 - val_accuracy: 0.7597 - val_loss: 0.5060\n",
            "Epoch 29/100\n",
            "\u001b[1m20/20\u001b[0m \u001b[32m━━━━━━━━━━━━━━━━━━━━\u001b[0m\u001b[37m\u001b[0m \u001b[1m0s\u001b[0m 9ms/step - accuracy: 0.7796 - loss: 0.4309 - val_accuracy: 0.7532 - val_loss: 0.5079\n",
            "Epoch 30/100\n",
            "\u001b[1m20/20\u001b[0m \u001b[32m━━━━━━━━━━━━━━━━━━━━\u001b[0m\u001b[37m\u001b[0m \u001b[1m0s\u001b[0m 7ms/step - accuracy: 0.8099 - loss: 0.4095 - val_accuracy: 0.7532 - val_loss: 0.5087\n",
            "Epoch 31/100\n",
            "\u001b[1m20/20\u001b[0m \u001b[32m━━━━━━━━━━━━━━━━━━━━\u001b[0m\u001b[37m\u001b[0m \u001b[1m0s\u001b[0m 6ms/step - accuracy: 0.7852 - loss: 0.4316 - val_accuracy: 0.7662 - val_loss: 0.5076\n",
            "Epoch 32/100\n",
            "\u001b[1m20/20\u001b[0m \u001b[32m━━━━━━━━━━━━━━━━━━━━\u001b[0m\u001b[37m\u001b[0m \u001b[1m0s\u001b[0m 6ms/step - accuracy: 0.8024 - loss: 0.3980 - val_accuracy: 0.7597 - val_loss: 0.5100\n",
            "Epoch 33/100\n",
            "\u001b[1m20/20\u001b[0m \u001b[32m━━━━━━━━━━━━━━━━━━━━\u001b[0m\u001b[37m\u001b[0m \u001b[1m0s\u001b[0m 6ms/step - accuracy: 0.7880 - loss: 0.4251 - val_accuracy: 0.7597 - val_loss: 0.5125\n",
            "Epoch 34/100\n",
            "\u001b[1m20/20\u001b[0m \u001b[32m━━━━━━━━━━━━━━━━━━━━\u001b[0m\u001b[37m\u001b[0m \u001b[1m0s\u001b[0m 7ms/step - accuracy: 0.8186 - loss: 0.4283 - val_accuracy: 0.7532 - val_loss: 0.5137\n",
            "Epoch 35/100\n",
            "\u001b[1m20/20\u001b[0m \u001b[32m━━━━━━━━━━━━━━━━━━━━\u001b[0m\u001b[37m\u001b[0m \u001b[1m0s\u001b[0m 6ms/step - accuracy: 0.7784 - loss: 0.4182 - val_accuracy: 0.7597 - val_loss: 0.5143\n",
            "Epoch 36/100\n",
            "\u001b[1m20/20\u001b[0m \u001b[32m━━━━━━━━━━━━━━━━━━━━\u001b[0m\u001b[37m\u001b[0m \u001b[1m0s\u001b[0m 9ms/step - accuracy: 0.7845 - loss: 0.4419 - val_accuracy: 0.7597 - val_loss: 0.5141\n",
            "Epoch 37/100\n",
            "\u001b[1m20/20\u001b[0m \u001b[32m━━━━━━━━━━━━━━━━━━━━\u001b[0m\u001b[37m\u001b[0m \u001b[1m0s\u001b[0m 6ms/step - accuracy: 0.7921 - loss: 0.4209 - val_accuracy: 0.7597 - val_loss: 0.5147\n",
            "Epoch 38/100\n",
            "\u001b[1m20/20\u001b[0m \u001b[32m━━━━━━━━━━━━━━━━━━━━\u001b[0m\u001b[37m\u001b[0m \u001b[1m0s\u001b[0m 7ms/step - accuracy: 0.7661 - loss: 0.4595 - val_accuracy: 0.7597 - val_loss: 0.5157\n",
            "Epoch 39/100\n",
            "\u001b[1m20/20\u001b[0m \u001b[32m━━━━━━━━━━━━━━━━━━━━\u001b[0m\u001b[37m\u001b[0m \u001b[1m0s\u001b[0m 6ms/step - accuracy: 0.7783 - loss: 0.4510 - val_accuracy: 0.7597 - val_loss: 0.5157\n",
            "Epoch 40/100\n",
            "\u001b[1m20/20\u001b[0m \u001b[32m━━━━━━━━━━━━━━━━━━━━\u001b[0m\u001b[37m\u001b[0m \u001b[1m0s\u001b[0m 12ms/step - accuracy: 0.7664 - loss: 0.4558 - val_accuracy: 0.7597 - val_loss: 0.5155\n",
            "Epoch 41/100\n",
            "\u001b[1m20/20\u001b[0m \u001b[32m━━━━━━━━━━━━━━━━━━━━\u001b[0m\u001b[37m\u001b[0m \u001b[1m0s\u001b[0m 8ms/step - accuracy: 0.7866 - loss: 0.4278 - val_accuracy: 0.7597 - val_loss: 0.5170\n",
            "Epoch 42/100\n",
            "\u001b[1m20/20\u001b[0m \u001b[32m━━━━━━━━━━━━━━━━━━━━\u001b[0m\u001b[37m\u001b[0m \u001b[1m0s\u001b[0m 7ms/step - accuracy: 0.7912 - loss: 0.4324 - val_accuracy: 0.7662 - val_loss: 0.5175\n",
            "Epoch 43/100\n",
            "\u001b[1m20/20\u001b[0m \u001b[32m━━━━━━━━━━━━━━━━━━━━\u001b[0m\u001b[37m\u001b[0m \u001b[1m0s\u001b[0m 6ms/step - accuracy: 0.8011 - loss: 0.4156 - val_accuracy: 0.7662 - val_loss: 0.5174\n",
            "Epoch 44/100\n",
            "\u001b[1m20/20\u001b[0m \u001b[32m━━━━━━━━━━━━━━━━━━━━\u001b[0m\u001b[37m\u001b[0m \u001b[1m0s\u001b[0m 7ms/step - accuracy: 0.7892 - loss: 0.4165 - val_accuracy: 0.7727 - val_loss: 0.5161\n",
            "Epoch 45/100\n",
            "\u001b[1m20/20\u001b[0m \u001b[32m━━━━━━━━━━━━━━━━━━━━\u001b[0m\u001b[37m\u001b[0m \u001b[1m0s\u001b[0m 6ms/step - accuracy: 0.7751 - loss: 0.4375 - val_accuracy: 0.7597 - val_loss: 0.5184\n",
            "Epoch 46/100\n",
            "\u001b[1m20/20\u001b[0m \u001b[32m━━━━━━━━━━━━━━━━━━━━\u001b[0m\u001b[37m\u001b[0m \u001b[1m1s\u001b[0m 37ms/step - accuracy: 0.7971 - loss: 0.4198 - val_accuracy: 0.7597 - val_loss: 0.5177\n",
            "Epoch 47/100\n",
            "\u001b[1m20/20\u001b[0m \u001b[32m━━━━━━━━━━━━━━━━━━━━\u001b[0m\u001b[37m\u001b[0m \u001b[1m1s\u001b[0m 29ms/step - accuracy: 0.7843 - loss: 0.4197 - val_accuracy: 0.7597 - val_loss: 0.5167\n",
            "Epoch 48/100\n",
            "\u001b[1m20/20\u001b[0m \u001b[32m━━━━━━━━━━━━━━━━━━━━\u001b[0m\u001b[37m\u001b[0m \u001b[1m1s\u001b[0m 18ms/step - accuracy: 0.7959 - loss: 0.4268 - val_accuracy: 0.7727 - val_loss: 0.5163\n",
            "Epoch 49/100\n",
            "\u001b[1m20/20\u001b[0m \u001b[32m━━━━━━━━━━━━━━━━━━━━\u001b[0m\u001b[37m\u001b[0m \u001b[1m0s\u001b[0m 8ms/step - accuracy: 0.7959 - loss: 0.4315 - val_accuracy: 0.7597 - val_loss: 0.5177\n",
            "Epoch 50/100\n",
            "\u001b[1m20/20\u001b[0m \u001b[32m━━━━━━━━━━━━━━━━━━━━\u001b[0m\u001b[37m\u001b[0m \u001b[1m0s\u001b[0m 8ms/step - accuracy: 0.7961 - loss: 0.4175 - val_accuracy: 0.7597 - val_loss: 0.5179\n",
            "Epoch 51/100\n",
            "\u001b[1m20/20\u001b[0m \u001b[32m━━━━━━━━━━━━━━━━━━━━\u001b[0m\u001b[37m\u001b[0m \u001b[1m0s\u001b[0m 6ms/step - accuracy: 0.7933 - loss: 0.4165 - val_accuracy: 0.7727 - val_loss: 0.5154\n",
            "Epoch 52/100\n",
            "\u001b[1m20/20\u001b[0m \u001b[32m━━━━━━━━━━━━━━━━━━━━\u001b[0m\u001b[37m\u001b[0m \u001b[1m0s\u001b[0m 7ms/step - accuracy: 0.7721 - loss: 0.4466 - val_accuracy: 0.7727 - val_loss: 0.5166\n",
            "Epoch 53/100\n",
            "\u001b[1m20/20\u001b[0m \u001b[32m━━━━━━━━━━━━━━━━━━━━\u001b[0m\u001b[37m\u001b[0m \u001b[1m0s\u001b[0m 7ms/step - accuracy: 0.7889 - loss: 0.4141 - val_accuracy: 0.7662 - val_loss: 0.5171\n",
            "Epoch 54/100\n",
            "\u001b[1m20/20\u001b[0m \u001b[32m━━━━━━━━━━━━━━━━━━━━\u001b[0m\u001b[37m\u001b[0m \u001b[1m0s\u001b[0m 8ms/step - accuracy: 0.7907 - loss: 0.4096 - val_accuracy: 0.7662 - val_loss: 0.5177\n",
            "Epoch 55/100\n",
            "\u001b[1m20/20\u001b[0m \u001b[32m━━━━━━━━━━━━━━━━━━━━\u001b[0m\u001b[37m\u001b[0m \u001b[1m0s\u001b[0m 13ms/step - accuracy: 0.7930 - loss: 0.4168 - val_accuracy: 0.7662 - val_loss: 0.5176\n",
            "Epoch 56/100\n",
            "\u001b[1m20/20\u001b[0m \u001b[32m━━━━━━━━━━━━━━━━━━━━\u001b[0m\u001b[37m\u001b[0m \u001b[1m0s\u001b[0m 6ms/step - accuracy: 0.7820 - loss: 0.4108 - val_accuracy: 0.7662 - val_loss: 0.5183\n",
            "Epoch 57/100\n",
            "\u001b[1m20/20\u001b[0m \u001b[32m━━━━━━━━━━━━━━━━━━━━\u001b[0m\u001b[37m\u001b[0m \u001b[1m0s\u001b[0m 7ms/step - accuracy: 0.7715 - loss: 0.4200 - val_accuracy: 0.7662 - val_loss: 0.5171\n",
            "Epoch 58/100\n",
            "\u001b[1m20/20\u001b[0m \u001b[32m━━━━━━━━━━━━━━━━━━━━\u001b[0m\u001b[37m\u001b[0m \u001b[1m0s\u001b[0m 7ms/step - accuracy: 0.7615 - loss: 0.4403 - val_accuracy: 0.7662 - val_loss: 0.5194\n",
            "Epoch 59/100\n",
            "\u001b[1m20/20\u001b[0m \u001b[32m━━━━━━━━━━━━━━━━━━━━\u001b[0m\u001b[37m\u001b[0m \u001b[1m0s\u001b[0m 6ms/step - accuracy: 0.7811 - loss: 0.4162 - val_accuracy: 0.7597 - val_loss: 0.5213\n",
            "Epoch 60/100\n",
            "\u001b[1m20/20\u001b[0m \u001b[32m━━━━━━━━━━━━━━━━━━━━\u001b[0m\u001b[37m\u001b[0m \u001b[1m0s\u001b[0m 7ms/step - accuracy: 0.7883 - loss: 0.4164 - val_accuracy: 0.7662 - val_loss: 0.5203\n",
            "Epoch 61/100\n",
            "\u001b[1m20/20\u001b[0m \u001b[32m━━━━━━━━━━━━━━━━━━━━\u001b[0m\u001b[37m\u001b[0m \u001b[1m0s\u001b[0m 8ms/step - accuracy: 0.7651 - loss: 0.4441 - val_accuracy: 0.7597 - val_loss: 0.5218\n",
            "Epoch 62/100\n",
            "\u001b[1m20/20\u001b[0m \u001b[32m━━━━━━━━━━━━━━━━━━━━\u001b[0m\u001b[37m\u001b[0m \u001b[1m0s\u001b[0m 7ms/step - accuracy: 0.7821 - loss: 0.4245 - val_accuracy: 0.7597 - val_loss: 0.5211\n",
            "Epoch 63/100\n",
            "\u001b[1m20/20\u001b[0m \u001b[32m━━━━━━━━━━━━━━━━━━━━\u001b[0m\u001b[37m\u001b[0m \u001b[1m0s\u001b[0m 8ms/step - accuracy: 0.8107 - loss: 0.3830 - val_accuracy: 0.7597 - val_loss: 0.5230\n",
            "Epoch 64/100\n",
            "\u001b[1m20/20\u001b[0m \u001b[32m━━━━━━━━━━━━━━━━━━━━\u001b[0m\u001b[37m\u001b[0m \u001b[1m0s\u001b[0m 7ms/step - accuracy: 0.7804 - loss: 0.4254 - val_accuracy: 0.7597 - val_loss: 0.5230\n",
            "Epoch 65/100\n",
            "\u001b[1m20/20\u001b[0m \u001b[32m━━━━━━━━━━━━━━━━━━━━\u001b[0m\u001b[37m\u001b[0m \u001b[1m0s\u001b[0m 9ms/step - accuracy: 0.8060 - loss: 0.4125 - val_accuracy: 0.7597 - val_loss: 0.5212\n",
            "Epoch 66/100\n",
            "\u001b[1m20/20\u001b[0m \u001b[32m━━━━━━━━━━━━━━━━━━━━\u001b[0m\u001b[37m\u001b[0m \u001b[1m0s\u001b[0m 7ms/step - accuracy: 0.8061 - loss: 0.4039 - val_accuracy: 0.7662 - val_loss: 0.5223\n",
            "Epoch 67/100\n",
            "\u001b[1m20/20\u001b[0m \u001b[32m━━━━━━━━━━━━━━━━━━━━\u001b[0m\u001b[37m\u001b[0m \u001b[1m0s\u001b[0m 8ms/step - accuracy: 0.8003 - loss: 0.4047 - val_accuracy: 0.7532 - val_loss: 0.5214\n",
            "Epoch 68/100\n",
            "\u001b[1m20/20\u001b[0m \u001b[32m━━━━━━━━━━━━━━━━━━━━\u001b[0m\u001b[37m\u001b[0m \u001b[1m0s\u001b[0m 11ms/step - accuracy: 0.7953 - loss: 0.3902 - val_accuracy: 0.7597 - val_loss: 0.5207\n",
            "Epoch 69/100\n",
            "\u001b[1m20/20\u001b[0m \u001b[32m━━━━━━━━━━━━━━━━━━━━\u001b[0m\u001b[37m\u001b[0m \u001b[1m0s\u001b[0m 7ms/step - accuracy: 0.7831 - loss: 0.4270 - val_accuracy: 0.7597 - val_loss: 0.5214\n",
            "Epoch 70/100\n",
            "\u001b[1m20/20\u001b[0m \u001b[32m━━━━━━━━━━━━━━━━━━━━\u001b[0m\u001b[37m\u001b[0m \u001b[1m0s\u001b[0m 6ms/step - accuracy: 0.7783 - loss: 0.4192 - val_accuracy: 0.7597 - val_loss: 0.5236\n",
            "Epoch 71/100\n",
            "\u001b[1m20/20\u001b[0m \u001b[32m━━━━━━━━━━━━━━━━━━━━\u001b[0m\u001b[37m\u001b[0m \u001b[1m0s\u001b[0m 8ms/step - accuracy: 0.7653 - loss: 0.4400 - val_accuracy: 0.7597 - val_loss: 0.5228\n",
            "Epoch 72/100\n",
            "\u001b[1m20/20\u001b[0m \u001b[32m━━━━━━━━━━━━━━━━━━━━\u001b[0m\u001b[37m\u001b[0m \u001b[1m0s\u001b[0m 8ms/step - accuracy: 0.8161 - loss: 0.3810 - val_accuracy: 0.7597 - val_loss: 0.5237\n",
            "Epoch 73/100\n",
            "\u001b[1m20/20\u001b[0m \u001b[32m━━━━━━━━━━━━━━━━━━━━\u001b[0m\u001b[37m\u001b[0m \u001b[1m0s\u001b[0m 9ms/step - accuracy: 0.7757 - loss: 0.4203 - val_accuracy: 0.7532 - val_loss: 0.5229\n",
            "Epoch 74/100\n",
            "\u001b[1m20/20\u001b[0m \u001b[32m━━━━━━━━━━━━━━━━━━━━\u001b[0m\u001b[37m\u001b[0m \u001b[1m0s\u001b[0m 9ms/step - accuracy: 0.7942 - loss: 0.4101 - val_accuracy: 0.7597 - val_loss: 0.5242\n",
            "Epoch 75/100\n",
            "\u001b[1m20/20\u001b[0m \u001b[32m━━━━━━━━━━━━━━━━━━━━\u001b[0m\u001b[37m\u001b[0m \u001b[1m0s\u001b[0m 6ms/step - accuracy: 0.7799 - loss: 0.4168 - val_accuracy: 0.7662 - val_loss: 0.5250\n",
            "Epoch 76/100\n",
            "\u001b[1m20/20\u001b[0m \u001b[32m━━━━━━━━━━━━━━━━━━━━\u001b[0m\u001b[37m\u001b[0m \u001b[1m0s\u001b[0m 6ms/step - accuracy: 0.7681 - loss: 0.4384 - val_accuracy: 0.7662 - val_loss: 0.5255\n",
            "Epoch 77/100\n",
            "\u001b[1m20/20\u001b[0m \u001b[32m━━━━━━━━━━━━━━━━━━━━\u001b[0m\u001b[37m\u001b[0m \u001b[1m0s\u001b[0m 6ms/step - accuracy: 0.7948 - loss: 0.3982 - val_accuracy: 0.7597 - val_loss: 0.5265\n",
            "Epoch 78/100\n",
            "\u001b[1m20/20\u001b[0m \u001b[32m━━━━━━━━━━━━━━━━━━━━\u001b[0m\u001b[37m\u001b[0m \u001b[1m0s\u001b[0m 8ms/step - accuracy: 0.7929 - loss: 0.3992 - val_accuracy: 0.7532 - val_loss: 0.5268\n",
            "Epoch 79/100\n",
            "\u001b[1m20/20\u001b[0m \u001b[32m━━━━━━━━━━━━━━━━━━━━\u001b[0m\u001b[37m\u001b[0m \u001b[1m0s\u001b[0m 7ms/step - accuracy: 0.7812 - loss: 0.4216 - val_accuracy: 0.7532 - val_loss: 0.5273\n",
            "Epoch 80/100\n",
            "\u001b[1m20/20\u001b[0m \u001b[32m━━━━━━━━━━━━━━━━━━━━\u001b[0m\u001b[37m\u001b[0m \u001b[1m0s\u001b[0m 7ms/step - accuracy: 0.7824 - loss: 0.4134 - val_accuracy: 0.7468 - val_loss: 0.5320\n",
            "Epoch 81/100\n",
            "\u001b[1m20/20\u001b[0m \u001b[32m━━━━━━━━━━━━━━━━━━━━\u001b[0m\u001b[37m\u001b[0m \u001b[1m0s\u001b[0m 7ms/step - accuracy: 0.8006 - loss: 0.3783 - val_accuracy: 0.7468 - val_loss: 0.5301\n",
            "Epoch 82/100\n",
            "\u001b[1m20/20\u001b[0m \u001b[32m━━━━━━━━━━━━━━━━━━━━\u001b[0m\u001b[37m\u001b[0m \u001b[1m0s\u001b[0m 9ms/step - accuracy: 0.7729 - loss: 0.4033 - val_accuracy: 0.7468 - val_loss: 0.5292\n",
            "Epoch 83/100\n",
            "\u001b[1m20/20\u001b[0m \u001b[32m━━━━━━━━━━━━━━━━━━━━\u001b[0m\u001b[37m\u001b[0m \u001b[1m0s\u001b[0m 6ms/step - accuracy: 0.8055 - loss: 0.3859 - val_accuracy: 0.7468 - val_loss: 0.5309\n",
            "Epoch 84/100\n",
            "\u001b[1m20/20\u001b[0m \u001b[32m━━━━━━━━━━━━━━━━━━━━\u001b[0m\u001b[37m\u001b[0m \u001b[1m0s\u001b[0m 6ms/step - accuracy: 0.7857 - loss: 0.4181 - val_accuracy: 0.7403 - val_loss: 0.5343\n",
            "Epoch 85/100\n",
            "\u001b[1m20/20\u001b[0m \u001b[32m━━━━━━━━━━━━━━━━━━━━\u001b[0m\u001b[37m\u001b[0m \u001b[1m0s\u001b[0m 8ms/step - accuracy: 0.8006 - loss: 0.3944 - val_accuracy: 0.7468 - val_loss: 0.5358\n",
            "Epoch 86/100\n",
            "\u001b[1m20/20\u001b[0m \u001b[32m━━━━━━━━━━━━━━━━━━━━\u001b[0m\u001b[37m\u001b[0m \u001b[1m0s\u001b[0m 10ms/step - accuracy: 0.8036 - loss: 0.3988 - val_accuracy: 0.7403 - val_loss: 0.5392\n",
            "Epoch 87/100\n",
            "\u001b[1m20/20\u001b[0m \u001b[32m━━━━━━━━━━━━━━━━━━━━\u001b[0m\u001b[37m\u001b[0m \u001b[1m0s\u001b[0m 7ms/step - accuracy: 0.7878 - loss: 0.4316 - val_accuracy: 0.7468 - val_loss: 0.5368\n",
            "Epoch 88/100\n",
            "\u001b[1m20/20\u001b[0m \u001b[32m━━━━━━━━━━━━━━━━━━━━\u001b[0m\u001b[37m\u001b[0m \u001b[1m0s\u001b[0m 6ms/step - accuracy: 0.7929 - loss: 0.4015 - val_accuracy: 0.7468 - val_loss: 0.5370\n",
            "Epoch 89/100\n",
            "\u001b[1m20/20\u001b[0m \u001b[32m━━━━━━━━━━━━━━━━━━━━\u001b[0m\u001b[37m\u001b[0m \u001b[1m0s\u001b[0m 15ms/step - accuracy: 0.8171 - loss: 0.3969 - val_accuracy: 0.7468 - val_loss: 0.5352\n",
            "Epoch 90/100\n",
            "\u001b[1m20/20\u001b[0m \u001b[32m━━━━━━━━━━━━━━━━━━━━\u001b[0m\u001b[37m\u001b[0m \u001b[1m1s\u001b[0m 12ms/step - accuracy: 0.7994 - loss: 0.3919 - val_accuracy: 0.7403 - val_loss: 0.5365\n",
            "Epoch 91/100\n",
            "\u001b[1m20/20\u001b[0m \u001b[32m━━━━━━━━━━━━━━━━━━━━\u001b[0m\u001b[37m\u001b[0m \u001b[1m0s\u001b[0m 13ms/step - accuracy: 0.8009 - loss: 0.3874 - val_accuracy: 0.7403 - val_loss: 0.5359\n",
            "Epoch 92/100\n",
            "\u001b[1m20/20\u001b[0m \u001b[32m━━━━━━━━━━━━━━━━━━━━\u001b[0m\u001b[37m\u001b[0m \u001b[1m1s\u001b[0m 16ms/step - accuracy: 0.8039 - loss: 0.3920 - val_accuracy: 0.7403 - val_loss: 0.5347\n",
            "Epoch 93/100\n",
            "\u001b[1m20/20\u001b[0m \u001b[32m━━━━━━━━━━━━━━━━━━━━\u001b[0m\u001b[37m\u001b[0m \u001b[1m1s\u001b[0m 13ms/step - accuracy: 0.7840 - loss: 0.4036 - val_accuracy: 0.7403 - val_loss: 0.5349\n",
            "Epoch 94/100\n",
            "\u001b[1m20/20\u001b[0m \u001b[32m━━━━━━━━━━━━━━━━━━━━\u001b[0m\u001b[37m\u001b[0m \u001b[1m0s\u001b[0m 7ms/step - accuracy: 0.7963 - loss: 0.4030 - val_accuracy: 0.7468 - val_loss: 0.5391\n",
            "Epoch 95/100\n",
            "\u001b[1m20/20\u001b[0m \u001b[32m━━━━━━━━━━━━━━━━━━━━\u001b[0m\u001b[37m\u001b[0m \u001b[1m0s\u001b[0m 9ms/step - accuracy: 0.7879 - loss: 0.4115 - val_accuracy: 0.7468 - val_loss: 0.5390\n",
            "Epoch 96/100\n",
            "\u001b[1m20/20\u001b[0m \u001b[32m━━━━━━━━━━━━━━━━━━━━\u001b[0m\u001b[37m\u001b[0m \u001b[1m0s\u001b[0m 8ms/step - accuracy: 0.8074 - loss: 0.3989 - val_accuracy: 0.7403 - val_loss: 0.5405\n",
            "Epoch 97/100\n",
            "\u001b[1m20/20\u001b[0m \u001b[32m━━━━━━━━━━━━━━━━━━━━\u001b[0m\u001b[37m\u001b[0m \u001b[1m0s\u001b[0m 7ms/step - accuracy: 0.8013 - loss: 0.3902 - val_accuracy: 0.7403 - val_loss: 0.5406\n",
            "Epoch 98/100\n",
            "\u001b[1m20/20\u001b[0m \u001b[32m━━━━━━━━━━━━━━━━━━━━\u001b[0m\u001b[37m\u001b[0m \u001b[1m0s\u001b[0m 13ms/step - accuracy: 0.7736 - loss: 0.4262 - val_accuracy: 0.7403 - val_loss: 0.5404\n",
            "Epoch 99/100\n",
            "\u001b[1m20/20\u001b[0m \u001b[32m━━━━━━━━━━━━━━━━━━━━\u001b[0m\u001b[37m\u001b[0m \u001b[1m0s\u001b[0m 7ms/step - accuracy: 0.7973 - loss: 0.3963 - val_accuracy: 0.7403 - val_loss: 0.5393\n",
            "Epoch 100/100\n",
            "\u001b[1m20/20\u001b[0m \u001b[32m━━━━━━━━━━━━━━━━━━━━\u001b[0m\u001b[37m\u001b[0m \u001b[1m0s\u001b[0m 8ms/step - accuracy: 0.7549 - loss: 0.4144 - val_accuracy: 0.7468 - val_loss: 0.5389\n"
          ]
        }
      ]
    },
    {
      "cell_type": "markdown",
      "source": [
        "![image.png](data:image/png;base64,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)"
      ],
      "metadata": {
        "id": "AhLDtHQ3gGpc"
      }
    },
    {
      "cell_type": "code",
      "source": [
        "\n",
        "\n",
        "!pip install -q -U keras-tuner\n"
      ],
      "metadata": {
        "id": "A3JoyN7wgRUW"
      },
      "execution_count": 57,
      "outputs": []
    },
    {
      "cell_type": "code",
      "source": [
        "import keras_tuner as kt"
      ],
      "metadata": {
        "id": "pduV-wU2gPU-"
      },
      "execution_count": 58,
      "outputs": []
    },
    {
      "cell_type": "markdown",
      "source": [
        "# 1. Define the model building function"
      ],
      "metadata": {
        "id": "zM9JBtBRh0_X"
      }
    },
    {
      "cell_type": "code",
      "source": [
        "def build_model(hp):\n",
        "    model = Sequential()\n",
        "    model.add(Dense(32, activation='relu', input_dim=8))\n",
        "    model.add(Dense(1, activation='sigmoid'))\n",
        "\n",
        "    # This line allows the tuner to choose the best optimizer from the given list during hyperparameter tuning\n",
        "\n",
        "    optimizer = hp.Choice('optimizer', values=['adam', 'sgd', 'rmsprop', 'adadelta'])\n",
        "\n",
        "    model.compile(optimizer=optimizer,\n",
        "                  loss='binary_crossentropy',\n",
        "                  metrics=['accuracy'])\n",
        "\n",
        "    return model"
      ],
      "metadata": {
        "id": "mpVFEF0NgeL8"
      },
      "execution_count": 59,
      "outputs": []
    },
    {
      "cell_type": "markdown",
      "source": [
        "# 2. Set up the tuner"
      ],
      "metadata": {
        "id": "PdVa07yaiClJ"
      }
    },
    {
      "cell_type": "code",
      "source": [
        "tuner = kt.RandomSearch(\n",
        "    build_model,\n",
        "    objective='val_accuracy',\n",
        "    max_trials=5\n",
        ")\n",
        "# This sets up a random search tuner to find the best hyperparameters\n",
        "# - build_model: the model-building function to be tuned\n",
        "# - objective: the metric to optimize ('val_accuracy' in this case)\n",
        "# - max_trials: the number of different hyperparameter combinations to try"
      ],
      "metadata": {
        "colab": {
          "base_uri": "https://localhost:8080/"
        },
        "id": "yV0ifshEiCKn",
        "outputId": "ee8bcf9c-7f57-4db8-b1a8-872b23245303"
      },
      "execution_count": 60,
      "outputs": [
        {
          "output_type": "stream",
          "name": "stdout",
          "text": [
            "Reloading Tuner from ./untitled_project/tuner0.json\n"
          ]
        }
      ]
    },
    {
      "cell_type": "markdown",
      "source": [
        "  # 3. Search for best hyperparameters\n"
      ],
      "metadata": {
        "id": "3EIPwxJ3iWkJ"
      }
    },
    {
      "cell_type": "code",
      "source": [
        "tuner.search(X_train, y_train, epochs=5, validation_data=(X_test, y_test))"
      ],
      "metadata": {
        "id": "9NQmCf7tiWPz"
      },
      "execution_count": 61,
      "outputs": []
    },
    {
      "cell_type": "code",
      "source": [
        "tuner.get_best_hyperparameters()[0].values"
      ],
      "metadata": {
        "colab": {
          "base_uri": "https://localhost:8080/"
        },
        "id": "0I-RsNl-idEB",
        "outputId": "9b405858-cce1-4552-b330-1c4d759bca6d"
      },
      "execution_count": 62,
      "outputs": [
        {
          "output_type": "execute_result",
          "data": {
            "text/plain": [
              "{'optimizer': 'adam'}"
            ]
          },
          "metadata": {},
          "execution_count": 62
        }
      ]
    },
    {
      "cell_type": "code",
      "source": [
        "model = tuner.get_best_models(num_models=1)[0] # pick no. 1 model with higest score"
      ],
      "metadata": {
        "colab": {
          "base_uri": "https://localhost:8080/"
        },
        "id": "XZNjXQh-ixYP",
        "outputId": "e83edceb-a2a9-4f7a-df58-8e21bc522772"
      },
      "execution_count": 63,
      "outputs": [
        {
          "output_type": "stream",
          "name": "stderr",
          "text": [
            "/usr/local/lib/python3.11/dist-packages/keras/src/layers/core/dense.py:87: UserWarning: Do not pass an `input_shape`/`input_dim` argument to a layer. When using Sequential models, prefer using an `Input(shape)` object as the first layer in the model instead.\n",
            "  super().__init__(activity_regularizer=activity_regularizer, **kwargs)\n",
            "/usr/local/lib/python3.11/dist-packages/keras/src/saving/saving_lib.py:757: UserWarning: Skipping variable loading for optimizer 'adam', because it has 2 variables whereas the saved optimizer has 10 variables. \n",
            "  saveable.load_own_variables(weights_store.get(inner_path))\n"
          ]
        }
      ]
    },
    {
      "cell_type": "code",
      "source": [
        "model.summary()"
      ],
      "metadata": {
        "colab": {
          "base_uri": "https://localhost:8080/",
          "height": 0
        },
        "id": "TS6vs5x2i4ri",
        "outputId": "0138f179-4c5f-496d-fade-795ffb84cf77"
      },
      "execution_count": 64,
      "outputs": [
        {
          "output_type": "display_data",
          "data": {
            "text/plain": [
              "\u001b[1mModel: \"sequential\"\u001b[0m\n"
            ],
            "text/html": [
              "<pre style=\"white-space:pre;overflow-x:auto;line-height:normal;font-family:Menlo,'DejaVu Sans Mono',consolas,'Courier New',monospace\"><span style=\"font-weight: bold\">Model: \"sequential\"</span>\n",
              "</pre>\n"
            ]
          },
          "metadata": {}
        },
        {
          "output_type": "display_data",
          "data": {
            "text/plain": [
              "┏━━━━━━━━━━━━━━━━━━━━━━━━━━━━━━━━━┳━━━━━━━━━━━━━━━━━━━━━━━━┳━━━━━━━━━━━━━━━┓\n",
              "┃\u001b[1m \u001b[0m\u001b[1mLayer (type)                   \u001b[0m\u001b[1m \u001b[0m┃\u001b[1m \u001b[0m\u001b[1mOutput Shape          \u001b[0m\u001b[1m \u001b[0m┃\u001b[1m \u001b[0m\u001b[1m      Param #\u001b[0m\u001b[1m \u001b[0m┃\n",
              "┡━━━━━━━━━━━━━━━━━━━━━━━━━━━━━━━━━╇━━━━━━━━━━━━━━━━━━━━━━━━╇━━━━━━━━━━━━━━━┩\n",
              "│ dense (\u001b[38;5;33mDense\u001b[0m)                   │ (\u001b[38;5;45mNone\u001b[0m, \u001b[38;5;34m32\u001b[0m)             │           \u001b[38;5;34m288\u001b[0m │\n",
              "├─────────────────────────────────┼────────────────────────┼───────────────┤\n",
              "│ dense_1 (\u001b[38;5;33mDense\u001b[0m)                 │ (\u001b[38;5;45mNone\u001b[0m, \u001b[38;5;34m1\u001b[0m)              │            \u001b[38;5;34m33\u001b[0m │\n",
              "└─────────────────────────────────┴────────────────────────┴───────────────┘\n"
            ],
            "text/html": [
              "<pre style=\"white-space:pre;overflow-x:auto;line-height:normal;font-family:Menlo,'DejaVu Sans Mono',consolas,'Courier New',monospace\">┏━━━━━━━━━━━━━━━━━━━━━━━━━━━━━━━━━┳━━━━━━━━━━━━━━━━━━━━━━━━┳━━━━━━━━━━━━━━━┓\n",
              "┃<span style=\"font-weight: bold\"> Layer (type)                    </span>┃<span style=\"font-weight: bold\"> Output Shape           </span>┃<span style=\"font-weight: bold\">       Param # </span>┃\n",
              "┡━━━━━━━━━━━━━━━━━━━━━━━━━━━━━━━━━╇━━━━━━━━━━━━━━━━━━━━━━━━╇━━━━━━━━━━━━━━━┩\n",
              "│ dense (<span style=\"color: #0087ff; text-decoration-color: #0087ff\">Dense</span>)                   │ (<span style=\"color: #00d7ff; text-decoration-color: #00d7ff\">None</span>, <span style=\"color: #00af00; text-decoration-color: #00af00\">32</span>)             │           <span style=\"color: #00af00; text-decoration-color: #00af00\">288</span> │\n",
              "├─────────────────────────────────┼────────────────────────┼───────────────┤\n",
              "│ dense_1 (<span style=\"color: #0087ff; text-decoration-color: #0087ff\">Dense</span>)                 │ (<span style=\"color: #00d7ff; text-decoration-color: #00d7ff\">None</span>, <span style=\"color: #00af00; text-decoration-color: #00af00\">1</span>)              │            <span style=\"color: #00af00; text-decoration-color: #00af00\">33</span> │\n",
              "└─────────────────────────────────┴────────────────────────┴───────────────┘\n",
              "</pre>\n"
            ]
          },
          "metadata": {}
        },
        {
          "output_type": "display_data",
          "data": {
            "text/plain": [
              "\u001b[1m Total params: \u001b[0m\u001b[38;5;34m321\u001b[0m (1.25 KB)\n"
            ],
            "text/html": [
              "<pre style=\"white-space:pre;overflow-x:auto;line-height:normal;font-family:Menlo,'DejaVu Sans Mono',consolas,'Courier New',monospace\"><span style=\"font-weight: bold\"> Total params: </span><span style=\"color: #00af00; text-decoration-color: #00af00\">321</span> (1.25 KB)\n",
              "</pre>\n"
            ]
          },
          "metadata": {}
        },
        {
          "output_type": "display_data",
          "data": {
            "text/plain": [
              "\u001b[1m Trainable params: \u001b[0m\u001b[38;5;34m321\u001b[0m (1.25 KB)\n"
            ],
            "text/html": [
              "<pre style=\"white-space:pre;overflow-x:auto;line-height:normal;font-family:Menlo,'DejaVu Sans Mono',consolas,'Courier New',monospace\"><span style=\"font-weight: bold\"> Trainable params: </span><span style=\"color: #00af00; text-decoration-color: #00af00\">321</span> (1.25 KB)\n",
              "</pre>\n"
            ]
          },
          "metadata": {}
        },
        {
          "output_type": "display_data",
          "data": {
            "text/plain": [
              "\u001b[1m Non-trainable params: \u001b[0m\u001b[38;5;34m0\u001b[0m (0.00 B)\n"
            ],
            "text/html": [
              "<pre style=\"white-space:pre;overflow-x:auto;line-height:normal;font-family:Menlo,'DejaVu Sans Mono',consolas,'Courier New',monospace\"><span style=\"font-weight: bold\"> Non-trainable params: </span><span style=\"color: #00af00; text-decoration-color: #00af00\">0</span> (0.00 B)\n",
              "</pre>\n"
            ]
          },
          "metadata": {}
        }
      ]
    },
    {
      "cell_type": "markdown",
      "source": [
        "# 4.now after getting best model continue training it from next epoch"
      ],
      "metadata": {
        "id": "YG6myW1kjRxM"
      }
    },
    {
      "cell_type": "code",
      "source": [
        "model.fit(X_train, y_train,batch_size=32, epochs=100, initial_epoch=6, validation_data=(X_test, y_test))"
      ],
      "metadata": {
        "colab": {
          "base_uri": "https://localhost:8080/"
        },
        "id": "Yh0PU0ywi9R2",
        "outputId": "cf5d7498-fd4e-4bdc-e81f-a7bbfd4569fd"
      },
      "execution_count": 65,
      "outputs": [
        {
          "output_type": "stream",
          "name": "stdout",
          "text": [
            "Epoch 7/100\n",
            "\u001b[1m20/20\u001b[0m \u001b[32m━━━━━━━━━━━━━━━━━━━━\u001b[0m\u001b[37m\u001b[0m \u001b[1m2s\u001b[0m 25ms/step - accuracy: 0.7180 - loss: 0.5495 - val_accuracy: 0.6948 - val_loss: 0.5797\n",
            "Epoch 8/100\n",
            "\u001b[1m20/20\u001b[0m \u001b[32m━━━━━━━━━━━━━━━━━━━━\u001b[0m\u001b[37m\u001b[0m \u001b[1m0s\u001b[0m 8ms/step - accuracy: 0.7309 - loss: 0.5237 - val_accuracy: 0.6818 - val_loss: 0.5662\n",
            "Epoch 9/100\n",
            "\u001b[1m20/20\u001b[0m \u001b[32m━━━━━━━━━━━━━━━━━━━━\u001b[0m\u001b[37m\u001b[0m \u001b[1m0s\u001b[0m 6ms/step - accuracy: 0.7335 - loss: 0.5195 - val_accuracy: 0.7078 - val_loss: 0.5549\n",
            "Epoch 10/100\n",
            "\u001b[1m20/20\u001b[0m \u001b[32m━━━━━━━━━━━━━━━━━━━━\u001b[0m\u001b[37m\u001b[0m \u001b[1m0s\u001b[0m 12ms/step - accuracy: 0.7617 - loss: 0.4791 - val_accuracy: 0.7078 - val_loss: 0.5459\n",
            "Epoch 11/100\n",
            "\u001b[1m20/20\u001b[0m \u001b[32m━━━━━━━━━━━━━━━━━━━━\u001b[0m\u001b[37m\u001b[0m \u001b[1m0s\u001b[0m 14ms/step - accuracy: 0.7597 - loss: 0.4766 - val_accuracy: 0.7208 - val_loss: 0.5389\n",
            "Epoch 12/100\n",
            "\u001b[1m20/20\u001b[0m \u001b[32m━━━━━━━━━━━━━━━━━━━━\u001b[0m\u001b[37m\u001b[0m \u001b[1m1s\u001b[0m 12ms/step - accuracy: 0.7664 - loss: 0.4743 - val_accuracy: 0.7208 - val_loss: 0.5340\n",
            "Epoch 13/100\n",
            "\u001b[1m20/20\u001b[0m \u001b[32m━━━━━━━━━━━━━━━━━━━━\u001b[0m\u001b[37m\u001b[0m \u001b[1m1s\u001b[0m 15ms/step - accuracy: 0.7755 - loss: 0.4701 - val_accuracy: 0.7403 - val_loss: 0.5285\n",
            "Epoch 14/100\n",
            "\u001b[1m20/20\u001b[0m \u001b[32m━━━━━━━━━━━━━━━━━━━━\u001b[0m\u001b[37m\u001b[0m \u001b[1m1s\u001b[0m 17ms/step - accuracy: 0.7839 - loss: 0.4581 - val_accuracy: 0.7468 - val_loss: 0.5247\n",
            "Epoch 15/100\n",
            "\u001b[1m20/20\u001b[0m \u001b[32m━━━━━━━━━━━━━━━━━━━━\u001b[0m\u001b[37m\u001b[0m \u001b[1m1s\u001b[0m 21ms/step - accuracy: 0.7978 - loss: 0.4535 - val_accuracy: 0.7468 - val_loss: 0.5209\n",
            "Epoch 16/100\n",
            "\u001b[1m20/20\u001b[0m \u001b[32m━━━━━━━━━━━━━━━━━━━━\u001b[0m\u001b[37m\u001b[0m \u001b[1m0s\u001b[0m 17ms/step - accuracy: 0.7832 - loss: 0.4603 - val_accuracy: 0.7532 - val_loss: 0.5187\n",
            "Epoch 17/100\n",
            "\u001b[1m20/20\u001b[0m \u001b[32m━━━━━━━━━━━━━━━━━━━━\u001b[0m\u001b[37m\u001b[0m \u001b[1m0s\u001b[0m 15ms/step - accuracy: 0.7506 - loss: 0.4845 - val_accuracy: 0.7338 - val_loss: 0.5172\n",
            "Epoch 18/100\n",
            "\u001b[1m20/20\u001b[0m \u001b[32m━━━━━━━━━━━━━━━━━━━━\u001b[0m\u001b[37m\u001b[0m \u001b[1m1s\u001b[0m 23ms/step - accuracy: 0.7774 - loss: 0.4364 - val_accuracy: 0.7468 - val_loss: 0.5149\n",
            "Epoch 19/100\n",
            "\u001b[1m20/20\u001b[0m \u001b[32m━━━━━━━━━━━━━━━━━━━━\u001b[0m\u001b[37m\u001b[0m \u001b[1m0s\u001b[0m 19ms/step - accuracy: 0.7822 - loss: 0.4376 - val_accuracy: 0.7403 - val_loss: 0.5150\n",
            "Epoch 20/100\n",
            "\u001b[1m20/20\u001b[0m \u001b[32m━━━━━━━━━━━━━━━━━━━━\u001b[0m\u001b[37m\u001b[0m \u001b[1m0s\u001b[0m 20ms/step - accuracy: 0.7893 - loss: 0.4433 - val_accuracy: 0.7468 - val_loss: 0.5154\n",
            "Epoch 21/100\n",
            "\u001b[1m20/20\u001b[0m \u001b[32m━━━━━━━━━━━━━━━━━━━━\u001b[0m\u001b[37m\u001b[0m \u001b[1m0s\u001b[0m 22ms/step - accuracy: 0.7551 - loss: 0.4710 - val_accuracy: 0.7532 - val_loss: 0.5146\n",
            "Epoch 22/100\n",
            "\u001b[1m20/20\u001b[0m \u001b[32m━━━━━━━━━━━━━━━━━━━━\u001b[0m\u001b[37m\u001b[0m \u001b[1m1s\u001b[0m 37ms/step - accuracy: 0.7725 - loss: 0.4520 - val_accuracy: 0.7532 - val_loss: 0.5144\n",
            "Epoch 23/100\n",
            "\u001b[1m20/20\u001b[0m \u001b[32m━━━━━━━━━━━━━━━━━━━━\u001b[0m\u001b[37m\u001b[0m \u001b[1m1s\u001b[0m 36ms/step - accuracy: 0.7991 - loss: 0.4346 - val_accuracy: 0.7532 - val_loss: 0.5137\n",
            "Epoch 24/100\n",
            "\u001b[1m20/20\u001b[0m \u001b[32m━━━━━━━━━━━━━━━━━━━━\u001b[0m\u001b[37m\u001b[0m \u001b[1m1s\u001b[0m 23ms/step - accuracy: 0.7728 - loss: 0.4475 - val_accuracy: 0.7468 - val_loss: 0.5136\n",
            "Epoch 25/100\n",
            "\u001b[1m20/20\u001b[0m \u001b[32m━━━━━━━━━━━━━━━━━━━━\u001b[0m\u001b[37m\u001b[0m \u001b[1m1s\u001b[0m 28ms/step - accuracy: 0.7919 - loss: 0.4479 - val_accuracy: 0.7532 - val_loss: 0.5122\n",
            "Epoch 26/100\n",
            "\u001b[1m20/20\u001b[0m \u001b[32m━━━━━━━━━━━━━━━━━━━━\u001b[0m\u001b[37m\u001b[0m \u001b[1m1s\u001b[0m 36ms/step - accuracy: 0.7703 - loss: 0.4555 - val_accuracy: 0.7532 - val_loss: 0.5140\n",
            "Epoch 27/100\n",
            "\u001b[1m20/20\u001b[0m \u001b[32m━━━━━━━━━━━━━━━━━━━━\u001b[0m\u001b[37m\u001b[0m \u001b[1m0s\u001b[0m 23ms/step - accuracy: 0.7638 - loss: 0.4466 - val_accuracy: 0.7532 - val_loss: 0.5139\n",
            "Epoch 28/100\n",
            "\u001b[1m20/20\u001b[0m \u001b[32m━━━━━━━━━━━━━━━━━━━━\u001b[0m\u001b[37m\u001b[0m \u001b[1m0s\u001b[0m 16ms/step - accuracy: 0.8109 - loss: 0.4038 - val_accuracy: 0.7727 - val_loss: 0.5140\n",
            "Epoch 29/100\n",
            "\u001b[1m20/20\u001b[0m \u001b[32m━━━━━━━━━━━━━━━━━━━━\u001b[0m\u001b[37m\u001b[0m \u001b[1m1s\u001b[0m 23ms/step - accuracy: 0.7774 - loss: 0.4532 - val_accuracy: 0.7662 - val_loss: 0.5156\n",
            "Epoch 30/100\n",
            "\u001b[1m20/20\u001b[0m \u001b[32m━━━━━━━━━━━━━━━━━━━━\u001b[0m\u001b[37m\u001b[0m \u001b[1m0s\u001b[0m 8ms/step - accuracy: 0.7865 - loss: 0.4249 - val_accuracy: 0.7727 - val_loss: 0.5164\n",
            "Epoch 31/100\n",
            "\u001b[1m20/20\u001b[0m \u001b[32m━━━━━━━━━━━━━━━━━━━━\u001b[0m\u001b[37m\u001b[0m \u001b[1m0s\u001b[0m 8ms/step - accuracy: 0.7965 - loss: 0.4288 - val_accuracy: 0.7662 - val_loss: 0.5160\n",
            "Epoch 32/100\n",
            "\u001b[1m20/20\u001b[0m \u001b[32m━━━━━━━━━━━━━━━━━━━━\u001b[0m\u001b[37m\u001b[0m \u001b[1m0s\u001b[0m 7ms/step - accuracy: 0.7735 - loss: 0.4455 - val_accuracy: 0.7727 - val_loss: 0.5174\n",
            "Epoch 33/100\n",
            "\u001b[1m20/20\u001b[0m \u001b[32m━━━━━━━━━━━━━━━━━━━━\u001b[0m\u001b[37m\u001b[0m \u001b[1m0s\u001b[0m 8ms/step - accuracy: 0.8054 - loss: 0.4173 - val_accuracy: 0.7727 - val_loss: 0.5169\n",
            "Epoch 34/100\n",
            "\u001b[1m20/20\u001b[0m \u001b[32m━━━━━━━━━━━━━━━━━━━━\u001b[0m\u001b[37m\u001b[0m \u001b[1m0s\u001b[0m 7ms/step - accuracy: 0.8121 - loss: 0.4110 - val_accuracy: 0.7662 - val_loss: 0.5170\n",
            "Epoch 35/100\n",
            "\u001b[1m20/20\u001b[0m \u001b[32m━━━━━━━━━━━━━━━━━━━━\u001b[0m\u001b[37m\u001b[0m \u001b[1m0s\u001b[0m 7ms/step - accuracy: 0.8073 - loss: 0.3921 - val_accuracy: 0.7662 - val_loss: 0.5166\n",
            "Epoch 36/100\n",
            "\u001b[1m20/20\u001b[0m \u001b[32m━━━━━━━━━━━━━━━━━━━━\u001b[0m\u001b[37m\u001b[0m \u001b[1m0s\u001b[0m 7ms/step - accuracy: 0.7875 - loss: 0.4366 - val_accuracy: 0.7662 - val_loss: 0.5163\n",
            "Epoch 37/100\n",
            "\u001b[1m20/20\u001b[0m \u001b[32m━━━━━━━━━━━━━━━━━━━━\u001b[0m\u001b[37m\u001b[0m \u001b[1m0s\u001b[0m 9ms/step - accuracy: 0.7989 - loss: 0.4325 - val_accuracy: 0.7597 - val_loss: 0.5186\n",
            "Epoch 38/100\n",
            "\u001b[1m20/20\u001b[0m \u001b[32m━━━━━━━━━━━━━━━━━━━━\u001b[0m\u001b[37m\u001b[0m \u001b[1m0s\u001b[0m 6ms/step - accuracy: 0.7920 - loss: 0.4315 - val_accuracy: 0.7597 - val_loss: 0.5183\n",
            "Epoch 39/100\n",
            "\u001b[1m20/20\u001b[0m \u001b[32m━━━━━━━━━━━━━━━━━━━━\u001b[0m\u001b[37m\u001b[0m \u001b[1m0s\u001b[0m 7ms/step - accuracy: 0.7862 - loss: 0.4378 - val_accuracy: 0.7662 - val_loss: 0.5198\n",
            "Epoch 40/100\n",
            "\u001b[1m20/20\u001b[0m \u001b[32m━━━━━━━━━━━━━━━━━━━━\u001b[0m\u001b[37m\u001b[0m \u001b[1m0s\u001b[0m 6ms/step - accuracy: 0.8134 - loss: 0.4245 - val_accuracy: 0.7727 - val_loss: 0.5194\n",
            "Epoch 41/100\n",
            "\u001b[1m20/20\u001b[0m \u001b[32m━━━━━━━━━━━━━━━━━━━━\u001b[0m\u001b[37m\u001b[0m \u001b[1m0s\u001b[0m 6ms/step - accuracy: 0.7743 - loss: 0.4697 - val_accuracy: 0.7727 - val_loss: 0.5211\n",
            "Epoch 42/100\n",
            "\u001b[1m20/20\u001b[0m \u001b[32m━━━━━━━━━━━━━━━━━━━━\u001b[0m\u001b[37m\u001b[0m \u001b[1m0s\u001b[0m 6ms/step - accuracy: 0.8104 - loss: 0.3995 - val_accuracy: 0.7662 - val_loss: 0.5220\n",
            "Epoch 43/100\n",
            "\u001b[1m20/20\u001b[0m \u001b[32m━━━━━━━━━━━━━━━━━━━━\u001b[0m\u001b[37m\u001b[0m \u001b[1m0s\u001b[0m 9ms/step - accuracy: 0.8043 - loss: 0.4134 - val_accuracy: 0.7727 - val_loss: 0.5199\n",
            "Epoch 44/100\n",
            "\u001b[1m20/20\u001b[0m \u001b[32m━━━━━━━━━━━━━━━━━━━━\u001b[0m\u001b[37m\u001b[0m \u001b[1m0s\u001b[0m 7ms/step - accuracy: 0.8023 - loss: 0.4181 - val_accuracy: 0.7597 - val_loss: 0.5195\n",
            "Epoch 45/100\n",
            "\u001b[1m20/20\u001b[0m \u001b[32m━━━━━━━━━━━━━━━━━━━━\u001b[0m\u001b[37m\u001b[0m \u001b[1m0s\u001b[0m 8ms/step - accuracy: 0.8222 - loss: 0.4036 - val_accuracy: 0.7597 - val_loss: 0.5199\n",
            "Epoch 46/100\n",
            "\u001b[1m20/20\u001b[0m \u001b[32m━━━━━━━━━━━━━━━━━━━━\u001b[0m\u001b[37m\u001b[0m \u001b[1m0s\u001b[0m 8ms/step - accuracy: 0.8109 - loss: 0.4135 - val_accuracy: 0.7597 - val_loss: 0.5171\n",
            "Epoch 47/100\n",
            "\u001b[1m20/20\u001b[0m \u001b[32m━━━━━━━━━━━━━━━━━━━━\u001b[0m\u001b[37m\u001b[0m \u001b[1m0s\u001b[0m 6ms/step - accuracy: 0.7898 - loss: 0.4161 - val_accuracy: 0.7662 - val_loss: 0.5188\n",
            "Epoch 48/100\n",
            "\u001b[1m20/20\u001b[0m \u001b[32m━━━━━━━━━━━━━━━━━━━━\u001b[0m\u001b[37m\u001b[0m \u001b[1m0s\u001b[0m 10ms/step - accuracy: 0.8059 - loss: 0.4118 - val_accuracy: 0.7662 - val_loss: 0.5203\n",
            "Epoch 49/100\n",
            "\u001b[1m20/20\u001b[0m \u001b[32m━━━━━━━━━━━━━━━━━━━━\u001b[0m\u001b[37m\u001b[0m \u001b[1m0s\u001b[0m 7ms/step - accuracy: 0.8103 - loss: 0.4094 - val_accuracy: 0.7597 - val_loss: 0.5207\n",
            "Epoch 50/100\n",
            "\u001b[1m20/20\u001b[0m \u001b[32m━━━━━━━━━━━━━━━━━━━━\u001b[0m\u001b[37m\u001b[0m \u001b[1m0s\u001b[0m 10ms/step - accuracy: 0.8099 - loss: 0.4067 - val_accuracy: 0.7597 - val_loss: 0.5223\n",
            "Epoch 51/100\n",
            "\u001b[1m20/20\u001b[0m \u001b[32m━━━━━━━━━━━━━━━━━━━━\u001b[0m\u001b[37m\u001b[0m \u001b[1m0s\u001b[0m 13ms/step - accuracy: 0.7939 - loss: 0.4349 - val_accuracy: 0.7597 - val_loss: 0.5213\n",
            "Epoch 52/100\n",
            "\u001b[1m20/20\u001b[0m \u001b[32m━━━━━━━━━━━━━━━━━━━━\u001b[0m\u001b[37m\u001b[0m \u001b[1m0s\u001b[0m 10ms/step - accuracy: 0.8127 - loss: 0.4041 - val_accuracy: 0.7597 - val_loss: 0.5223\n",
            "Epoch 53/100\n",
            "\u001b[1m20/20\u001b[0m \u001b[32m━━━━━━━━━━━━━━━━━━━━\u001b[0m\u001b[37m\u001b[0m \u001b[1m0s\u001b[0m 11ms/step - accuracy: 0.7989 - loss: 0.4285 - val_accuracy: 0.7597 - val_loss: 0.5222\n",
            "Epoch 54/100\n",
            "\u001b[1m20/20\u001b[0m \u001b[32m━━━━━━━━━━━━━━━━━━━━\u001b[0m\u001b[37m\u001b[0m \u001b[1m0s\u001b[0m 10ms/step - accuracy: 0.7887 - loss: 0.4373 - val_accuracy: 0.7597 - val_loss: 0.5248\n",
            "Epoch 55/100\n",
            "\u001b[1m20/20\u001b[0m \u001b[32m━━━━━━━━━━━━━━━━━━━━\u001b[0m\u001b[37m\u001b[0m \u001b[1m0s\u001b[0m 7ms/step - accuracy: 0.8075 - loss: 0.4084 - val_accuracy: 0.7597 - val_loss: 0.5241\n",
            "Epoch 56/100\n",
            "\u001b[1m20/20\u001b[0m \u001b[32m━━━━━━━━━━━━━━━━━━━━\u001b[0m\u001b[37m\u001b[0m \u001b[1m0s\u001b[0m 9ms/step - accuracy: 0.8126 - loss: 0.3894 - val_accuracy: 0.7597 - val_loss: 0.5248\n",
            "Epoch 57/100\n",
            "\u001b[1m20/20\u001b[0m \u001b[32m━━━━━━━━━━━━━━━━━━━━\u001b[0m\u001b[37m\u001b[0m \u001b[1m0s\u001b[0m 9ms/step - accuracy: 0.7726 - loss: 0.4334 - val_accuracy: 0.7532 - val_loss: 0.5260\n",
            "Epoch 58/100\n",
            "\u001b[1m20/20\u001b[0m \u001b[32m━━━━━━━━━━━━━━━━━━━━\u001b[0m\u001b[37m\u001b[0m \u001b[1m0s\u001b[0m 11ms/step - accuracy: 0.7985 - loss: 0.4292 - val_accuracy: 0.7532 - val_loss: 0.5243\n",
            "Epoch 59/100\n",
            "\u001b[1m20/20\u001b[0m \u001b[32m━━━━━━━━━━━━━━━━━━━━\u001b[0m\u001b[37m\u001b[0m \u001b[1m0s\u001b[0m 13ms/step - accuracy: 0.8117 - loss: 0.4070 - val_accuracy: 0.7662 - val_loss: 0.5226\n",
            "Epoch 60/100\n",
            "\u001b[1m20/20\u001b[0m \u001b[32m━━━━━━━━━━━━━━━━━━━━\u001b[0m\u001b[37m\u001b[0m \u001b[1m1s\u001b[0m 16ms/step - accuracy: 0.7888 - loss: 0.4431 - val_accuracy: 0.7662 - val_loss: 0.5216\n",
            "Epoch 61/100\n",
            "\u001b[1m20/20\u001b[0m \u001b[32m━━━━━━━━━━━━━━━━━━━━\u001b[0m\u001b[37m\u001b[0m \u001b[1m1s\u001b[0m 11ms/step - accuracy: 0.7857 - loss: 0.4286 - val_accuracy: 0.7662 - val_loss: 0.5210\n",
            "Epoch 62/100\n",
            "\u001b[1m20/20\u001b[0m \u001b[32m━━━━━━━━━━━━━━━━━━━━\u001b[0m\u001b[37m\u001b[0m \u001b[1m0s\u001b[0m 14ms/step - accuracy: 0.7890 - loss: 0.4310 - val_accuracy: 0.7662 - val_loss: 0.5235\n",
            "Epoch 63/100\n",
            "\u001b[1m20/20\u001b[0m \u001b[32m━━━━━━━━━━━━━━━━━━━━\u001b[0m\u001b[37m\u001b[0m \u001b[1m1s\u001b[0m 14ms/step - accuracy: 0.8050 - loss: 0.4156 - val_accuracy: 0.7662 - val_loss: 0.5246\n",
            "Epoch 64/100\n",
            "\u001b[1m20/20\u001b[0m \u001b[32m━━━━━━━━━━━━━━━━━━━━\u001b[0m\u001b[37m\u001b[0m \u001b[1m0s\u001b[0m 7ms/step - accuracy: 0.7943 - loss: 0.4097 - val_accuracy: 0.7662 - val_loss: 0.5248\n",
            "Epoch 65/100\n",
            "\u001b[1m20/20\u001b[0m \u001b[32m━━━━━━━━━━━━━━━━━━━━\u001b[0m\u001b[37m\u001b[0m \u001b[1m0s\u001b[0m 7ms/step - accuracy: 0.7960 - loss: 0.4243 - val_accuracy: 0.7662 - val_loss: 0.5248\n",
            "Epoch 66/100\n",
            "\u001b[1m20/20\u001b[0m \u001b[32m━━━━━━━━━━━━━━━━━━━━\u001b[0m\u001b[37m\u001b[0m \u001b[1m0s\u001b[0m 6ms/step - accuracy: 0.7903 - loss: 0.4334 - val_accuracy: 0.7532 - val_loss: 0.5245\n",
            "Epoch 67/100\n",
            "\u001b[1m20/20\u001b[0m \u001b[32m━━━━━━━━━━━━━━━━━━━━\u001b[0m\u001b[37m\u001b[0m \u001b[1m0s\u001b[0m 7ms/step - accuracy: 0.7772 - loss: 0.4214 - val_accuracy: 0.7597 - val_loss: 0.5254\n",
            "Epoch 68/100\n",
            "\u001b[1m20/20\u001b[0m \u001b[32m━━━━━━━━━━━━━━━━━━━━\u001b[0m\u001b[37m\u001b[0m \u001b[1m0s\u001b[0m 7ms/step - accuracy: 0.8027 - loss: 0.4040 - val_accuracy: 0.7662 - val_loss: 0.5280\n",
            "Epoch 69/100\n",
            "\u001b[1m20/20\u001b[0m \u001b[32m━━━━━━━━━━━━━━━━━━━━\u001b[0m\u001b[37m\u001b[0m \u001b[1m0s\u001b[0m 7ms/step - accuracy: 0.7726 - loss: 0.4131 - val_accuracy: 0.7662 - val_loss: 0.5300\n",
            "Epoch 70/100\n",
            "\u001b[1m20/20\u001b[0m \u001b[32m━━━━━━━━━━━━━━━━━━━━\u001b[0m\u001b[37m\u001b[0m \u001b[1m0s\u001b[0m 7ms/step - accuracy: 0.8062 - loss: 0.4259 - val_accuracy: 0.7597 - val_loss: 0.5316\n",
            "Epoch 71/100\n",
            "\u001b[1m20/20\u001b[0m \u001b[32m━━━━━━━━━━━━━━━━━━━━\u001b[0m\u001b[37m\u001b[0m \u001b[1m0s\u001b[0m 7ms/step - accuracy: 0.7975 - loss: 0.4027 - val_accuracy: 0.7662 - val_loss: 0.5292\n",
            "Epoch 72/100\n",
            "\u001b[1m20/20\u001b[0m \u001b[32m━━━━━━━━━━━━━━━━━━━━\u001b[0m\u001b[37m\u001b[0m \u001b[1m0s\u001b[0m 7ms/step - accuracy: 0.8050 - loss: 0.4161 - val_accuracy: 0.7597 - val_loss: 0.5270\n",
            "Epoch 73/100\n",
            "\u001b[1m20/20\u001b[0m \u001b[32m━━━━━━━━━━━━━━━━━━━━\u001b[0m\u001b[37m\u001b[0m \u001b[1m0s\u001b[0m 8ms/step - accuracy: 0.8056 - loss: 0.4003 - val_accuracy: 0.7597 - val_loss: 0.5271\n",
            "Epoch 74/100\n",
            "\u001b[1m20/20\u001b[0m \u001b[32m━━━━━━━━━━━━━━━━━━━━\u001b[0m\u001b[37m\u001b[0m \u001b[1m0s\u001b[0m 6ms/step - accuracy: 0.7990 - loss: 0.4229 - val_accuracy: 0.7597 - val_loss: 0.5273\n",
            "Epoch 75/100\n",
            "\u001b[1m20/20\u001b[0m \u001b[32m━━━━━━━━━━━━━━━━━━━━\u001b[0m\u001b[37m\u001b[0m \u001b[1m0s\u001b[0m 9ms/step - accuracy: 0.8122 - loss: 0.3945 - val_accuracy: 0.7662 - val_loss: 0.5282\n",
            "Epoch 76/100\n",
            "\u001b[1m20/20\u001b[0m \u001b[32m━━━━━━━━━━━━━━━━━━━━\u001b[0m\u001b[37m\u001b[0m \u001b[1m0s\u001b[0m 9ms/step - accuracy: 0.7764 - loss: 0.4335 - val_accuracy: 0.7662 - val_loss: 0.5305\n",
            "Epoch 77/100\n",
            "\u001b[1m20/20\u001b[0m \u001b[32m━━━━━━━━━━━━━━━━━━━━\u001b[0m\u001b[37m\u001b[0m \u001b[1m0s\u001b[0m 6ms/step - accuracy: 0.8075 - loss: 0.4001 - val_accuracy: 0.7662 - val_loss: 0.5298\n",
            "Epoch 78/100\n",
            "\u001b[1m20/20\u001b[0m \u001b[32m━━━━━━━━━━━━━━━━━━━━\u001b[0m\u001b[37m\u001b[0m \u001b[1m0s\u001b[0m 6ms/step - accuracy: 0.7912 - loss: 0.4143 - val_accuracy: 0.7662 - val_loss: 0.5297\n",
            "Epoch 79/100\n",
            "\u001b[1m20/20\u001b[0m \u001b[32m━━━━━━━━━━━━━━━━━━━━\u001b[0m\u001b[37m\u001b[0m \u001b[1m0s\u001b[0m 9ms/step - accuracy: 0.8092 - loss: 0.4034 - val_accuracy: 0.7662 - val_loss: 0.5289\n",
            "Epoch 80/100\n",
            "\u001b[1m20/20\u001b[0m \u001b[32m━━━━━━━━━━━━━━━━━━━━\u001b[0m\u001b[37m\u001b[0m \u001b[1m0s\u001b[0m 6ms/step - accuracy: 0.7936 - loss: 0.4229 - val_accuracy: 0.7597 - val_loss: 0.5305\n",
            "Epoch 81/100\n",
            "\u001b[1m20/20\u001b[0m \u001b[32m━━━━━━━━━━━━━━━━━━━━\u001b[0m\u001b[37m\u001b[0m \u001b[1m0s\u001b[0m 6ms/step - accuracy: 0.8164 - loss: 0.3977 - val_accuracy: 0.7597 - val_loss: 0.5314\n",
            "Epoch 82/100\n",
            "\u001b[1m20/20\u001b[0m \u001b[32m━━━━━━━━━━━━━━━━━━━━\u001b[0m\u001b[37m\u001b[0m \u001b[1m0s\u001b[0m 9ms/step - accuracy: 0.8219 - loss: 0.3791 - val_accuracy: 0.7662 - val_loss: 0.5314\n",
            "Epoch 83/100\n",
            "\u001b[1m20/20\u001b[0m \u001b[32m━━━━━━━━━━━━━━━━━━━━\u001b[0m\u001b[37m\u001b[0m \u001b[1m0s\u001b[0m 6ms/step - accuracy: 0.8050 - loss: 0.4274 - val_accuracy: 0.7597 - val_loss: 0.5308\n",
            "Epoch 84/100\n",
            "\u001b[1m20/20\u001b[0m \u001b[32m━━━━━━━━━━━━━━━━━━━━\u001b[0m\u001b[37m\u001b[0m \u001b[1m0s\u001b[0m 8ms/step - accuracy: 0.7982 - loss: 0.4032 - val_accuracy: 0.7662 - val_loss: 0.5307\n",
            "Epoch 85/100\n",
            "\u001b[1m20/20\u001b[0m \u001b[32m━━━━━━━━━━━━━━━━━━━━\u001b[0m\u001b[37m\u001b[0m \u001b[1m0s\u001b[0m 6ms/step - accuracy: 0.8202 - loss: 0.3867 - val_accuracy: 0.7597 - val_loss: 0.5304\n",
            "Epoch 86/100\n",
            "\u001b[1m20/20\u001b[0m \u001b[32m━━━━━━━━━━━━━━━━━━━━\u001b[0m\u001b[37m\u001b[0m \u001b[1m0s\u001b[0m 8ms/step - accuracy: 0.8029 - loss: 0.4099 - val_accuracy: 0.7662 - val_loss: 0.5298\n",
            "Epoch 87/100\n",
            "\u001b[1m20/20\u001b[0m \u001b[32m━━━━━━━━━━━━━━━━━━━━\u001b[0m\u001b[37m\u001b[0m \u001b[1m0s\u001b[0m 9ms/step - accuracy: 0.8096 - loss: 0.4157 - val_accuracy: 0.7662 - val_loss: 0.5301\n",
            "Epoch 88/100\n",
            "\u001b[1m20/20\u001b[0m \u001b[32m━━━━━━━━━━━━━━━━━━━━\u001b[0m\u001b[37m\u001b[0m \u001b[1m0s\u001b[0m 8ms/step - accuracy: 0.8282 - loss: 0.3886 - val_accuracy: 0.7597 - val_loss: 0.5295\n",
            "Epoch 89/100\n",
            "\u001b[1m20/20\u001b[0m \u001b[32m━━━━━━━━━━━━━━━━━━━━\u001b[0m\u001b[37m\u001b[0m \u001b[1m0s\u001b[0m 7ms/step - accuracy: 0.8096 - loss: 0.3779 - val_accuracy: 0.7597 - val_loss: 0.5300\n",
            "Epoch 90/100\n",
            "\u001b[1m20/20\u001b[0m \u001b[32m━━━━━━━━━━━━━━━━━━━━\u001b[0m\u001b[37m\u001b[0m \u001b[1m0s\u001b[0m 12ms/step - accuracy: 0.8067 - loss: 0.3972 - val_accuracy: 0.7662 - val_loss: 0.5290\n",
            "Epoch 91/100\n",
            "\u001b[1m20/20\u001b[0m \u001b[32m━━━━━━━━━━━━━━━━━━━━\u001b[0m\u001b[37m\u001b[0m \u001b[1m0s\u001b[0m 7ms/step - accuracy: 0.8160 - loss: 0.4066 - val_accuracy: 0.7597 - val_loss: 0.5314\n",
            "Epoch 92/100\n",
            "\u001b[1m20/20\u001b[0m \u001b[32m━━━━━━━━━━━━━━━━━━━━\u001b[0m\u001b[37m\u001b[0m \u001b[1m0s\u001b[0m 8ms/step - accuracy: 0.8088 - loss: 0.4071 - val_accuracy: 0.7662 - val_loss: 0.5312\n",
            "Epoch 93/100\n",
            "\u001b[1m20/20\u001b[0m \u001b[32m━━━━━━━━━━━━━━━━━━━━\u001b[0m\u001b[37m\u001b[0m \u001b[1m0s\u001b[0m 7ms/step - accuracy: 0.7979 - loss: 0.4288 - val_accuracy: 0.7597 - val_loss: 0.5327\n",
            "Epoch 94/100\n",
            "\u001b[1m20/20\u001b[0m \u001b[32m━━━━━━━━━━━━━━━━━━━━\u001b[0m\u001b[37m\u001b[0m \u001b[1m0s\u001b[0m 9ms/step - accuracy: 0.8024 - loss: 0.4185 - val_accuracy: 0.7597 - val_loss: 0.5338\n",
            "Epoch 95/100\n",
            "\u001b[1m20/20\u001b[0m \u001b[32m━━━━━━━━━━━━━━━━━━━━\u001b[0m\u001b[37m\u001b[0m \u001b[1m0s\u001b[0m 6ms/step - accuracy: 0.8089 - loss: 0.4056 - val_accuracy: 0.7597 - val_loss: 0.5341\n",
            "Epoch 96/100\n",
            "\u001b[1m20/20\u001b[0m \u001b[32m━━━━━━━━━━━━━━━━━━━━\u001b[0m\u001b[37m\u001b[0m \u001b[1m0s\u001b[0m 9ms/step - accuracy: 0.8062 - loss: 0.4023 - val_accuracy: 0.7597 - val_loss: 0.5323\n",
            "Epoch 97/100\n",
            "\u001b[1m20/20\u001b[0m \u001b[32m━━━━━━━━━━━━━━━━━━━━\u001b[0m\u001b[37m\u001b[0m \u001b[1m0s\u001b[0m 8ms/step - accuracy: 0.8173 - loss: 0.3802 - val_accuracy: 0.7597 - val_loss: 0.5333\n",
            "Epoch 98/100\n",
            "\u001b[1m20/20\u001b[0m \u001b[32m━━━━━━━━━━━━━━━━━━━━\u001b[0m\u001b[37m\u001b[0m \u001b[1m0s\u001b[0m 6ms/step - accuracy: 0.8105 - loss: 0.3968 - val_accuracy: 0.7597 - val_loss: 0.5335\n",
            "Epoch 99/100\n",
            "\u001b[1m20/20\u001b[0m \u001b[32m━━━━━━━━━━━━━━━━━━━━\u001b[0m\u001b[37m\u001b[0m \u001b[1m0s\u001b[0m 9ms/step - accuracy: 0.7949 - loss: 0.4432 - val_accuracy: 0.7403 - val_loss: 0.5343\n",
            "Epoch 100/100\n",
            "\u001b[1m20/20\u001b[0m \u001b[32m━━━━━━━━━━━━━━━━━━━━\u001b[0m\u001b[37m\u001b[0m \u001b[1m0s\u001b[0m 11ms/step - accuracy: 0.7865 - loss: 0.4411 - val_accuracy: 0.7403 - val_loss: 0.5352\n"
          ]
        },
        {
          "output_type": "execute_result",
          "data": {
            "text/plain": [
              "<keras.src.callbacks.history.History at 0x7cbaa8763790>"
            ]
          },
          "metadata": {},
          "execution_count": 65
        }
      ]
    },
    {
      "cell_type": "markdown",
      "source": [
        "# lets do same for no. of neurons in eahc layer"
      ],
      "metadata": {
        "id": "alWsu26lj8hx"
      }
    },
    {
      "cell_type": "code",
      "source": [
        "def build_model(hp):\n",
        "    model = Sequential()\n",
        "\n",
        "    # Tune the number of units in the first Dense layer\n",
        "    # Values will range from 8 to 128 with a step of 8\n",
        "    units = hp.Int('units', min_value=8, max_value=128, step=8)\n",
        "\n",
        "    model.add(Dense(units=units, activation='relu', input_dim=8))\n",
        "    model.add(Dense(1, activation='sigmoid'))\n",
        "\n",
        "    model.compile(optimizer='rmsprop',\n",
        "                  loss='binary_crossentropy',\n",
        "                  metrics=['accuracy'])\n",
        "\n",
        "    return model\n",
        "\n"
      ],
      "metadata": {
        "id": "IjPy4wmyjsz8"
      },
      "execution_count": 66,
      "outputs": []
    },
    {
      "cell_type": "code",
      "source": [
        "# Random search tuner setup\n",
        "# - Tries different values of 'units' hyperparameter\n",
        "# - Optimizes for validation accuracy\n",
        "# - Tries up to 5 different combinations\n",
        "tuner = kt.RandomSearch(\n",
        "    build_model,\n",
        "    objective='val_accuracy',\n",
        "    max_trials=5,\n",
        "    directory='random_search',\n",
        "    project_name='diabetes_tuning'\n",
        ")\n"
      ],
      "metadata": {
        "colab": {
          "base_uri": "https://localhost:8080/"
        },
        "id": "IHS2DFK-L-do",
        "outputId": "bc70f9fa-56b5-43f1-badd-5d96d161c726"
      },
      "execution_count": 67,
      "outputs": [
        {
          "output_type": "stream",
          "name": "stdout",
          "text": [
            "Reloading Tuner from random_search/diabetes_tuning/tuner0.json\n"
          ]
        }
      ]
    },
    {
      "cell_type": "code",
      "source": [
        "tuner.search(X_train, y_train, epochs=5, validation_data=(X_test, y_test))"
      ],
      "metadata": {
        "id": "5vDC3zRpMIMi"
      },
      "execution_count": 68,
      "outputs": []
    },
    {
      "cell_type": "code",
      "source": [
        "tuner.get_best_hyperparameters()[0].values"
      ],
      "metadata": {
        "colab": {
          "base_uri": "https://localhost:8080/"
        },
        "id": "wAVJwUoOMTTY",
        "outputId": "cf336a5f-57cc-4b82-e2bb-51df8a7ef7ca"
      },
      "execution_count": 69,
      "outputs": [
        {
          "output_type": "execute_result",
          "data": {
            "text/plain": [
              "{'units': 104}"
            ]
          },
          "metadata": {},
          "execution_count": 69
        }
      ]
    },
    {
      "cell_type": "code",
      "source": [
        "model=tuner.get_best_models(num_models=1)[0]"
      ],
      "metadata": {
        "colab": {
          "base_uri": "https://localhost:8080/"
        },
        "id": "z-3Ix-M1Mzb3",
        "outputId": "087b0f41-cb54-4135-9370-1efcab84fb43"
      },
      "execution_count": 70,
      "outputs": [
        {
          "output_type": "stream",
          "name": "stderr",
          "text": [
            "/usr/local/lib/python3.11/dist-packages/keras/src/layers/core/dense.py:87: UserWarning: Do not pass an `input_shape`/`input_dim` argument to a layer. When using Sequential models, prefer using an `Input(shape)` object as the first layer in the model instead.\n",
            "  super().__init__(activity_regularizer=activity_regularizer, **kwargs)\n",
            "/usr/local/lib/python3.11/dist-packages/keras/src/saving/saving_lib.py:757: UserWarning: Skipping variable loading for optimizer 'rmsprop', because it has 2 variables whereas the saved optimizer has 6 variables. \n",
            "  saveable.load_own_variables(weights_store.get(inner_path))\n"
          ]
        }
      ]
    },
    {
      "cell_type": "code",
      "source": [
        "model.summary()"
      ],
      "metadata": {
        "colab": {
          "base_uri": "https://localhost:8080/",
          "height": 208
        },
        "id": "rse-eOWFNW54",
        "outputId": "fbdb96c3-da61-4f9a-ec41-9a2812cea844"
      },
      "execution_count": 71,
      "outputs": [
        {
          "output_type": "display_data",
          "data": {
            "text/plain": [
              "\u001b[1mModel: \"sequential\"\u001b[0m\n"
            ],
            "text/html": [
              "<pre style=\"white-space:pre;overflow-x:auto;line-height:normal;font-family:Menlo,'DejaVu Sans Mono',consolas,'Courier New',monospace\"><span style=\"font-weight: bold\">Model: \"sequential\"</span>\n",
              "</pre>\n"
            ]
          },
          "metadata": {}
        },
        {
          "output_type": "display_data",
          "data": {
            "text/plain": [
              "┏━━━━━━━━━━━━━━━━━━━━━━━━━━━━━━━━━┳━━━━━━━━━━━━━━━━━━━━━━━━┳━━━━━━━━━━━━━━━┓\n",
              "┃\u001b[1m \u001b[0m\u001b[1mLayer (type)                   \u001b[0m\u001b[1m \u001b[0m┃\u001b[1m \u001b[0m\u001b[1mOutput Shape          \u001b[0m\u001b[1m \u001b[0m┃\u001b[1m \u001b[0m\u001b[1m      Param #\u001b[0m\u001b[1m \u001b[0m┃\n",
              "┡━━━━━━━━━━━━━━━━━━━━━━━━━━━━━━━━━╇━━━━━━━━━━━━━━━━━━━━━━━━╇━━━━━━━━━━━━━━━┩\n",
              "│ dense (\u001b[38;5;33mDense\u001b[0m)                   │ (\u001b[38;5;45mNone\u001b[0m, \u001b[38;5;34m104\u001b[0m)            │           \u001b[38;5;34m936\u001b[0m │\n",
              "├─────────────────────────────────┼────────────────────────┼───────────────┤\n",
              "│ dense_1 (\u001b[38;5;33mDense\u001b[0m)                 │ (\u001b[38;5;45mNone\u001b[0m, \u001b[38;5;34m1\u001b[0m)              │           \u001b[38;5;34m105\u001b[0m │\n",
              "└─────────────────────────────────┴────────────────────────┴───────────────┘\n"
            ],
            "text/html": [
              "<pre style=\"white-space:pre;overflow-x:auto;line-height:normal;font-family:Menlo,'DejaVu Sans Mono',consolas,'Courier New',monospace\">┏━━━━━━━━━━━━━━━━━━━━━━━━━━━━━━━━━┳━━━━━━━━━━━━━━━━━━━━━━━━┳━━━━━━━━━━━━━━━┓\n",
              "┃<span style=\"font-weight: bold\"> Layer (type)                    </span>┃<span style=\"font-weight: bold\"> Output Shape           </span>┃<span style=\"font-weight: bold\">       Param # </span>┃\n",
              "┡━━━━━━━━━━━━━━━━━━━━━━━━━━━━━━━━━╇━━━━━━━━━━━━━━━━━━━━━━━━╇━━━━━━━━━━━━━━━┩\n",
              "│ dense (<span style=\"color: #0087ff; text-decoration-color: #0087ff\">Dense</span>)                   │ (<span style=\"color: #00d7ff; text-decoration-color: #00d7ff\">None</span>, <span style=\"color: #00af00; text-decoration-color: #00af00\">104</span>)            │           <span style=\"color: #00af00; text-decoration-color: #00af00\">936</span> │\n",
              "├─────────────────────────────────┼────────────────────────┼───────────────┤\n",
              "│ dense_1 (<span style=\"color: #0087ff; text-decoration-color: #0087ff\">Dense</span>)                 │ (<span style=\"color: #00d7ff; text-decoration-color: #00d7ff\">None</span>, <span style=\"color: #00af00; text-decoration-color: #00af00\">1</span>)              │           <span style=\"color: #00af00; text-decoration-color: #00af00\">105</span> │\n",
              "└─────────────────────────────────┴────────────────────────┴───────────────┘\n",
              "</pre>\n"
            ]
          },
          "metadata": {}
        },
        {
          "output_type": "display_data",
          "data": {
            "text/plain": [
              "\u001b[1m Total params: \u001b[0m\u001b[38;5;34m1,041\u001b[0m (4.07 KB)\n"
            ],
            "text/html": [
              "<pre style=\"white-space:pre;overflow-x:auto;line-height:normal;font-family:Menlo,'DejaVu Sans Mono',consolas,'Courier New',monospace\"><span style=\"font-weight: bold\"> Total params: </span><span style=\"color: #00af00; text-decoration-color: #00af00\">1,041</span> (4.07 KB)\n",
              "</pre>\n"
            ]
          },
          "metadata": {}
        },
        {
          "output_type": "display_data",
          "data": {
            "text/plain": [
              "\u001b[1m Trainable params: \u001b[0m\u001b[38;5;34m1,041\u001b[0m (4.07 KB)\n"
            ],
            "text/html": [
              "<pre style=\"white-space:pre;overflow-x:auto;line-height:normal;font-family:Menlo,'DejaVu Sans Mono',consolas,'Courier New',monospace\"><span style=\"font-weight: bold\"> Trainable params: </span><span style=\"color: #00af00; text-decoration-color: #00af00\">1,041</span> (4.07 KB)\n",
              "</pre>\n"
            ]
          },
          "metadata": {}
        },
        {
          "output_type": "display_data",
          "data": {
            "text/plain": [
              "\u001b[1m Non-trainable params: \u001b[0m\u001b[38;5;34m0\u001b[0m (0.00 B)\n"
            ],
            "text/html": [
              "<pre style=\"white-space:pre;overflow-x:auto;line-height:normal;font-family:Menlo,'DejaVu Sans Mono',consolas,'Courier New',monospace\"><span style=\"font-weight: bold\"> Non-trainable params: </span><span style=\"color: #00af00; text-decoration-color: #00af00\">0</span> (0.00 B)\n",
              "</pre>\n"
            ]
          },
          "metadata": {}
        }
      ]
    },
    {
      "cell_type": "code",
      "source": [
        "model.fit(X_train, y_train,batch_size=32, epochs=100, initial_epoch=6, validation_data=(X_test, y_test))"
      ],
      "metadata": {
        "colab": {
          "base_uri": "https://localhost:8080/"
        },
        "id": "uD02S9V3NANi",
        "outputId": "8f8d5f30-f09e-468c-c1fc-123332fb131c"
      },
      "execution_count": 72,
      "outputs": [
        {
          "output_type": "stream",
          "name": "stdout",
          "text": [
            "Epoch 7/100\n",
            "\u001b[1m20/20\u001b[0m \u001b[32m━━━━━━━━━━━━━━━━━━━━\u001b[0m\u001b[37m\u001b[0m \u001b[1m1s\u001b[0m 19ms/step - accuracy: 0.7298 - loss: 0.5263 - val_accuracy: 0.7597 - val_loss: 0.5164\n",
            "Epoch 8/100\n",
            "\u001b[1m20/20\u001b[0m \u001b[32m━━━━━━━━━━━━━━━━━━━━\u001b[0m\u001b[37m\u001b[0m \u001b[1m0s\u001b[0m 8ms/step - accuracy: 0.7495 - loss: 0.5041 - val_accuracy: 0.7597 - val_loss: 0.5049\n",
            "Epoch 9/100\n",
            "\u001b[1m20/20\u001b[0m \u001b[32m━━━━━━━━━━━━━━━━━━━━\u001b[0m\u001b[37m\u001b[0m \u001b[1m0s\u001b[0m 8ms/step - accuracy: 0.7876 - loss: 0.4464 - val_accuracy: 0.7727 - val_loss: 0.5014\n",
            "Epoch 10/100\n",
            "\u001b[1m20/20\u001b[0m \u001b[32m━━━━━━━━━━━━━━━━━━━━\u001b[0m\u001b[37m\u001b[0m \u001b[1m0s\u001b[0m 7ms/step - accuracy: 0.7778 - loss: 0.4642 - val_accuracy: 0.7727 - val_loss: 0.4975\n",
            "Epoch 11/100\n",
            "\u001b[1m20/20\u001b[0m \u001b[32m━━━━━━━━━━━━━━━━━━━━\u001b[0m\u001b[37m\u001b[0m \u001b[1m0s\u001b[0m 7ms/step - accuracy: 0.7926 - loss: 0.4431 - val_accuracy: 0.7597 - val_loss: 0.4948\n",
            "Epoch 12/100\n",
            "\u001b[1m20/20\u001b[0m \u001b[32m━━━━━━━━━━━━━━━━━━━━\u001b[0m\u001b[37m\u001b[0m \u001b[1m0s\u001b[0m 8ms/step - accuracy: 0.7806 - loss: 0.4661 - val_accuracy: 0.7597 - val_loss: 0.4978\n",
            "Epoch 13/100\n",
            "\u001b[1m20/20\u001b[0m \u001b[32m━━━━━━━━━━━━━━━━━━━━\u001b[0m\u001b[37m\u001b[0m \u001b[1m0s\u001b[0m 7ms/step - accuracy: 0.7785 - loss: 0.4439 - val_accuracy: 0.7532 - val_loss: 0.4992\n",
            "Epoch 14/100\n",
            "\u001b[1m20/20\u001b[0m \u001b[32m━━━━━━━━━━━━━━━━━━━━\u001b[0m\u001b[37m\u001b[0m \u001b[1m0s\u001b[0m 8ms/step - accuracy: 0.7917 - loss: 0.4277 - val_accuracy: 0.7532 - val_loss: 0.5020\n",
            "Epoch 15/100\n",
            "\u001b[1m20/20\u001b[0m \u001b[32m━━━━━━━━━━━━━━━━━━━━\u001b[0m\u001b[37m\u001b[0m \u001b[1m0s\u001b[0m 8ms/step - accuracy: 0.7604 - loss: 0.4522 - val_accuracy: 0.7532 - val_loss: 0.5018\n",
            "Epoch 16/100\n",
            "\u001b[1m20/20\u001b[0m \u001b[32m━━━━━━━━━━━━━━━━━━━━\u001b[0m\u001b[37m\u001b[0m \u001b[1m0s\u001b[0m 8ms/step - accuracy: 0.7852 - loss: 0.4316 - val_accuracy: 0.7403 - val_loss: 0.5040\n",
            "Epoch 17/100\n",
            "\u001b[1m20/20\u001b[0m \u001b[32m━━━━━━━━━━━━━━━━━━━━\u001b[0m\u001b[37m\u001b[0m \u001b[1m0s\u001b[0m 7ms/step - accuracy: 0.7845 - loss: 0.4390 - val_accuracy: 0.7468 - val_loss: 0.5061\n",
            "Epoch 18/100\n",
            "\u001b[1m20/20\u001b[0m \u001b[32m━━━━━━━━━━━━━━━━━━━━\u001b[0m\u001b[37m\u001b[0m \u001b[1m0s\u001b[0m 8ms/step - accuracy: 0.8066 - loss: 0.4064 - val_accuracy: 0.7532 - val_loss: 0.5060\n",
            "Epoch 19/100\n",
            "\u001b[1m20/20\u001b[0m \u001b[32m━━━━━━━━━━━━━━━━━━━━\u001b[0m\u001b[37m\u001b[0m \u001b[1m0s\u001b[0m 7ms/step - accuracy: 0.7898 - loss: 0.4200 - val_accuracy: 0.7468 - val_loss: 0.5051\n",
            "Epoch 20/100\n",
            "\u001b[1m20/20\u001b[0m \u001b[32m━━━━━━━━━━━━━━━━━━━━\u001b[0m\u001b[37m\u001b[0m \u001b[1m0s\u001b[0m 8ms/step - accuracy: 0.7713 - loss: 0.4504 - val_accuracy: 0.7532 - val_loss: 0.5053\n",
            "Epoch 21/100\n",
            "\u001b[1m20/20\u001b[0m \u001b[32m━━━━━━━━━━━━━━━━━━━━\u001b[0m\u001b[37m\u001b[0m \u001b[1m0s\u001b[0m 9ms/step - accuracy: 0.7862 - loss: 0.4304 - val_accuracy: 0.7532 - val_loss: 0.5077\n",
            "Epoch 22/100\n",
            "\u001b[1m20/20\u001b[0m \u001b[32m━━━━━━━━━━━━━━━━━━━━\u001b[0m\u001b[37m\u001b[0m \u001b[1m0s\u001b[0m 8ms/step - accuracy: 0.7930 - loss: 0.4376 - val_accuracy: 0.7468 - val_loss: 0.5102\n",
            "Epoch 23/100\n",
            "\u001b[1m20/20\u001b[0m \u001b[32m━━━━━━━━━━━━━━━━━━━━\u001b[0m\u001b[37m\u001b[0m \u001b[1m0s\u001b[0m 7ms/step - accuracy: 0.7789 - loss: 0.4293 - val_accuracy: 0.7532 - val_loss: 0.5087\n",
            "Epoch 24/100\n",
            "\u001b[1m20/20\u001b[0m \u001b[32m━━━━━━━━━━━━━━━━━━━━\u001b[0m\u001b[37m\u001b[0m \u001b[1m0s\u001b[0m 7ms/step - accuracy: 0.7938 - loss: 0.4121 - val_accuracy: 0.7468 - val_loss: 0.5124\n",
            "Epoch 25/100\n",
            "\u001b[1m20/20\u001b[0m \u001b[32m━━━━━━━━━━━━━━━━━━━━\u001b[0m\u001b[37m\u001b[0m \u001b[1m0s\u001b[0m 6ms/step - accuracy: 0.7789 - loss: 0.4352 - val_accuracy: 0.7532 - val_loss: 0.5144\n",
            "Epoch 26/100\n",
            "\u001b[1m20/20\u001b[0m \u001b[32m━━━━━━━━━━━━━━━━━━━━\u001b[0m\u001b[37m\u001b[0m \u001b[1m0s\u001b[0m 6ms/step - accuracy: 0.7732 - loss: 0.4487 - val_accuracy: 0.7532 - val_loss: 0.5145\n",
            "Epoch 27/100\n",
            "\u001b[1m20/20\u001b[0m \u001b[32m━━━━━━━━━━━━━━━━━━━━\u001b[0m\u001b[37m\u001b[0m \u001b[1m0s\u001b[0m 6ms/step - accuracy: 0.8023 - loss: 0.4301 - val_accuracy: 0.7468 - val_loss: 0.5156\n",
            "Epoch 28/100\n",
            "\u001b[1m20/20\u001b[0m \u001b[32m━━━━━━━━━━━━━━━━━━━━\u001b[0m\u001b[37m\u001b[0m \u001b[1m0s\u001b[0m 6ms/step - accuracy: 0.8084 - loss: 0.4169 - val_accuracy: 0.7532 - val_loss: 0.5167\n",
            "Epoch 29/100\n",
            "\u001b[1m20/20\u001b[0m \u001b[32m━━━━━━━━━━━━━━━━━━━━\u001b[0m\u001b[37m\u001b[0m \u001b[1m0s\u001b[0m 8ms/step - accuracy: 0.7989 - loss: 0.4175 - val_accuracy: 0.7468 - val_loss: 0.5186\n",
            "Epoch 30/100\n",
            "\u001b[1m20/20\u001b[0m \u001b[32m━━━━━━━━━━━━━━━━━━━━\u001b[0m\u001b[37m\u001b[0m \u001b[1m0s\u001b[0m 9ms/step - accuracy: 0.8116 - loss: 0.4269 - val_accuracy: 0.7468 - val_loss: 0.5195\n",
            "Epoch 31/100\n",
            "\u001b[1m20/20\u001b[0m \u001b[32m━━━━━━━━━━━━━━━━━━━━\u001b[0m\u001b[37m\u001b[0m \u001b[1m0s\u001b[0m 8ms/step - accuracy: 0.8100 - loss: 0.4151 - val_accuracy: 0.7468 - val_loss: 0.5212\n",
            "Epoch 32/100\n",
            "\u001b[1m20/20\u001b[0m \u001b[32m━━━━━━━━━━━━━━━━━━━━\u001b[0m\u001b[37m\u001b[0m \u001b[1m0s\u001b[0m 8ms/step - accuracy: 0.7848 - loss: 0.4433 - val_accuracy: 0.7532 - val_loss: 0.5214\n",
            "Epoch 33/100\n",
            "\u001b[1m20/20\u001b[0m \u001b[32m━━━━━━━━━━━━━━━━━━━━\u001b[0m\u001b[37m\u001b[0m \u001b[1m0s\u001b[0m 6ms/step - accuracy: 0.8276 - loss: 0.3734 - val_accuracy: 0.7597 - val_loss: 0.5201\n",
            "Epoch 34/100\n",
            "\u001b[1m20/20\u001b[0m \u001b[32m━━━━━━━━━━━━━━━━━━━━\u001b[0m\u001b[37m\u001b[0m \u001b[1m0s\u001b[0m 6ms/step - accuracy: 0.7932 - loss: 0.4212 - val_accuracy: 0.7532 - val_loss: 0.5218\n",
            "Epoch 35/100\n",
            "\u001b[1m20/20\u001b[0m \u001b[32m━━━━━━━━━━━━━━━━━━━━\u001b[0m\u001b[37m\u001b[0m \u001b[1m0s\u001b[0m 6ms/step - accuracy: 0.7919 - loss: 0.4296 - val_accuracy: 0.7532 - val_loss: 0.5244\n",
            "Epoch 36/100\n",
            "\u001b[1m20/20\u001b[0m \u001b[32m━━━━━━━━━━━━━━━━━━━━\u001b[0m\u001b[37m\u001b[0m \u001b[1m0s\u001b[0m 9ms/step - accuracy: 0.7839 - loss: 0.4055 - val_accuracy: 0.7532 - val_loss: 0.5253\n",
            "Epoch 37/100\n",
            "\u001b[1m20/20\u001b[0m \u001b[32m━━━━━━━━━━━━━━━━━━━━\u001b[0m\u001b[37m\u001b[0m \u001b[1m0s\u001b[0m 7ms/step - accuracy: 0.7861 - loss: 0.4353 - val_accuracy: 0.7532 - val_loss: 0.5241\n",
            "Epoch 38/100\n",
            "\u001b[1m20/20\u001b[0m \u001b[32m━━━━━━━━━━━━━━━━━━━━\u001b[0m\u001b[37m\u001b[0m \u001b[1m0s\u001b[0m 7ms/step - accuracy: 0.8067 - loss: 0.3948 - val_accuracy: 0.7532 - val_loss: 0.5251\n",
            "Epoch 39/100\n",
            "\u001b[1m20/20\u001b[0m \u001b[32m━━━━━━━━━━━━━━━━━━━━\u001b[0m\u001b[37m\u001b[0m \u001b[1m0s\u001b[0m 6ms/step - accuracy: 0.8048 - loss: 0.4126 - val_accuracy: 0.7597 - val_loss: 0.5257\n",
            "Epoch 40/100\n",
            "\u001b[1m20/20\u001b[0m \u001b[32m━━━━━━━━━━━━━━━━━━━━\u001b[0m\u001b[37m\u001b[0m \u001b[1m0s\u001b[0m 7ms/step - accuracy: 0.8276 - loss: 0.3930 - val_accuracy: 0.7532 - val_loss: 0.5239\n",
            "Epoch 41/100\n",
            "\u001b[1m20/20\u001b[0m \u001b[32m━━━━━━━━━━━━━━━━━━━━\u001b[0m\u001b[37m\u001b[0m \u001b[1m0s\u001b[0m 6ms/step - accuracy: 0.8366 - loss: 0.3939 - val_accuracy: 0.7532 - val_loss: 0.5282\n",
            "Epoch 42/100\n",
            "\u001b[1m20/20\u001b[0m \u001b[32m━━━━━━━━━━━━━━━━━━━━\u001b[0m\u001b[37m\u001b[0m \u001b[1m0s\u001b[0m 8ms/step - accuracy: 0.8032 - loss: 0.4051 - val_accuracy: 0.7468 - val_loss: 0.5260\n",
            "Epoch 43/100\n",
            "\u001b[1m20/20\u001b[0m \u001b[32m━━━━━━━━━━━━━━━━━━━━\u001b[0m\u001b[37m\u001b[0m \u001b[1m0s\u001b[0m 13ms/step - accuracy: 0.8180 - loss: 0.4069 - val_accuracy: 0.7597 - val_loss: 0.5232\n",
            "Epoch 44/100\n",
            "\u001b[1m20/20\u001b[0m \u001b[32m━━━━━━━━━━━━━━━━━━━━\u001b[0m\u001b[37m\u001b[0m \u001b[1m1s\u001b[0m 9ms/step - accuracy: 0.8175 - loss: 0.3947 - val_accuracy: 0.7597 - val_loss: 0.5246\n",
            "Epoch 45/100\n",
            "\u001b[1m20/20\u001b[0m \u001b[32m━━━━━━━━━━━━━━━━━━━━\u001b[0m\u001b[37m\u001b[0m \u001b[1m0s\u001b[0m 9ms/step - accuracy: 0.8051 - loss: 0.4210 - val_accuracy: 0.7532 - val_loss: 0.5262\n",
            "Epoch 46/100\n",
            "\u001b[1m20/20\u001b[0m \u001b[32m━━━━━━━━━━━━━━━━━━━━\u001b[0m\u001b[37m\u001b[0m \u001b[1m0s\u001b[0m 19ms/step - accuracy: 0.8136 - loss: 0.3878 - val_accuracy: 0.7532 - val_loss: 0.5254\n",
            "Epoch 47/100\n",
            "\u001b[1m20/20\u001b[0m \u001b[32m━━━━━━━━━━━━━━━━━━━━\u001b[0m\u001b[37m\u001b[0m \u001b[1m0s\u001b[0m 11ms/step - accuracy: 0.8211 - loss: 0.3753 - val_accuracy: 0.7532 - val_loss: 0.5276\n",
            "Epoch 48/100\n",
            "\u001b[1m20/20\u001b[0m \u001b[32m━━━━━━━━━━━━━━━━━━━━\u001b[0m\u001b[37m\u001b[0m \u001b[1m0s\u001b[0m 11ms/step - accuracy: 0.7941 - loss: 0.4102 - val_accuracy: 0.7468 - val_loss: 0.5289\n",
            "Epoch 49/100\n",
            "\u001b[1m20/20\u001b[0m \u001b[32m━━━━━━━━━━━━━━━━━━━━\u001b[0m\u001b[37m\u001b[0m \u001b[1m0s\u001b[0m 8ms/step - accuracy: 0.8088 - loss: 0.3926 - val_accuracy: 0.7403 - val_loss: 0.5299\n",
            "Epoch 50/100\n",
            "\u001b[1m20/20\u001b[0m \u001b[32m━━━━━━━━━━━━━━━━━━━━\u001b[0m\u001b[37m\u001b[0m \u001b[1m0s\u001b[0m 6ms/step - accuracy: 0.8114 - loss: 0.3826 - val_accuracy: 0.7532 - val_loss: 0.5305\n",
            "Epoch 51/100\n",
            "\u001b[1m20/20\u001b[0m \u001b[32m━━━━━━━━━━━━━━━━━━━━\u001b[0m\u001b[37m\u001b[0m \u001b[1m0s\u001b[0m 6ms/step - accuracy: 0.7945 - loss: 0.4184 - val_accuracy: 0.7468 - val_loss: 0.5317\n",
            "Epoch 52/100\n",
            "\u001b[1m20/20\u001b[0m \u001b[32m━━━━━━━━━━━━━━━━━━━━\u001b[0m\u001b[37m\u001b[0m \u001b[1m0s\u001b[0m 6ms/step - accuracy: 0.8048 - loss: 0.3785 - val_accuracy: 0.7468 - val_loss: 0.5299\n",
            "Epoch 53/100\n",
            "\u001b[1m20/20\u001b[0m \u001b[32m━━━━━━━━━━━━━━━━━━━━\u001b[0m\u001b[37m\u001b[0m \u001b[1m0s\u001b[0m 10ms/step - accuracy: 0.8302 - loss: 0.3816 - val_accuracy: 0.7468 - val_loss: 0.5337\n",
            "Epoch 54/100\n",
            "\u001b[1m20/20\u001b[0m \u001b[32m━━━━━━━━━━━━━━━━━━━━\u001b[0m\u001b[37m\u001b[0m \u001b[1m0s\u001b[0m 7ms/step - accuracy: 0.7926 - loss: 0.4073 - val_accuracy: 0.7468 - val_loss: 0.5327\n",
            "Epoch 55/100\n",
            "\u001b[1m20/20\u001b[0m \u001b[32m━━━━━━━━━━━━━━━━━━━━\u001b[0m\u001b[37m\u001b[0m \u001b[1m0s\u001b[0m 6ms/step - accuracy: 0.8015 - loss: 0.4177 - val_accuracy: 0.7532 - val_loss: 0.5337\n",
            "Epoch 56/100\n",
            "\u001b[1m20/20\u001b[0m \u001b[32m━━━━━━━━━━━━━━━━━━━━\u001b[0m\u001b[37m\u001b[0m \u001b[1m0s\u001b[0m 6ms/step - accuracy: 0.8030 - loss: 0.3853 - val_accuracy: 0.7468 - val_loss: 0.5373\n",
            "Epoch 57/100\n",
            "\u001b[1m20/20\u001b[0m \u001b[32m━━━━━━━━━━━━━━━━━━━━\u001b[0m\u001b[37m\u001b[0m \u001b[1m0s\u001b[0m 6ms/step - accuracy: 0.8196 - loss: 0.3910 - val_accuracy: 0.7468 - val_loss: 0.5357\n",
            "Epoch 58/100\n",
            "\u001b[1m20/20\u001b[0m \u001b[32m━━━━━━━━━━━━━━━━━━━━\u001b[0m\u001b[37m\u001b[0m \u001b[1m0s\u001b[0m 6ms/step - accuracy: 0.8015 - loss: 0.3825 - val_accuracy: 0.7468 - val_loss: 0.5359\n",
            "Epoch 59/100\n",
            "\u001b[1m20/20\u001b[0m \u001b[32m━━━━━━━━━━━━━━━━━━━━\u001b[0m\u001b[37m\u001b[0m \u001b[1m0s\u001b[0m 7ms/step - accuracy: 0.8211 - loss: 0.3717 - val_accuracy: 0.7403 - val_loss: 0.5395\n",
            "Epoch 60/100\n",
            "\u001b[1m20/20\u001b[0m \u001b[32m━━━━━━━━━━━━━━━━━━━━\u001b[0m\u001b[37m\u001b[0m \u001b[1m0s\u001b[0m 7ms/step - accuracy: 0.7859 - loss: 0.4207 - val_accuracy: 0.7532 - val_loss: 0.5378\n",
            "Epoch 61/100\n",
            "\u001b[1m20/20\u001b[0m \u001b[32m━━━━━━━━━━━━━━━━━━━━\u001b[0m\u001b[37m\u001b[0m \u001b[1m0s\u001b[0m 6ms/step - accuracy: 0.8103 - loss: 0.3911 - val_accuracy: 0.7403 - val_loss: 0.5415\n",
            "Epoch 62/100\n",
            "\u001b[1m20/20\u001b[0m \u001b[32m━━━━━━━━━━━━━━━━━━━━\u001b[0m\u001b[37m\u001b[0m \u001b[1m0s\u001b[0m 8ms/step - accuracy: 0.8005 - loss: 0.3999 - val_accuracy: 0.7403 - val_loss: 0.5381\n",
            "Epoch 63/100\n",
            "\u001b[1m20/20\u001b[0m \u001b[32m━━━━━━━━━━━━━━━━━━━━\u001b[0m\u001b[37m\u001b[0m \u001b[1m0s\u001b[0m 7ms/step - accuracy: 0.8070 - loss: 0.3944 - val_accuracy: 0.7468 - val_loss: 0.5398\n",
            "Epoch 64/100\n",
            "\u001b[1m20/20\u001b[0m \u001b[32m━━━━━━━━━━━━━━━━━━━━\u001b[0m\u001b[37m\u001b[0m \u001b[1m0s\u001b[0m 8ms/step - accuracy: 0.8291 - loss: 0.3870 - val_accuracy: 0.7468 - val_loss: 0.5390\n",
            "Epoch 65/100\n",
            "\u001b[1m20/20\u001b[0m \u001b[32m━━━━━━━━━━━━━━━━━━━━\u001b[0m\u001b[37m\u001b[0m \u001b[1m0s\u001b[0m 11ms/step - accuracy: 0.8150 - loss: 0.3941 - val_accuracy: 0.7338 - val_loss: 0.5418\n",
            "Epoch 66/100\n",
            "\u001b[1m20/20\u001b[0m \u001b[32m━━━━━━━━━━━━━━━━━━━━\u001b[0m\u001b[37m\u001b[0m \u001b[1m0s\u001b[0m 6ms/step - accuracy: 0.8187 - loss: 0.3845 - val_accuracy: 0.7403 - val_loss: 0.5428\n",
            "Epoch 67/100\n",
            "\u001b[1m20/20\u001b[0m \u001b[32m━━━━━━━━━━━━━━━━━━━━\u001b[0m\u001b[37m\u001b[0m \u001b[1m0s\u001b[0m 7ms/step - accuracy: 0.8438 - loss: 0.3702 - val_accuracy: 0.7403 - val_loss: 0.5418\n",
            "Epoch 68/100\n",
            "\u001b[1m20/20\u001b[0m \u001b[32m━━━━━━━━━━━━━━━━━━━━\u001b[0m\u001b[37m\u001b[0m \u001b[1m0s\u001b[0m 8ms/step - accuracy: 0.8084 - loss: 0.3873 - val_accuracy: 0.7532 - val_loss: 0.5449\n",
            "Epoch 69/100\n",
            "\u001b[1m20/20\u001b[0m \u001b[32m━━━━━━━━━━━━━━━━━━━━\u001b[0m\u001b[37m\u001b[0m \u001b[1m0s\u001b[0m 9ms/step - accuracy: 0.8084 - loss: 0.3853 - val_accuracy: 0.7597 - val_loss: 0.5425\n",
            "Epoch 70/100\n",
            "\u001b[1m20/20\u001b[0m \u001b[32m━━━━━━━━━━━━━━━━━━━━\u001b[0m\u001b[37m\u001b[0m \u001b[1m0s\u001b[0m 7ms/step - accuracy: 0.8065 - loss: 0.4070 - val_accuracy: 0.7468 - val_loss: 0.5482\n",
            "Epoch 71/100\n",
            "\u001b[1m20/20\u001b[0m \u001b[32m━━━━━━━━━━━━━━━━━━━━\u001b[0m\u001b[37m\u001b[0m \u001b[1m0s\u001b[0m 8ms/step - accuracy: 0.8308 - loss: 0.3694 - val_accuracy: 0.7403 - val_loss: 0.5499\n",
            "Epoch 72/100\n",
            "\u001b[1m20/20\u001b[0m \u001b[32m━━━━━━━━━━━━━━━━━━━━\u001b[0m\u001b[37m\u001b[0m \u001b[1m0s\u001b[0m 7ms/step - accuracy: 0.8101 - loss: 0.4031 - val_accuracy: 0.7403 - val_loss: 0.5516\n",
            "Epoch 73/100\n",
            "\u001b[1m20/20\u001b[0m \u001b[32m━━━━━━━━━━━━━━━━━━━━\u001b[0m\u001b[37m\u001b[0m \u001b[1m0s\u001b[0m 12ms/step - accuracy: 0.8285 - loss: 0.3735 - val_accuracy: 0.7338 - val_loss: 0.5515\n",
            "Epoch 74/100\n",
            "\u001b[1m20/20\u001b[0m \u001b[32m━━━━━━━━━━━━━━━━━━━━\u001b[0m\u001b[37m\u001b[0m \u001b[1m0s\u001b[0m 7ms/step - accuracy: 0.7989 - loss: 0.4022 - val_accuracy: 0.7338 - val_loss: 0.5532\n",
            "Epoch 75/100\n",
            "\u001b[1m20/20\u001b[0m \u001b[32m━━━━━━━━━━━━━━━━━━━━\u001b[0m\u001b[37m\u001b[0m \u001b[1m0s\u001b[0m 9ms/step - accuracy: 0.8090 - loss: 0.3841 - val_accuracy: 0.7403 - val_loss: 0.5538\n",
            "Epoch 76/100\n",
            "\u001b[1m20/20\u001b[0m \u001b[32m━━━━━━━━━━━━━━━━━━━━\u001b[0m\u001b[37m\u001b[0m \u001b[1m0s\u001b[0m 6ms/step - accuracy: 0.8282 - loss: 0.3575 - val_accuracy: 0.7468 - val_loss: 0.5511\n",
            "Epoch 77/100\n",
            "\u001b[1m20/20\u001b[0m \u001b[32m━━━━━━━━━━━━━━━━━━━━\u001b[0m\u001b[37m\u001b[0m \u001b[1m0s\u001b[0m 9ms/step - accuracy: 0.8191 - loss: 0.3864 - val_accuracy: 0.7468 - val_loss: 0.5531\n",
            "Epoch 78/100\n",
            "\u001b[1m20/20\u001b[0m \u001b[32m━━━━━━━━━━━━━━━━━━━━\u001b[0m\u001b[37m\u001b[0m \u001b[1m0s\u001b[0m 6ms/step - accuracy: 0.7868 - loss: 0.4291 - val_accuracy: 0.7403 - val_loss: 0.5543\n",
            "Epoch 79/100\n",
            "\u001b[1m20/20\u001b[0m \u001b[32m━━━━━━━━━━━━━━━━━━━━\u001b[0m\u001b[37m\u001b[0m \u001b[1m0s\u001b[0m 6ms/step - accuracy: 0.8295 - loss: 0.3697 - val_accuracy: 0.7468 - val_loss: 0.5514\n",
            "Epoch 80/100\n",
            "\u001b[1m20/20\u001b[0m \u001b[32m━━━━━━━━━━━━━━━━━━━━\u001b[0m\u001b[37m\u001b[0m \u001b[1m0s\u001b[0m 10ms/step - accuracy: 0.8256 - loss: 0.3761 - val_accuracy: 0.7468 - val_loss: 0.5534\n",
            "Epoch 81/100\n",
            "\u001b[1m20/20\u001b[0m \u001b[32m━━━━━━━━━━━━━━━━━━━━\u001b[0m\u001b[37m\u001b[0m \u001b[1m0s\u001b[0m 6ms/step - accuracy: 0.8376 - loss: 0.3774 - val_accuracy: 0.7403 - val_loss: 0.5522\n",
            "Epoch 82/100\n",
            "\u001b[1m20/20\u001b[0m \u001b[32m━━━━━━━━━━━━━━━━━━━━\u001b[0m\u001b[37m\u001b[0m \u001b[1m0s\u001b[0m 6ms/step - accuracy: 0.8238 - loss: 0.3763 - val_accuracy: 0.7468 - val_loss: 0.5536\n",
            "Epoch 83/100\n",
            "\u001b[1m20/20\u001b[0m \u001b[32m━━━━━━━━━━━━━━━━━━━━\u001b[0m\u001b[37m\u001b[0m \u001b[1m0s\u001b[0m 6ms/step - accuracy: 0.8121 - loss: 0.3847 - val_accuracy: 0.7468 - val_loss: 0.5509\n",
            "Epoch 84/100\n",
            "\u001b[1m20/20\u001b[0m \u001b[32m━━━━━━━━━━━━━━━━━━━━\u001b[0m\u001b[37m\u001b[0m \u001b[1m0s\u001b[0m 7ms/step - accuracy: 0.8148 - loss: 0.3863 - val_accuracy: 0.7403 - val_loss: 0.5538\n",
            "Epoch 85/100\n",
            "\u001b[1m20/20\u001b[0m \u001b[32m━━━━━━━━━━━━━━━━━━━━\u001b[0m\u001b[37m\u001b[0m \u001b[1m0s\u001b[0m 7ms/step - accuracy: 0.8320 - loss: 0.3853 - val_accuracy: 0.7468 - val_loss: 0.5567\n",
            "Epoch 86/100\n",
            "\u001b[1m20/20\u001b[0m \u001b[32m━━━━━━━━━━━━━━━━━━━━\u001b[0m\u001b[37m\u001b[0m \u001b[1m0s\u001b[0m 6ms/step - accuracy: 0.7970 - loss: 0.4085 - val_accuracy: 0.7468 - val_loss: 0.5572\n",
            "Epoch 87/100\n",
            "\u001b[1m20/20\u001b[0m \u001b[32m━━━━━━━━━━━━━━━━━━━━\u001b[0m\u001b[37m\u001b[0m \u001b[1m0s\u001b[0m 6ms/step - accuracy: 0.8081 - loss: 0.4071 - val_accuracy: 0.7468 - val_loss: 0.5611\n",
            "Epoch 88/100\n",
            "\u001b[1m20/20\u001b[0m \u001b[32m━━━━━━━━━━━━━━━━━━━━\u001b[0m\u001b[37m\u001b[0m \u001b[1m0s\u001b[0m 7ms/step - accuracy: 0.8183 - loss: 0.3725 - val_accuracy: 0.7403 - val_loss: 0.5590\n",
            "Epoch 89/100\n",
            "\u001b[1m20/20\u001b[0m \u001b[32m━━━━━━━━━━━━━━━━━━━━\u001b[0m\u001b[37m\u001b[0m \u001b[1m0s\u001b[0m 9ms/step - accuracy: 0.8224 - loss: 0.3786 - val_accuracy: 0.7468 - val_loss: 0.5605\n",
            "Epoch 90/100\n",
            "\u001b[1m20/20\u001b[0m \u001b[32m━━━━━━━━━━━━━━━━━━━━\u001b[0m\u001b[37m\u001b[0m \u001b[1m0s\u001b[0m 7ms/step - accuracy: 0.8150 - loss: 0.3543 - val_accuracy: 0.7532 - val_loss: 0.5608\n",
            "Epoch 91/100\n",
            "\u001b[1m20/20\u001b[0m \u001b[32m━━━━━━━━━━━━━━━━━━━━\u001b[0m\u001b[37m\u001b[0m \u001b[1m0s\u001b[0m 6ms/step - accuracy: 0.8169 - loss: 0.3849 - val_accuracy: 0.7403 - val_loss: 0.5632\n",
            "Epoch 92/100\n",
            "\u001b[1m20/20\u001b[0m \u001b[32m━━━━━━━━━━━━━━━━━━━━\u001b[0m\u001b[37m\u001b[0m \u001b[1m0s\u001b[0m 11ms/step - accuracy: 0.8299 - loss: 0.3712 - val_accuracy: 0.7468 - val_loss: 0.5626\n",
            "Epoch 93/100\n",
            "\u001b[1m20/20\u001b[0m \u001b[32m━━━━━━━━━━━━━━━━━━━━\u001b[0m\u001b[37m\u001b[0m \u001b[1m0s\u001b[0m 15ms/step - accuracy: 0.8236 - loss: 0.3694 - val_accuracy: 0.7338 - val_loss: 0.5647\n",
            "Epoch 94/100\n",
            "\u001b[1m20/20\u001b[0m \u001b[32m━━━━━━━━━━━━━━━━━━━━\u001b[0m\u001b[37m\u001b[0m \u001b[1m1s\u001b[0m 11ms/step - accuracy: 0.8071 - loss: 0.3894 - val_accuracy: 0.7468 - val_loss: 0.5595\n",
            "Epoch 95/100\n",
            "\u001b[1m20/20\u001b[0m \u001b[32m━━━━━━━━━━━━━━━━━━━━\u001b[0m\u001b[37m\u001b[0m \u001b[1m0s\u001b[0m 11ms/step - accuracy: 0.8152 - loss: 0.3918 - val_accuracy: 0.7403 - val_loss: 0.5600\n",
            "Epoch 96/100\n",
            "\u001b[1m20/20\u001b[0m \u001b[32m━━━━━━━━━━━━━━━━━━━━\u001b[0m\u001b[37m\u001b[0m \u001b[1m0s\u001b[0m 11ms/step - accuracy: 0.8338 - loss: 0.3751 - val_accuracy: 0.7468 - val_loss: 0.5586\n",
            "Epoch 97/100\n",
            "\u001b[1m20/20\u001b[0m \u001b[32m━━━━━━━━━━━━━━━━━━━━\u001b[0m\u001b[37m\u001b[0m \u001b[1m0s\u001b[0m 15ms/step - accuracy: 0.8109 - loss: 0.3798 - val_accuracy: 0.7532 - val_loss: 0.5564\n",
            "Epoch 98/100\n",
            "\u001b[1m20/20\u001b[0m \u001b[32m━━━━━━━━━━━━━━━━━━━━\u001b[0m\u001b[37m\u001b[0m \u001b[1m0s\u001b[0m 7ms/step - accuracy: 0.8410 - loss: 0.3547 - val_accuracy: 0.7662 - val_loss: 0.5583\n",
            "Epoch 99/100\n",
            "\u001b[1m20/20\u001b[0m \u001b[32m━━━━━━━━━━━━━━━━━━━━\u001b[0m\u001b[37m\u001b[0m \u001b[1m0s\u001b[0m 6ms/step - accuracy: 0.8140 - loss: 0.3742 - val_accuracy: 0.7403 - val_loss: 0.5631\n",
            "Epoch 100/100\n",
            "\u001b[1m20/20\u001b[0m \u001b[32m━━━━━━━━━━━━━━━━━━━━\u001b[0m\u001b[37m\u001b[0m \u001b[1m0s\u001b[0m 7ms/step - accuracy: 0.8171 - loss: 0.3541 - val_accuracy: 0.7532 - val_loss: 0.5648\n"
          ]
        },
        {
          "output_type": "execute_result",
          "data": {
            "text/plain": [
              "<keras.src.callbacks.history.History at 0x7cbaa4ac3ed0>"
            ]
          },
          "metadata": {},
          "execution_count": 72
        }
      ]
    },
    {
      "cell_type": "markdown",
      "source": [
        "#  lets do same for No of layers"
      ],
      "metadata": {
        "id": "OwQB2rp4PjfZ"
      }
    },
    {
      "cell_type": "code",
      "source": [
        "def build_model(hp):\n",
        "    model = Sequential()\n",
        "\n",
        "    model.add(Dense(104, activation='relu', input_dim=8))\n",
        "\n",
        "    # Add a tunable number of hidden layers between 1 and 10\n",
        "    for i in range(hp.Int('num_layers', min_value=1, max_value=10)):\n",
        "        model.add(Dense(104, activation='relu'))  # Each hidden layer has 72 neurons\n",
        "\n",
        "\n",
        "    model.add(Dense(1, activation='sigmoid'))\n",
        "\n",
        "\n",
        "    model.compile(\n",
        "        optimizer='rmsprop',\n",
        "        loss='binary_crossentropy',\n",
        "        metrics=['accuracy']               # Track accuracy during training/validation\n",
        "    )\n",
        "\n",
        "    return model"
      ],
      "metadata": {
        "id": "U9QKMVDNPpKW"
      },
      "execution_count": 73,
      "outputs": []
    },
    {
      "cell_type": "code",
      "source": [
        "# Set up the Keras Tuner using RandomSearch\n",
        "tuner = kt.RandomSearch(\n",
        "    build_model,              # Model building function\n",
        "    objective='val_accuracy', # Metric to optimize\n",
        "    max_trials=10,             # Try 10 different combinations of hyperparameters\n",
        "    directory='mydir',        # Directory to store tuning results\n",
        "    project_name='num_layers' # Project name for tracking\n",
        ")\n",
        "\n",
        "\n",
        "# Train for 5 epochs on training data and evaluate on validation data\n",
        "tuner.search(X_train, y_train, epochs=5, validation_data=(X_test, y_test))\n"
      ],
      "metadata": {
        "colab": {
          "base_uri": "https://localhost:8080/"
        },
        "id": "u7nLD3vvQWre",
        "outputId": "0e589247-c1c5-4413-f3c5-04d8086fc518"
      },
      "execution_count": 74,
      "outputs": [
        {
          "output_type": "stream",
          "name": "stdout",
          "text": [
            "Reloading Tuner from mydir/num_layers/tuner0.json\n"
          ]
        }
      ]
    },
    {
      "cell_type": "code",
      "source": [
        "tuner.get_best_hyperparameters()[0].values"
      ],
      "metadata": {
        "colab": {
          "base_uri": "https://localhost:8080/"
        },
        "id": "ubBcCTJ5Qw3Q",
        "outputId": "957719cd-ac5e-4d6f-fee6-1adffc153b4e"
      },
      "execution_count": 75,
      "outputs": [
        {
          "output_type": "execute_result",
          "data": {
            "text/plain": [
              "{'num_layers': 6}"
            ]
          },
          "metadata": {},
          "execution_count": 75
        }
      ]
    },
    {
      "cell_type": "code",
      "source": [
        "model=tuner.get_best_models(num_models=1)[0]"
      ],
      "metadata": {
        "colab": {
          "base_uri": "https://localhost:8080/"
        },
        "id": "rLMAlZJ-QznE",
        "outputId": "9b3e4c37-3b8d-4df5-b4ad-8664333e11d9"
      },
      "execution_count": 76,
      "outputs": [
        {
          "output_type": "stream",
          "name": "stderr",
          "text": [
            "/usr/local/lib/python3.11/dist-packages/keras/src/layers/core/dense.py:87: UserWarning: Do not pass an `input_shape`/`input_dim` argument to a layer. When using Sequential models, prefer using an `Input(shape)` object as the first layer in the model instead.\n",
            "  super().__init__(activity_regularizer=activity_regularizer, **kwargs)\n",
            "/usr/local/lib/python3.11/dist-packages/keras/src/saving/saving_lib.py:757: UserWarning: Skipping variable loading for optimizer 'rmsprop', because it has 2 variables whereas the saved optimizer has 18 variables. \n",
            "  saveable.load_own_variables(weights_store.get(inner_path))\n"
          ]
        }
      ]
    },
    {
      "cell_type": "code",
      "source": [
        "model.fit(X_train, y_train,batch_size=32, epochs=100, initial_epoch=6, validation_data=(X_test, y_test))"
      ],
      "metadata": {
        "colab": {
          "base_uri": "https://localhost:8080/"
        },
        "id": "5y9h4VmTRArF",
        "outputId": "89f2d4e9-b599-432b-9209-97f909766a05"
      },
      "execution_count": 77,
      "outputs": [
        {
          "output_type": "stream",
          "name": "stdout",
          "text": [
            "Epoch 7/100\n",
            "\u001b[1m20/20\u001b[0m \u001b[32m━━━━━━━━━━━━━━━━━━━━\u001b[0m\u001b[37m\u001b[0m \u001b[1m2s\u001b[0m 21ms/step - accuracy: 0.7481 - loss: 0.4933 - val_accuracy: 0.7727 - val_loss: 0.5198\n",
            "Epoch 8/100\n",
            "\u001b[1m20/20\u001b[0m \u001b[32m━━━━━━━━━━━━━━━━━━━━\u001b[0m\u001b[37m\u001b[0m \u001b[1m0s\u001b[0m 8ms/step - accuracy: 0.7872 - loss: 0.4621 - val_accuracy: 0.7662 - val_loss: 0.5351\n",
            "Epoch 9/100\n",
            "\u001b[1m20/20\u001b[0m \u001b[32m━━━━━━━━━━━━━━━━━━━━\u001b[0m\u001b[37m\u001b[0m \u001b[1m0s\u001b[0m 8ms/step - accuracy: 0.8104 - loss: 0.4167 - val_accuracy: 0.7662 - val_loss: 0.5794\n",
            "Epoch 10/100\n",
            "\u001b[1m20/20\u001b[0m \u001b[32m━━━━━━━━━━━━━━━━━━━━\u001b[0m\u001b[37m\u001b[0m \u001b[1m0s\u001b[0m 8ms/step - accuracy: 0.7717 - loss: 0.4571 - val_accuracy: 0.6818 - val_loss: 0.5695\n",
            "Epoch 11/100\n",
            "\u001b[1m20/20\u001b[0m \u001b[32m━━━━━━━━━━━━━━━━━━━━\u001b[0m\u001b[37m\u001b[0m \u001b[1m0s\u001b[0m 10ms/step - accuracy: 0.7929 - loss: 0.4165 - val_accuracy: 0.7468 - val_loss: 0.5891\n",
            "Epoch 12/100\n",
            "\u001b[1m20/20\u001b[0m \u001b[32m━━━━━━━━━━━━━━━━━━━━\u001b[0m\u001b[37m\u001b[0m \u001b[1m0s\u001b[0m 8ms/step - accuracy: 0.8104 - loss: 0.4122 - val_accuracy: 0.7792 - val_loss: 0.7013\n",
            "Epoch 13/100\n",
            "\u001b[1m20/20\u001b[0m \u001b[32m━━━━━━━━━━━━━━━━━━━━\u001b[0m\u001b[37m\u001b[0m \u001b[1m0s\u001b[0m 9ms/step - accuracy: 0.7779 - loss: 0.4359 - val_accuracy: 0.7143 - val_loss: 0.6164\n",
            "Epoch 14/100\n",
            "\u001b[1m20/20\u001b[0m \u001b[32m━━━━━━━━━━━━━━━━━━━━\u001b[0m\u001b[37m\u001b[0m \u001b[1m0s\u001b[0m 8ms/step - accuracy: 0.8034 - loss: 0.4007 - val_accuracy: 0.7468 - val_loss: 0.5649\n",
            "Epoch 15/100\n",
            "\u001b[1m20/20\u001b[0m \u001b[32m━━━━━━━━━━━━━━━━━━━━\u001b[0m\u001b[37m\u001b[0m \u001b[1m0s\u001b[0m 8ms/step - accuracy: 0.8328 - loss: 0.3607 - val_accuracy: 0.7468 - val_loss: 0.5658\n",
            "Epoch 16/100\n",
            "\u001b[1m20/20\u001b[0m \u001b[32m━━━━━━━━━━━━━━━━━━━━\u001b[0m\u001b[37m\u001b[0m \u001b[1m0s\u001b[0m 10ms/step - accuracy: 0.8243 - loss: 0.3520 - val_accuracy: 0.7208 - val_loss: 0.5728\n",
            "Epoch 17/100\n",
            "\u001b[1m20/20\u001b[0m \u001b[32m━━━━━━━━━━━━━━━━━━━━\u001b[0m\u001b[37m\u001b[0m \u001b[1m0s\u001b[0m 8ms/step - accuracy: 0.8408 - loss: 0.3542 - val_accuracy: 0.7468 - val_loss: 0.5665\n",
            "Epoch 18/100\n",
            "\u001b[1m20/20\u001b[0m \u001b[32m━━━━━━━━━━━━━━━━━━━━\u001b[0m\u001b[37m\u001b[0m \u001b[1m0s\u001b[0m 8ms/step - accuracy: 0.8409 - loss: 0.3666 - val_accuracy: 0.7403 - val_loss: 0.6099\n",
            "Epoch 19/100\n",
            "\u001b[1m20/20\u001b[0m \u001b[32m━━━━━━━━━━━━━━━━━━━━\u001b[0m\u001b[37m\u001b[0m \u001b[1m0s\u001b[0m 8ms/step - accuracy: 0.8347 - loss: 0.3595 - val_accuracy: 0.7468 - val_loss: 0.7549\n",
            "Epoch 20/100\n",
            "\u001b[1m20/20\u001b[0m \u001b[32m━━━━━━━━━━━━━━━━━━━━\u001b[0m\u001b[37m\u001b[0m \u001b[1m0s\u001b[0m 9ms/step - accuracy: 0.8438 - loss: 0.3366 - val_accuracy: 0.6948 - val_loss: 0.6350\n",
            "Epoch 21/100\n",
            "\u001b[1m20/20\u001b[0m \u001b[32m━━━━━━━━━━━━━━━━━━━━\u001b[0m\u001b[37m\u001b[0m \u001b[1m0s\u001b[0m 8ms/step - accuracy: 0.8750 - loss: 0.3100 - val_accuracy: 0.7273 - val_loss: 0.6767\n",
            "Epoch 22/100\n",
            "\u001b[1m20/20\u001b[0m \u001b[32m━━━━━━━━━━━━━━━━━━━━\u001b[0m\u001b[37m\u001b[0m \u001b[1m0s\u001b[0m 10ms/step - accuracy: 0.8546 - loss: 0.3090 - val_accuracy: 0.7013 - val_loss: 0.8660\n",
            "Epoch 23/100\n",
            "\u001b[1m20/20\u001b[0m \u001b[32m━━━━━━━━━━━━━━━━━━━━\u001b[0m\u001b[37m\u001b[0m \u001b[1m0s\u001b[0m 7ms/step - accuracy: 0.8855 - loss: 0.3064 - val_accuracy: 0.6429 - val_loss: 0.9089\n",
            "Epoch 24/100\n",
            "\u001b[1m20/20\u001b[0m \u001b[32m━━━━━━━━━━━━━━━━━━━━\u001b[0m\u001b[37m\u001b[0m \u001b[1m0s\u001b[0m 8ms/step - accuracy: 0.8715 - loss: 0.2896 - val_accuracy: 0.6948 - val_loss: 0.7317\n",
            "Epoch 25/100\n",
            "\u001b[1m20/20\u001b[0m \u001b[32m━━━━━━━━━━━━━━━━━━━━\u001b[0m\u001b[37m\u001b[0m \u001b[1m0s\u001b[0m 9ms/step - accuracy: 0.8785 - loss: 0.2511 - val_accuracy: 0.7403 - val_loss: 0.7330\n",
            "Epoch 26/100\n",
            "\u001b[1m20/20\u001b[0m \u001b[32m━━━━━━━━━━━━━━━━━━━━\u001b[0m\u001b[37m\u001b[0m \u001b[1m0s\u001b[0m 8ms/step - accuracy: 0.9046 - loss: 0.2224 - val_accuracy: 0.7208 - val_loss: 0.7820\n",
            "Epoch 27/100\n",
            "\u001b[1m20/20\u001b[0m \u001b[32m━━━━━━━━━━━━━━━━━━━━\u001b[0m\u001b[37m\u001b[0m \u001b[1m0s\u001b[0m 8ms/step - accuracy: 0.9279 - loss: 0.1956 - val_accuracy: 0.7597 - val_loss: 0.9077\n",
            "Epoch 28/100\n",
            "\u001b[1m20/20\u001b[0m \u001b[32m━━━━━━━━━━━━━━━━━━━━\u001b[0m\u001b[37m\u001b[0m \u001b[1m0s\u001b[0m 11ms/step - accuracy: 0.9046 - loss: 0.2187 - val_accuracy: 0.6688 - val_loss: 0.8959\n",
            "Epoch 29/100\n",
            "\u001b[1m20/20\u001b[0m \u001b[32m━━━━━━━━━━━━━━━━━━━━\u001b[0m\u001b[37m\u001b[0m \u001b[1m0s\u001b[0m 8ms/step - accuracy: 0.9059 - loss: 0.2127 - val_accuracy: 0.7662 - val_loss: 0.8854\n",
            "Epoch 30/100\n",
            "\u001b[1m20/20\u001b[0m \u001b[32m━━━━━━━━━━━━━━━━━━━━\u001b[0m\u001b[37m\u001b[0m \u001b[1m0s\u001b[0m 15ms/step - accuracy: 0.9369 - loss: 0.2012 - val_accuracy: 0.6948 - val_loss: 1.2022\n",
            "Epoch 31/100\n",
            "\u001b[1m20/20\u001b[0m \u001b[32m━━━━━━━━━━━━━━━━━━━━\u001b[0m\u001b[37m\u001b[0m \u001b[1m0s\u001b[0m 12ms/step - accuracy: 0.9341 - loss: 0.1699 - val_accuracy: 0.7338 - val_loss: 0.9606\n",
            "Epoch 32/100\n",
            "\u001b[1m20/20\u001b[0m \u001b[32m━━━━━━━━━━━━━━━━━━━━\u001b[0m\u001b[37m\u001b[0m \u001b[1m0s\u001b[0m 11ms/step - accuracy: 0.9324 - loss: 0.1724 - val_accuracy: 0.6818 - val_loss: 1.2347\n",
            "Epoch 33/100\n",
            "\u001b[1m20/20\u001b[0m \u001b[32m━━━━━━━━━━━━━━━━━━━━\u001b[0m\u001b[37m\u001b[0m \u001b[1m0s\u001b[0m 12ms/step - accuracy: 0.9199 - loss: 0.1834 - val_accuracy: 0.6948 - val_loss: 1.1406\n",
            "Epoch 34/100\n",
            "\u001b[1m20/20\u001b[0m \u001b[32m━━━━━━━━━━━━━━━━━━━━\u001b[0m\u001b[37m\u001b[0m \u001b[1m0s\u001b[0m 11ms/step - accuracy: 0.9282 - loss: 0.1518 - val_accuracy: 0.7338 - val_loss: 1.2062\n",
            "Epoch 35/100\n",
            "\u001b[1m20/20\u001b[0m \u001b[32m━━━━━━━━━━━━━━━━━━━━\u001b[0m\u001b[37m\u001b[0m \u001b[1m0s\u001b[0m 15ms/step - accuracy: 0.9350 - loss: 0.1522 - val_accuracy: 0.6818 - val_loss: 1.1812\n",
            "Epoch 36/100\n",
            "\u001b[1m20/20\u001b[0m \u001b[32m━━━━━━━━━━━━━━━━━━━━\u001b[0m\u001b[37m\u001b[0m \u001b[1m0s\u001b[0m 15ms/step - accuracy: 0.9705 - loss: 0.1198 - val_accuracy: 0.7338 - val_loss: 1.2461\n",
            "Epoch 37/100\n",
            "\u001b[1m20/20\u001b[0m \u001b[32m━━━━━━━━━━━━━━━━━━━━\u001b[0m\u001b[37m\u001b[0m \u001b[1m1s\u001b[0m 14ms/step - accuracy: 0.9552 - loss: 0.1277 - val_accuracy: 0.7013 - val_loss: 1.3137\n",
            "Epoch 38/100\n",
            "\u001b[1m20/20\u001b[0m \u001b[32m━━━━━━━━━━━━━━━━━━━━\u001b[0m\u001b[37m\u001b[0m \u001b[1m0s\u001b[0m 8ms/step - accuracy: 0.9622 - loss: 0.0929 - val_accuracy: 0.6558 - val_loss: 1.4881\n",
            "Epoch 39/100\n",
            "\u001b[1m20/20\u001b[0m \u001b[32m━━━━━━━━━━━━━━━━━━━━\u001b[0m\u001b[37m\u001b[0m \u001b[1m0s\u001b[0m 12ms/step - accuracy: 0.9492 - loss: 0.1402 - val_accuracy: 0.7273 - val_loss: 1.6961\n",
            "Epoch 40/100\n",
            "\u001b[1m20/20\u001b[0m \u001b[32m━━━━━━━━━━━━━━━━━━━━\u001b[0m\u001b[37m\u001b[0m \u001b[1m0s\u001b[0m 8ms/step - accuracy: 0.9666 - loss: 0.1074 - val_accuracy: 0.6429 - val_loss: 1.3660\n",
            "Epoch 41/100\n",
            "\u001b[1m20/20\u001b[0m \u001b[32m━━━━━━━━━━━━━━━━━━━━\u001b[0m\u001b[37m\u001b[0m \u001b[1m0s\u001b[0m 8ms/step - accuracy: 0.9598 - loss: 0.0923 - val_accuracy: 0.7208 - val_loss: 1.4075\n",
            "Epoch 42/100\n",
            "\u001b[1m20/20\u001b[0m \u001b[32m━━━━━━━━━━━━━━━━━━━━\u001b[0m\u001b[37m\u001b[0m \u001b[1m0s\u001b[0m 8ms/step - accuracy: 0.9674 - loss: 0.0754 - val_accuracy: 0.6558 - val_loss: 1.4116\n",
            "Epoch 43/100\n",
            "\u001b[1m20/20\u001b[0m \u001b[32m━━━━━━━━━━━━━━━━━━━━\u001b[0m\u001b[37m\u001b[0m \u001b[1m0s\u001b[0m 10ms/step - accuracy: 0.9815 - loss: 0.0698 - val_accuracy: 0.6883 - val_loss: 1.4602\n",
            "Epoch 44/100\n",
            "\u001b[1m20/20\u001b[0m \u001b[32m━━━━━━━━━━━━━━━━━━━━\u001b[0m\u001b[37m\u001b[0m \u001b[1m0s\u001b[0m 11ms/step - accuracy: 0.9721 - loss: 0.0653 - val_accuracy: 0.6623 - val_loss: 2.0577\n",
            "Epoch 45/100\n",
            "\u001b[1m20/20\u001b[0m \u001b[32m━━━━━━━━━━━━━━━━━━━━\u001b[0m\u001b[37m\u001b[0m \u001b[1m0s\u001b[0m 9ms/step - accuracy: 0.9654 - loss: 0.0839 - val_accuracy: 0.6558 - val_loss: 1.7271\n",
            "Epoch 46/100\n",
            "\u001b[1m20/20\u001b[0m \u001b[32m━━━━━━━━━━━━━━━━━━━━\u001b[0m\u001b[37m\u001b[0m \u001b[1m0s\u001b[0m 8ms/step - accuracy: 0.9468 - loss: 0.1267 - val_accuracy: 0.7468 - val_loss: 1.6686\n",
            "Epoch 47/100\n",
            "\u001b[1m20/20\u001b[0m \u001b[32m━━━━━━━━━━━━━━━━━━━━\u001b[0m\u001b[37m\u001b[0m \u001b[1m0s\u001b[0m 8ms/step - accuracy: 0.9789 - loss: 0.0827 - val_accuracy: 0.6104 - val_loss: 2.2851\n",
            "Epoch 48/100\n",
            "\u001b[1m20/20\u001b[0m \u001b[32m━━━━━━━━━━━━━━━━━━━━\u001b[0m\u001b[37m\u001b[0m \u001b[1m0s\u001b[0m 8ms/step - accuracy: 0.9407 - loss: 0.1591 - val_accuracy: 0.7143 - val_loss: 1.3836\n",
            "Epoch 49/100\n",
            "\u001b[1m20/20\u001b[0m \u001b[32m━━━━━━━━━━━━━━━━━━━━\u001b[0m\u001b[37m\u001b[0m \u001b[1m0s\u001b[0m 8ms/step - accuracy: 0.9876 - loss: 0.0487 - val_accuracy: 0.7013 - val_loss: 1.5945\n",
            "Epoch 50/100\n",
            "\u001b[1m20/20\u001b[0m \u001b[32m━━━━━━━━━━━━━━━━━━━━\u001b[0m\u001b[37m\u001b[0m \u001b[1m0s\u001b[0m 10ms/step - accuracy: 0.9765 - loss: 0.0771 - val_accuracy: 0.7403 - val_loss: 1.6264\n",
            "Epoch 51/100\n",
            "\u001b[1m20/20\u001b[0m \u001b[32m━━━━━━━━━━━━━━━━━━━━\u001b[0m\u001b[37m\u001b[0m \u001b[1m0s\u001b[0m 15ms/step - accuracy: 0.9933 - loss: 0.0349 - val_accuracy: 0.6948 - val_loss: 2.3313\n",
            "Epoch 52/100\n",
            "\u001b[1m20/20\u001b[0m \u001b[32m━━━━━━━━━━━━━━━━━━━━\u001b[0m\u001b[37m\u001b[0m \u001b[1m0s\u001b[0m 9ms/step - accuracy: 0.9692 - loss: 0.0673 - val_accuracy: 0.6753 - val_loss: 1.9529\n",
            "Epoch 53/100\n",
            "\u001b[1m20/20\u001b[0m \u001b[32m━━━━━━━━━━━━━━━━━━━━\u001b[0m\u001b[37m\u001b[0m \u001b[1m0s\u001b[0m 9ms/step - accuracy: 0.9789 - loss: 0.0372 - val_accuracy: 0.7013 - val_loss: 1.9503\n",
            "Epoch 54/100\n",
            "\u001b[1m20/20\u001b[0m \u001b[32m━━━━━━━━━━━━━━━━━━━━\u001b[0m\u001b[37m\u001b[0m \u001b[1m0s\u001b[0m 9ms/step - accuracy: 0.9840 - loss: 0.0609 - val_accuracy: 0.6948 - val_loss: 2.3090\n",
            "Epoch 55/100\n",
            "\u001b[1m20/20\u001b[0m \u001b[32m━━━━━━━━━━━━━━━━━━━━\u001b[0m\u001b[37m\u001b[0m \u001b[1m0s\u001b[0m 9ms/step - accuracy: 0.9699 - loss: 0.1236 - val_accuracy: 0.7143 - val_loss: 1.8210\n",
            "Epoch 56/100\n",
            "\u001b[1m20/20\u001b[0m \u001b[32m━━━━━━━━━━━━━━━━━━━━\u001b[0m\u001b[37m\u001b[0m \u001b[1m0s\u001b[0m 9ms/step - accuracy: 0.9978 - loss: 0.0205 - val_accuracy: 0.7208 - val_loss: 2.0673\n",
            "Epoch 57/100\n",
            "\u001b[1m20/20\u001b[0m \u001b[32m━━━━━━━━━━━━━━━━━━━━\u001b[0m\u001b[37m\u001b[0m \u001b[1m0s\u001b[0m 8ms/step - accuracy: 0.9830 - loss: 0.0636 - val_accuracy: 0.6558 - val_loss: 2.5202\n",
            "Epoch 58/100\n",
            "\u001b[1m20/20\u001b[0m \u001b[32m━━━━━━━━━━━━━━━━━━━━\u001b[0m\u001b[37m\u001b[0m \u001b[1m0s\u001b[0m 10ms/step - accuracy: 0.9715 - loss: 0.0861 - val_accuracy: 0.6623 - val_loss: 1.7992\n",
            "Epoch 59/100\n",
            "\u001b[1m20/20\u001b[0m \u001b[32m━━━━━━━━━━━━━━━━━━━━\u001b[0m\u001b[37m\u001b[0m \u001b[1m0s\u001b[0m 8ms/step - accuracy: 0.9918 - loss: 0.0256 - val_accuracy: 0.7013 - val_loss: 2.0885\n",
            "Epoch 60/100\n",
            "\u001b[1m20/20\u001b[0m \u001b[32m━━━━━━━━━━━━━━━━━━━━\u001b[0m\u001b[37m\u001b[0m \u001b[1m0s\u001b[0m 8ms/step - accuracy: 0.9940 - loss: 0.0252 - val_accuracy: 0.6883 - val_loss: 2.3553\n",
            "Epoch 61/100\n",
            "\u001b[1m20/20\u001b[0m \u001b[32m━━━━━━━━━━━━━━━━━━━━\u001b[0m\u001b[37m\u001b[0m \u001b[1m0s\u001b[0m 14ms/step - accuracy: 0.9883 - loss: 0.0431 - val_accuracy: 0.6948 - val_loss: 2.2872\n",
            "Epoch 62/100\n",
            "\u001b[1m20/20\u001b[0m \u001b[32m━━━━━━━━━━━━━━━━━━━━\u001b[0m\u001b[37m\u001b[0m \u001b[1m0s\u001b[0m 10ms/step - accuracy: 0.9855 - loss: 0.0396 - val_accuracy: 0.7143 - val_loss: 1.9438\n",
            "Epoch 63/100\n",
            "\u001b[1m20/20\u001b[0m \u001b[32m━━━━━━━━━━━━━━━━━━━━\u001b[0m\u001b[37m\u001b[0m \u001b[1m0s\u001b[0m 8ms/step - accuracy: 0.9838 - loss: 0.0549 - val_accuracy: 0.7208 - val_loss: 1.8468\n",
            "Epoch 64/100\n",
            "\u001b[1m20/20\u001b[0m \u001b[32m━━━━━━━━━━━━━━━━━━━━\u001b[0m\u001b[37m\u001b[0m \u001b[1m0s\u001b[0m 10ms/step - accuracy: 0.9927 - loss: 0.0339 - val_accuracy: 0.7338 - val_loss: 2.1244\n",
            "Epoch 65/100\n",
            "\u001b[1m20/20\u001b[0m \u001b[32m━━━━━━━━━━━━━━━━━━━━\u001b[0m\u001b[37m\u001b[0m \u001b[1m0s\u001b[0m 8ms/step - accuracy: 0.9901 - loss: 0.0354 - val_accuracy: 0.7273 - val_loss: 2.3019\n",
            "Epoch 66/100\n",
            "\u001b[1m20/20\u001b[0m \u001b[32m━━━━━━━━━━━━━━━━━━━━\u001b[0m\u001b[37m\u001b[0m \u001b[1m0s\u001b[0m 9ms/step - accuracy: 0.9871 - loss: 0.0332 - val_accuracy: 0.6623 - val_loss: 2.0223\n",
            "Epoch 67/100\n",
            "\u001b[1m20/20\u001b[0m \u001b[32m━━━━━━━━━━━━━━━━━━━━\u001b[0m\u001b[37m\u001b[0m \u001b[1m0s\u001b[0m 9ms/step - accuracy: 0.9947 - loss: 0.0155 - val_accuracy: 0.6688 - val_loss: 2.4773\n",
            "Epoch 68/100\n",
            "\u001b[1m20/20\u001b[0m \u001b[32m━━━━━━━━━━━━━━━━━━━━\u001b[0m\u001b[37m\u001b[0m \u001b[1m0s\u001b[0m 13ms/step - accuracy: 0.9762 - loss: 0.0980 - val_accuracy: 0.7273 - val_loss: 1.9507\n",
            "Epoch 69/100\n",
            "\u001b[1m20/20\u001b[0m \u001b[32m━━━━━━━━━━━━━━━━━━━━\u001b[0m\u001b[37m\u001b[0m \u001b[1m0s\u001b[0m 9ms/step - accuracy: 0.9830 - loss: 0.0434 - val_accuracy: 0.7013 - val_loss: 2.0483\n",
            "Epoch 70/100\n",
            "\u001b[1m20/20\u001b[0m \u001b[32m━━━━━━━━━━━━━━━━━━━━\u001b[0m\u001b[37m\u001b[0m \u001b[1m0s\u001b[0m 10ms/step - accuracy: 0.9890 - loss: 0.0343 - val_accuracy: 0.6883 - val_loss: 2.1619\n",
            "Epoch 71/100\n",
            "\u001b[1m20/20\u001b[0m \u001b[32m━━━━━━━━━━━━━━━━━━━━\u001b[0m\u001b[37m\u001b[0m \u001b[1m0s\u001b[0m 10ms/step - accuracy: 0.9962 - loss: 0.0259 - val_accuracy: 0.7273 - val_loss: 2.5827\n",
            "Epoch 72/100\n",
            "\u001b[1m20/20\u001b[0m \u001b[32m━━━━━━━━━━━━━━━━━━━━\u001b[0m\u001b[37m\u001b[0m \u001b[1m0s\u001b[0m 9ms/step - accuracy: 0.9848 - loss: 0.0532 - val_accuracy: 0.7338 - val_loss: 2.8403\n",
            "Epoch 73/100\n",
            "\u001b[1m20/20\u001b[0m \u001b[32m━━━━━━━━━━━━━━━━━━━━\u001b[0m\u001b[37m\u001b[0m \u001b[1m0s\u001b[0m 9ms/step - accuracy: 0.9701 - loss: 0.1031 - val_accuracy: 0.6753 - val_loss: 2.2521\n",
            "Epoch 74/100\n",
            "\u001b[1m20/20\u001b[0m \u001b[32m━━━━━━━━━━━━━━━━━━━━\u001b[0m\u001b[37m\u001b[0m \u001b[1m0s\u001b[0m 8ms/step - accuracy: 0.9956 - loss: 0.0294 - val_accuracy: 0.6883 - val_loss: 2.3619\n",
            "Epoch 75/100\n",
            "\u001b[1m20/20\u001b[0m \u001b[32m━━━━━━━━━━━━━━━━━━━━\u001b[0m\u001b[37m\u001b[0m \u001b[1m0s\u001b[0m 9ms/step - accuracy: 0.9987 - loss: 0.0049 - val_accuracy: 0.6883 - val_loss: 2.1227\n",
            "Epoch 76/100\n",
            "\u001b[1m20/20\u001b[0m \u001b[32m━━━━━━━━━━━━━━━━━━━━\u001b[0m\u001b[37m\u001b[0m \u001b[1m0s\u001b[0m 17ms/step - accuracy: 0.9879 - loss: 0.0503 - val_accuracy: 0.6948 - val_loss: 2.3382\n",
            "Epoch 77/100\n",
            "\u001b[1m20/20\u001b[0m \u001b[32m━━━━━━━━━━━━━━━━━━━━\u001b[0m\u001b[37m\u001b[0m \u001b[1m0s\u001b[0m 14ms/step - accuracy: 0.9784 - loss: 0.0995 - val_accuracy: 0.7013 - val_loss: 1.9033\n",
            "Epoch 78/100\n",
            "\u001b[1m20/20\u001b[0m \u001b[32m━━━━━━━━━━━━━━━━━━━━\u001b[0m\u001b[37m\u001b[0m \u001b[1m0s\u001b[0m 14ms/step - accuracy: 0.9959 - loss: 0.0133 - val_accuracy: 0.7078 - val_loss: 2.1828\n",
            "Epoch 79/100\n",
            "\u001b[1m20/20\u001b[0m \u001b[32m━━━━━━━━━━━━━━━━━━━━\u001b[0m\u001b[37m\u001b[0m \u001b[1m0s\u001b[0m 14ms/step - accuracy: 0.9909 - loss: 0.0282 - val_accuracy: 0.7078 - val_loss: 2.0798\n",
            "Epoch 80/100\n",
            "\u001b[1m20/20\u001b[0m \u001b[32m━━━━━━━━━━━━━━━━━━━━\u001b[0m\u001b[37m\u001b[0m \u001b[1m1s\u001b[0m 14ms/step - accuracy: 0.9915 - loss: 0.0333 - val_accuracy: 0.7013 - val_loss: 1.9756\n",
            "Epoch 81/100\n",
            "\u001b[1m20/20\u001b[0m \u001b[32m━━━━━━━━━━━━━━━━━━━━\u001b[0m\u001b[37m\u001b[0m \u001b[1m0s\u001b[0m 12ms/step - accuracy: 0.9937 - loss: 0.0136 - val_accuracy: 0.7273 - val_loss: 2.2305\n",
            "Epoch 82/100\n",
            "\u001b[1m20/20\u001b[0m \u001b[32m━━━━━━━━━━━━━━━━━━━━\u001b[0m\u001b[37m\u001b[0m \u001b[1m1s\u001b[0m 24ms/step - accuracy: 0.9937 - loss: 0.0216 - val_accuracy: 0.7208 - val_loss: 2.2825\n",
            "Epoch 83/100\n",
            "\u001b[1m20/20\u001b[0m \u001b[32m━━━━━━━━━━━━━━━━━━━━\u001b[0m\u001b[37m\u001b[0m \u001b[1m0s\u001b[0m 8ms/step - accuracy: 0.9824 - loss: 0.0884 - val_accuracy: 0.6883 - val_loss: 2.1196\n",
            "Epoch 84/100\n",
            "\u001b[1m20/20\u001b[0m \u001b[32m━━━━━━━━━━━━━━━━━━━━\u001b[0m\u001b[37m\u001b[0m \u001b[1m0s\u001b[0m 11ms/step - accuracy: 0.9985 - loss: 0.0078 - val_accuracy: 0.7013 - val_loss: 2.0869\n",
            "Epoch 85/100\n",
            "\u001b[1m20/20\u001b[0m \u001b[32m━━━━━━━━━━━━━━━━━━━━\u001b[0m\u001b[37m\u001b[0m \u001b[1m1s\u001b[0m 21ms/step - accuracy: 1.0000 - loss: 0.0027 - val_accuracy: 0.7078 - val_loss: 2.3233\n",
            "Epoch 86/100\n",
            "\u001b[1m20/20\u001b[0m \u001b[32m━━━━━━━━━━━━━━━━━━━━\u001b[0m\u001b[37m\u001b[0m \u001b[1m0s\u001b[0m 8ms/step - accuracy: 0.9982 - loss: 0.0073 - val_accuracy: 0.7273 - val_loss: 2.7119\n",
            "Epoch 87/100\n",
            "\u001b[1m20/20\u001b[0m \u001b[32m━━━━━━━━━━━━━━━━━━━━\u001b[0m\u001b[37m\u001b[0m \u001b[1m1s\u001b[0m 26ms/step - accuracy: 0.9809 - loss: 0.0433 - val_accuracy: 0.6948 - val_loss: 2.3130\n",
            "Epoch 88/100\n",
            "\u001b[1m20/20\u001b[0m \u001b[32m━━━━━━━━━━━━━━━━━━━━\u001b[0m\u001b[37m\u001b[0m \u001b[1m0s\u001b[0m 9ms/step - accuracy: 1.0000 - loss: 0.0016 - val_accuracy: 0.7078 - val_loss: 2.5773\n",
            "Epoch 89/100\n",
            "\u001b[1m20/20\u001b[0m \u001b[32m━━━━━━━━━━━━━━━━━━━━\u001b[0m\u001b[37m\u001b[0m \u001b[1m0s\u001b[0m 9ms/step - accuracy: 1.0000 - loss: 6.0346e-04 - val_accuracy: 0.6883 - val_loss: 2.8770\n",
            "Epoch 90/100\n",
            "\u001b[1m20/20\u001b[0m \u001b[32m━━━━━━━━━━━━━━━━━━━━\u001b[0m\u001b[37m\u001b[0m \u001b[1m0s\u001b[0m 12ms/step - accuracy: 1.0000 - loss: 3.0025e-04 - val_accuracy: 0.6883 - val_loss: 3.0849\n",
            "Epoch 91/100\n",
            "\u001b[1m20/20\u001b[0m \u001b[32m━━━━━━━━━━━━━━━━━━━━\u001b[0m\u001b[37m\u001b[0m \u001b[1m0s\u001b[0m 9ms/step - accuracy: 1.0000 - loss: 2.2981e-04 - val_accuracy: 0.6753 - val_loss: 3.1492\n",
            "Epoch 92/100\n",
            "\u001b[1m20/20\u001b[0m \u001b[32m━━━━━━━━━━━━━━━━━━━━\u001b[0m\u001b[37m\u001b[0m \u001b[1m0s\u001b[0m 9ms/step - accuracy: 0.9660 - loss: 0.1775 - val_accuracy: 0.6883 - val_loss: 2.4047\n",
            "Epoch 93/100\n",
            "\u001b[1m20/20\u001b[0m \u001b[32m━━━━━━━━━━━━━━━━━━━━\u001b[0m\u001b[37m\u001b[0m \u001b[1m0s\u001b[0m 8ms/step - accuracy: 0.9921 - loss: 0.0164 - val_accuracy: 0.6623 - val_loss: 2.5588\n",
            "Epoch 94/100\n",
            "\u001b[1m20/20\u001b[0m \u001b[32m━━━━━━━━━━━━━━━━━━━━\u001b[0m\u001b[37m\u001b[0m \u001b[1m0s\u001b[0m 12ms/step - accuracy: 0.9812 - loss: 0.0779 - val_accuracy: 0.7208 - val_loss: 2.2645\n",
            "Epoch 95/100\n",
            "\u001b[1m20/20\u001b[0m \u001b[32m━━━━━━━━━━━━━━━━━━━━\u001b[0m\u001b[37m\u001b[0m \u001b[1m0s\u001b[0m 8ms/step - accuracy: 0.9995 - loss: 0.0049 - val_accuracy: 0.7013 - val_loss: 2.4851\n",
            "Epoch 96/100\n",
            "\u001b[1m20/20\u001b[0m \u001b[32m━━━━━━━━━━━━━━━━━━━━\u001b[0m\u001b[37m\u001b[0m \u001b[1m0s\u001b[0m 8ms/step - accuracy: 0.9974 - loss: 0.0142 - val_accuracy: 0.6753 - val_loss: 2.0491\n",
            "Epoch 97/100\n",
            "\u001b[1m20/20\u001b[0m \u001b[32m━━━━━━━━━━━━━━━━━━━━\u001b[0m\u001b[37m\u001b[0m \u001b[1m0s\u001b[0m 9ms/step - accuracy: 0.9950 - loss: 0.0187 - val_accuracy: 0.7273 - val_loss: 2.1429\n",
            "Epoch 98/100\n",
            "\u001b[1m20/20\u001b[0m \u001b[32m━━━━━━━━━━━━━━━━━━━━\u001b[0m\u001b[37m\u001b[0m \u001b[1m0s\u001b[0m 11ms/step - accuracy: 0.9913 - loss: 0.0401 - val_accuracy: 0.7078 - val_loss: 1.8477\n",
            "Epoch 99/100\n",
            "\u001b[1m20/20\u001b[0m \u001b[32m━━━━━━━━━━━━━━━━━━━━\u001b[0m\u001b[37m\u001b[0m \u001b[1m0s\u001b[0m 8ms/step - accuracy: 0.9917 - loss: 0.0229 - val_accuracy: 0.6883 - val_loss: 2.1845\n",
            "Epoch 100/100\n",
            "\u001b[1m20/20\u001b[0m \u001b[32m━━━━━━━━━━━━━━━━━━━━\u001b[0m\u001b[37m\u001b[0m \u001b[1m0s\u001b[0m 8ms/step - accuracy: 0.9916 - loss: 0.0278 - val_accuracy: 0.6948 - val_loss: 2.0817\n"
          ]
        },
        {
          "output_type": "execute_result",
          "data": {
            "text/plain": [
              "<keras.src.callbacks.history.History at 0x7cbaa7aee590>"
            ]
          },
          "metadata": {},
          "execution_count": 77
        }
      ]
    },
    {
      "cell_type": "markdown",
      "source": [
        "# now lets do final thing\n",
        "\n",
        "## we will create model with hyperparamter no of layers and no of perceptrons in each layer"
      ],
      "metadata": {
        "id": "sjKTzmltRQ0G"
      }
    },
    {
      "cell_type": "code",
      "source": [
        "from keras.layers import Dropout\n",
        "def build_model(hp):\n",
        "    model = Sequential()\n",
        "\n",
        "    # Input layer + First hidden layer: Tune the number of neurons\n",
        "    model.add(Dense(units=hp.Int('input_units', min_value=8, max_value=128, step=8),\n",
        "                    activation='relu', input_dim=8))\n",
        "\n",
        "    # Add a tunable dropout layer after the first hidden layer\n",
        "    model.add(Dropout(hp.Choice('dropout_input', values=[0.1, 0.2, 0.3, 0.4, 0.5, 0.6, 0.7, 0.8, 0.9])))\n",
        "\n",
        "\n",
        "    # Add a tunable number of hidden layers between 0 and 10\n",
        "    for i in range(hp.Int('num_layers', min_value=0, max_value=10)):\n",
        "        # Tune the number of neurons in each hidden layer\n",
        "        model.add(Dense(units=hp.Int(f'layer_{i}_units', min_value=8, max_value=128, step=8),\n",
        "                        activation='relu'))\n",
        "        # Add a tunable dropout layer after each hidden layer\n",
        "        model.add(Dropout(hp.Choice('dropout' + str(i), values=[0.1, 0.2, 0.3, 0.4, 0.5, 0.6, 0.7, 0.8, 0.9])))\n",
        "\n",
        "\n",
        "    # Output layer\n",
        "    model.add(Dense(1, activation='sigmoid'))\n",
        "\n",
        "\n",
        "    # Tune the optimizer\n",
        "    optimizer = hp.Choice('optimizer', values=['adam', 'sgd', 'rmsprop', 'adadelta'])\n",
        "\n",
        "    model.compile(\n",
        "        optimizer=optimizer,\n",
        "        loss='binary_crossentropy',\n",
        "        metrics=['accuracy']\n",
        "    )\n",
        "\n",
        "    return model"
      ],
      "metadata": {
        "id": "ADrk-XSBS1Xa"
      },
      "execution_count": 78,
      "outputs": []
    },
    {
      "cell_type": "code",
      "source": [
        "\n",
        "# Set up the Keras Tuner using RandomSearch\n",
        "tuner = kt.RandomSearch(\n",
        "    build_model,\n",
        "    objective='val_accuracy',\n",
        "    max_trials=20,            # Increased trials to explore more combinations\n",
        "    directory='mydir',\n",
        "    project_name='full_tuning'\n",
        ")"
      ],
      "metadata": {
        "colab": {
          "base_uri": "https://localhost:8080/"
        },
        "id": "hnJuy3l3S4B3",
        "outputId": "2afc4878-ab8c-444a-b1f2-26977b8e4238"
      },
      "execution_count": 79,
      "outputs": [
        {
          "output_type": "stream",
          "name": "stdout",
          "text": [
            "Reloading Tuner from mydir/full_tuning/tuner0.json\n"
          ]
        }
      ]
    },
    {
      "cell_type": "code",
      "source": [
        "tuner.search(X_train, y_train, epochs=10, validation_data=(X_test, y_test))"
      ],
      "metadata": {
        "id": "gl2GaP4cS-HF"
      },
      "execution_count": 80,
      "outputs": []
    },
    {
      "cell_type": "code",
      "source": [
        "best_hps = tuner.get_best_hyperparameters(num_trials=1)[0]"
      ],
      "metadata": {
        "id": "tF1LhYTmTF4_"
      },
      "execution_count": 81,
      "outputs": []
    },
    {
      "cell_type": "code",
      "source": [
        "for i in range(best_hps.get('num_layers')):\n",
        "    print(f\"Optimal units for layer {i} is: {best_hps.get(f'layer_{i}_units')}\")"
      ],
      "metadata": {
        "colab": {
          "base_uri": "https://localhost:8080/"
        },
        "id": "IflYp6E7TVhe",
        "outputId": "3119852a-cd3a-45ea-d2ac-fd0537e46d45"
      },
      "execution_count": 82,
      "outputs": [
        {
          "output_type": "stream",
          "name": "stdout",
          "text": [
            "Optimal units for layer 0 is: 88\n",
            "Optimal units for layer 1 is: 104\n",
            "Optimal units for layer 2 is: 64\n",
            "Optimal units for layer 3 is: 24\n",
            "Optimal units for layer 4 is: 112\n",
            "Optimal units for layer 5 is: 16\n",
            "Optimal units for layer 6 is: 72\n",
            "Optimal units for layer 7 is: 32\n",
            "Optimal units for layer 8 is: 48\n"
          ]
        }
      ]
    },
    {
      "cell_type": "code",
      "source": [
        "from tensorflow.keras.callbacks import EarlyStopping\n",
        "\n",
        "# Build the best model found by the tuner\n",
        "model = tuner.get_best_models(num_models=1)[0]\n",
        "\n",
        "# Print the summary of the best model architecture\n",
        "model.summary()\n",
        "\n",
        "# Define the EarlyStopping callback\n",
        "early_stopping = EarlyStopping(monitor='val_accuracy', patience=10, restore_best_weights=True)\n",
        "\n",
        "# Train the best model with more epochs using the full training data\n",
        "# We can start from epoch 0 here if we want to fully train the best model\n",
        "model.fit(X_train, y_train, batch_size=32, epochs=200, validation_data=(X_test, y_test), callbacks=[early_stopping])"
      ],
      "metadata": {
        "colab": {
          "base_uri": "https://localhost:8080/",
          "height": 1000
        },
        "id": "GKmvTDGXRBoU",
        "outputId": "70b58261-5b16-482c-a1e1-aba0fa7e8798"
      },
      "execution_count": 84,
      "outputs": [
        {
          "output_type": "stream",
          "name": "stderr",
          "text": [
            "/usr/local/lib/python3.11/dist-packages/keras/src/layers/core/dense.py:87: UserWarning: Do not pass an `input_shape`/`input_dim` argument to a layer. When using Sequential models, prefer using an `Input(shape)` object as the first layer in the model instead.\n",
            "  super().__init__(activity_regularizer=activity_regularizer, **kwargs)\n",
            "/usr/local/lib/python3.11/dist-packages/keras/src/saving/saving_lib.py:757: UserWarning: Skipping variable loading for optimizer 'rmsprop', because it has 2 variables whereas the saved optimizer has 24 variables. \n",
            "  saveable.load_own_variables(weights_store.get(inner_path))\n"
          ]
        },
        {
          "output_type": "display_data",
          "data": {
            "text/plain": [
              "\u001b[1mModel: \"sequential\"\u001b[0m\n"
            ],
            "text/html": [
              "<pre style=\"white-space:pre;overflow-x:auto;line-height:normal;font-family:Menlo,'DejaVu Sans Mono',consolas,'Courier New',monospace\"><span style=\"font-weight: bold\">Model: \"sequential\"</span>\n",
              "</pre>\n"
            ]
          },
          "metadata": {}
        },
        {
          "output_type": "display_data",
          "data": {
            "text/plain": [
              "┏━━━━━━━━━━━━━━━━━━━━━━━━━━━━━━━━━┳━━━━━━━━━━━━━━━━━━━━━━━━┳━━━━━━━━━━━━━━━┓\n",
              "┃\u001b[1m \u001b[0m\u001b[1mLayer (type)                   \u001b[0m\u001b[1m \u001b[0m┃\u001b[1m \u001b[0m\u001b[1mOutput Shape          \u001b[0m\u001b[1m \u001b[0m┃\u001b[1m \u001b[0m\u001b[1m      Param #\u001b[0m\u001b[1m \u001b[0m┃\n",
              "┡━━━━━━━━━━━━━━━━━━━━━━━━━━━━━━━━━╇━━━━━━━━━━━━━━━━━━━━━━━━╇━━━━━━━━━━━━━━━┩\n",
              "│ dense (\u001b[38;5;33mDense\u001b[0m)                   │ (\u001b[38;5;45mNone\u001b[0m, \u001b[38;5;34m120\u001b[0m)            │         \u001b[38;5;34m1,080\u001b[0m │\n",
              "├─────────────────────────────────┼────────────────────────┼───────────────┤\n",
              "│ dropout (\u001b[38;5;33mDropout\u001b[0m)               │ (\u001b[38;5;45mNone\u001b[0m, \u001b[38;5;34m120\u001b[0m)            │             \u001b[38;5;34m0\u001b[0m │\n",
              "├─────────────────────────────────┼────────────────────────┼───────────────┤\n",
              "│ dense_1 (\u001b[38;5;33mDense\u001b[0m)                 │ (\u001b[38;5;45mNone\u001b[0m, \u001b[38;5;34m88\u001b[0m)             │        \u001b[38;5;34m10,648\u001b[0m │\n",
              "├─────────────────────────────────┼────────────────────────┼───────────────┤\n",
              "│ dropout_1 (\u001b[38;5;33mDropout\u001b[0m)             │ (\u001b[38;5;45mNone\u001b[0m, \u001b[38;5;34m88\u001b[0m)             │             \u001b[38;5;34m0\u001b[0m │\n",
              "├─────────────────────────────────┼────────────────────────┼───────────────┤\n",
              "│ dense_2 (\u001b[38;5;33mDense\u001b[0m)                 │ (\u001b[38;5;45mNone\u001b[0m, \u001b[38;5;34m104\u001b[0m)            │         \u001b[38;5;34m9,256\u001b[0m │\n",
              "├─────────────────────────────────┼────────────────────────┼───────────────┤\n",
              "│ dropout_2 (\u001b[38;5;33mDropout\u001b[0m)             │ (\u001b[38;5;45mNone\u001b[0m, \u001b[38;5;34m104\u001b[0m)            │             \u001b[38;5;34m0\u001b[0m │\n",
              "├─────────────────────────────────┼────────────────────────┼───────────────┤\n",
              "│ dense_3 (\u001b[38;5;33mDense\u001b[0m)                 │ (\u001b[38;5;45mNone\u001b[0m, \u001b[38;5;34m64\u001b[0m)             │         \u001b[38;5;34m6,720\u001b[0m │\n",
              "├─────────────────────────────────┼────────────────────────┼───────────────┤\n",
              "│ dropout_3 (\u001b[38;5;33mDropout\u001b[0m)             │ (\u001b[38;5;45mNone\u001b[0m, \u001b[38;5;34m64\u001b[0m)             │             \u001b[38;5;34m0\u001b[0m │\n",
              "├─────────────────────────────────┼────────────────────────┼───────────────┤\n",
              "│ dense_4 (\u001b[38;5;33mDense\u001b[0m)                 │ (\u001b[38;5;45mNone\u001b[0m, \u001b[38;5;34m24\u001b[0m)             │         \u001b[38;5;34m1,560\u001b[0m │\n",
              "├─────────────────────────────────┼────────────────────────┼───────────────┤\n",
              "│ dropout_4 (\u001b[38;5;33mDropout\u001b[0m)             │ (\u001b[38;5;45mNone\u001b[0m, \u001b[38;5;34m24\u001b[0m)             │             \u001b[38;5;34m0\u001b[0m │\n",
              "├─────────────────────────────────┼────────────────────────┼───────────────┤\n",
              "│ dense_5 (\u001b[38;5;33mDense\u001b[0m)                 │ (\u001b[38;5;45mNone\u001b[0m, \u001b[38;5;34m112\u001b[0m)            │         \u001b[38;5;34m2,800\u001b[0m │\n",
              "├─────────────────────────────────┼────────────────────────┼───────────────┤\n",
              "│ dropout_5 (\u001b[38;5;33mDropout\u001b[0m)             │ (\u001b[38;5;45mNone\u001b[0m, \u001b[38;5;34m112\u001b[0m)            │             \u001b[38;5;34m0\u001b[0m │\n",
              "├─────────────────────────────────┼────────────────────────┼───────────────┤\n",
              "│ dense_6 (\u001b[38;5;33mDense\u001b[0m)                 │ (\u001b[38;5;45mNone\u001b[0m, \u001b[38;5;34m16\u001b[0m)             │         \u001b[38;5;34m1,808\u001b[0m │\n",
              "├─────────────────────────────────┼────────────────────────┼───────────────┤\n",
              "│ dropout_6 (\u001b[38;5;33mDropout\u001b[0m)             │ (\u001b[38;5;45mNone\u001b[0m, \u001b[38;5;34m16\u001b[0m)             │             \u001b[38;5;34m0\u001b[0m │\n",
              "├─────────────────────────────────┼────────────────────────┼───────────────┤\n",
              "│ dense_7 (\u001b[38;5;33mDense\u001b[0m)                 │ (\u001b[38;5;45mNone\u001b[0m, \u001b[38;5;34m72\u001b[0m)             │         \u001b[38;5;34m1,224\u001b[0m │\n",
              "├─────────────────────────────────┼────────────────────────┼───────────────┤\n",
              "│ dropout_7 (\u001b[38;5;33mDropout\u001b[0m)             │ (\u001b[38;5;45mNone\u001b[0m, \u001b[38;5;34m72\u001b[0m)             │             \u001b[38;5;34m0\u001b[0m │\n",
              "├─────────────────────────────────┼────────────────────────┼───────────────┤\n",
              "│ dense_8 (\u001b[38;5;33mDense\u001b[0m)                 │ (\u001b[38;5;45mNone\u001b[0m, \u001b[38;5;34m32\u001b[0m)             │         \u001b[38;5;34m2,336\u001b[0m │\n",
              "├─────────────────────────────────┼────────────────────────┼───────────────┤\n",
              "│ dropout_8 (\u001b[38;5;33mDropout\u001b[0m)             │ (\u001b[38;5;45mNone\u001b[0m, \u001b[38;5;34m32\u001b[0m)             │             \u001b[38;5;34m0\u001b[0m │\n",
              "├─────────────────────────────────┼────────────────────────┼───────────────┤\n",
              "│ dense_9 (\u001b[38;5;33mDense\u001b[0m)                 │ (\u001b[38;5;45mNone\u001b[0m, \u001b[38;5;34m48\u001b[0m)             │         \u001b[38;5;34m1,584\u001b[0m │\n",
              "├─────────────────────────────────┼────────────────────────┼───────────────┤\n",
              "│ dropout_9 (\u001b[38;5;33mDropout\u001b[0m)             │ (\u001b[38;5;45mNone\u001b[0m, \u001b[38;5;34m48\u001b[0m)             │             \u001b[38;5;34m0\u001b[0m │\n",
              "├─────────────────────────────────┼────────────────────────┼───────────────┤\n",
              "│ dense_10 (\u001b[38;5;33mDense\u001b[0m)                │ (\u001b[38;5;45mNone\u001b[0m, \u001b[38;5;34m1\u001b[0m)              │            \u001b[38;5;34m49\u001b[0m │\n",
              "└─────────────────────────────────┴────────────────────────┴───────────────┘\n"
            ],
            "text/html": [
              "<pre style=\"white-space:pre;overflow-x:auto;line-height:normal;font-family:Menlo,'DejaVu Sans Mono',consolas,'Courier New',monospace\">┏━━━━━━━━━━━━━━━━━━━━━━━━━━━━━━━━━┳━━━━━━━━━━━━━━━━━━━━━━━━┳━━━━━━━━━━━━━━━┓\n",
              "┃<span style=\"font-weight: bold\"> Layer (type)                    </span>┃<span style=\"font-weight: bold\"> Output Shape           </span>┃<span style=\"font-weight: bold\">       Param # </span>┃\n",
              "┡━━━━━━━━━━━━━━━━━━━━━━━━━━━━━━━━━╇━━━━━━━━━━━━━━━━━━━━━━━━╇━━━━━━━━━━━━━━━┩\n",
              "│ dense (<span style=\"color: #0087ff; text-decoration-color: #0087ff\">Dense</span>)                   │ (<span style=\"color: #00d7ff; text-decoration-color: #00d7ff\">None</span>, <span style=\"color: #00af00; text-decoration-color: #00af00\">120</span>)            │         <span style=\"color: #00af00; text-decoration-color: #00af00\">1,080</span> │\n",
              "├─────────────────────────────────┼────────────────────────┼───────────────┤\n",
              "│ dropout (<span style=\"color: #0087ff; text-decoration-color: #0087ff\">Dropout</span>)               │ (<span style=\"color: #00d7ff; text-decoration-color: #00d7ff\">None</span>, <span style=\"color: #00af00; text-decoration-color: #00af00\">120</span>)            │             <span style=\"color: #00af00; text-decoration-color: #00af00\">0</span> │\n",
              "├─────────────────────────────────┼────────────────────────┼───────────────┤\n",
              "│ dense_1 (<span style=\"color: #0087ff; text-decoration-color: #0087ff\">Dense</span>)                 │ (<span style=\"color: #00d7ff; text-decoration-color: #00d7ff\">None</span>, <span style=\"color: #00af00; text-decoration-color: #00af00\">88</span>)             │        <span style=\"color: #00af00; text-decoration-color: #00af00\">10,648</span> │\n",
              "├─────────────────────────────────┼────────────────────────┼───────────────┤\n",
              "│ dropout_1 (<span style=\"color: #0087ff; text-decoration-color: #0087ff\">Dropout</span>)             │ (<span style=\"color: #00d7ff; text-decoration-color: #00d7ff\">None</span>, <span style=\"color: #00af00; text-decoration-color: #00af00\">88</span>)             │             <span style=\"color: #00af00; text-decoration-color: #00af00\">0</span> │\n",
              "├─────────────────────────────────┼────────────────────────┼───────────────┤\n",
              "│ dense_2 (<span style=\"color: #0087ff; text-decoration-color: #0087ff\">Dense</span>)                 │ (<span style=\"color: #00d7ff; text-decoration-color: #00d7ff\">None</span>, <span style=\"color: #00af00; text-decoration-color: #00af00\">104</span>)            │         <span style=\"color: #00af00; text-decoration-color: #00af00\">9,256</span> │\n",
              "├─────────────────────────────────┼────────────────────────┼───────────────┤\n",
              "│ dropout_2 (<span style=\"color: #0087ff; text-decoration-color: #0087ff\">Dropout</span>)             │ (<span style=\"color: #00d7ff; text-decoration-color: #00d7ff\">None</span>, <span style=\"color: #00af00; text-decoration-color: #00af00\">104</span>)            │             <span style=\"color: #00af00; text-decoration-color: #00af00\">0</span> │\n",
              "├─────────────────────────────────┼────────────────────────┼───────────────┤\n",
              "│ dense_3 (<span style=\"color: #0087ff; text-decoration-color: #0087ff\">Dense</span>)                 │ (<span style=\"color: #00d7ff; text-decoration-color: #00d7ff\">None</span>, <span style=\"color: #00af00; text-decoration-color: #00af00\">64</span>)             │         <span style=\"color: #00af00; text-decoration-color: #00af00\">6,720</span> │\n",
              "├─────────────────────────────────┼────────────────────────┼───────────────┤\n",
              "│ dropout_3 (<span style=\"color: #0087ff; text-decoration-color: #0087ff\">Dropout</span>)             │ (<span style=\"color: #00d7ff; text-decoration-color: #00d7ff\">None</span>, <span style=\"color: #00af00; text-decoration-color: #00af00\">64</span>)             │             <span style=\"color: #00af00; text-decoration-color: #00af00\">0</span> │\n",
              "├─────────────────────────────────┼────────────────────────┼───────────────┤\n",
              "│ dense_4 (<span style=\"color: #0087ff; text-decoration-color: #0087ff\">Dense</span>)                 │ (<span style=\"color: #00d7ff; text-decoration-color: #00d7ff\">None</span>, <span style=\"color: #00af00; text-decoration-color: #00af00\">24</span>)             │         <span style=\"color: #00af00; text-decoration-color: #00af00\">1,560</span> │\n",
              "├─────────────────────────────────┼────────────────────────┼───────────────┤\n",
              "│ dropout_4 (<span style=\"color: #0087ff; text-decoration-color: #0087ff\">Dropout</span>)             │ (<span style=\"color: #00d7ff; text-decoration-color: #00d7ff\">None</span>, <span style=\"color: #00af00; text-decoration-color: #00af00\">24</span>)             │             <span style=\"color: #00af00; text-decoration-color: #00af00\">0</span> │\n",
              "├─────────────────────────────────┼────────────────────────┼───────────────┤\n",
              "│ dense_5 (<span style=\"color: #0087ff; text-decoration-color: #0087ff\">Dense</span>)                 │ (<span style=\"color: #00d7ff; text-decoration-color: #00d7ff\">None</span>, <span style=\"color: #00af00; text-decoration-color: #00af00\">112</span>)            │         <span style=\"color: #00af00; text-decoration-color: #00af00\">2,800</span> │\n",
              "├─────────────────────────────────┼────────────────────────┼───────────────┤\n",
              "│ dropout_5 (<span style=\"color: #0087ff; text-decoration-color: #0087ff\">Dropout</span>)             │ (<span style=\"color: #00d7ff; text-decoration-color: #00d7ff\">None</span>, <span style=\"color: #00af00; text-decoration-color: #00af00\">112</span>)            │             <span style=\"color: #00af00; text-decoration-color: #00af00\">0</span> │\n",
              "├─────────────────────────────────┼────────────────────────┼───────────────┤\n",
              "│ dense_6 (<span style=\"color: #0087ff; text-decoration-color: #0087ff\">Dense</span>)                 │ (<span style=\"color: #00d7ff; text-decoration-color: #00d7ff\">None</span>, <span style=\"color: #00af00; text-decoration-color: #00af00\">16</span>)             │         <span style=\"color: #00af00; text-decoration-color: #00af00\">1,808</span> │\n",
              "├─────────────────────────────────┼────────────────────────┼───────────────┤\n",
              "│ dropout_6 (<span style=\"color: #0087ff; text-decoration-color: #0087ff\">Dropout</span>)             │ (<span style=\"color: #00d7ff; text-decoration-color: #00d7ff\">None</span>, <span style=\"color: #00af00; text-decoration-color: #00af00\">16</span>)             │             <span style=\"color: #00af00; text-decoration-color: #00af00\">0</span> │\n",
              "├─────────────────────────────────┼────────────────────────┼───────────────┤\n",
              "│ dense_7 (<span style=\"color: #0087ff; text-decoration-color: #0087ff\">Dense</span>)                 │ (<span style=\"color: #00d7ff; text-decoration-color: #00d7ff\">None</span>, <span style=\"color: #00af00; text-decoration-color: #00af00\">72</span>)             │         <span style=\"color: #00af00; text-decoration-color: #00af00\">1,224</span> │\n",
              "├─────────────────────────────────┼────────────────────────┼───────────────┤\n",
              "│ dropout_7 (<span style=\"color: #0087ff; text-decoration-color: #0087ff\">Dropout</span>)             │ (<span style=\"color: #00d7ff; text-decoration-color: #00d7ff\">None</span>, <span style=\"color: #00af00; text-decoration-color: #00af00\">72</span>)             │             <span style=\"color: #00af00; text-decoration-color: #00af00\">0</span> │\n",
              "├─────────────────────────────────┼────────────────────────┼───────────────┤\n",
              "│ dense_8 (<span style=\"color: #0087ff; text-decoration-color: #0087ff\">Dense</span>)                 │ (<span style=\"color: #00d7ff; text-decoration-color: #00d7ff\">None</span>, <span style=\"color: #00af00; text-decoration-color: #00af00\">32</span>)             │         <span style=\"color: #00af00; text-decoration-color: #00af00\">2,336</span> │\n",
              "├─────────────────────────────────┼────────────────────────┼───────────────┤\n",
              "│ dropout_8 (<span style=\"color: #0087ff; text-decoration-color: #0087ff\">Dropout</span>)             │ (<span style=\"color: #00d7ff; text-decoration-color: #00d7ff\">None</span>, <span style=\"color: #00af00; text-decoration-color: #00af00\">32</span>)             │             <span style=\"color: #00af00; text-decoration-color: #00af00\">0</span> │\n",
              "├─────────────────────────────────┼────────────────────────┼───────────────┤\n",
              "│ dense_9 (<span style=\"color: #0087ff; text-decoration-color: #0087ff\">Dense</span>)                 │ (<span style=\"color: #00d7ff; text-decoration-color: #00d7ff\">None</span>, <span style=\"color: #00af00; text-decoration-color: #00af00\">48</span>)             │         <span style=\"color: #00af00; text-decoration-color: #00af00\">1,584</span> │\n",
              "├─────────────────────────────────┼────────────────────────┼───────────────┤\n",
              "│ dropout_9 (<span style=\"color: #0087ff; text-decoration-color: #0087ff\">Dropout</span>)             │ (<span style=\"color: #00d7ff; text-decoration-color: #00d7ff\">None</span>, <span style=\"color: #00af00; text-decoration-color: #00af00\">48</span>)             │             <span style=\"color: #00af00; text-decoration-color: #00af00\">0</span> │\n",
              "├─────────────────────────────────┼────────────────────────┼───────────────┤\n",
              "│ dense_10 (<span style=\"color: #0087ff; text-decoration-color: #0087ff\">Dense</span>)                │ (<span style=\"color: #00d7ff; text-decoration-color: #00d7ff\">None</span>, <span style=\"color: #00af00; text-decoration-color: #00af00\">1</span>)              │            <span style=\"color: #00af00; text-decoration-color: #00af00\">49</span> │\n",
              "└─────────────────────────────────┴────────────────────────┴───────────────┘\n",
              "</pre>\n"
            ]
          },
          "metadata": {}
        },
        {
          "output_type": "display_data",
          "data": {
            "text/plain": [
              "\u001b[1m Total params: \u001b[0m\u001b[38;5;34m39,065\u001b[0m (152.60 KB)\n"
            ],
            "text/html": [
              "<pre style=\"white-space:pre;overflow-x:auto;line-height:normal;font-family:Menlo,'DejaVu Sans Mono',consolas,'Courier New',monospace\"><span style=\"font-weight: bold\"> Total params: </span><span style=\"color: #00af00; text-decoration-color: #00af00\">39,065</span> (152.60 KB)\n",
              "</pre>\n"
            ]
          },
          "metadata": {}
        },
        {
          "output_type": "display_data",
          "data": {
            "text/plain": [
              "\u001b[1m Trainable params: \u001b[0m\u001b[38;5;34m39,065\u001b[0m (152.60 KB)\n"
            ],
            "text/html": [
              "<pre style=\"white-space:pre;overflow-x:auto;line-height:normal;font-family:Menlo,'DejaVu Sans Mono',consolas,'Courier New',monospace\"><span style=\"font-weight: bold\"> Trainable params: </span><span style=\"color: #00af00; text-decoration-color: #00af00\">39,065</span> (152.60 KB)\n",
              "</pre>\n"
            ]
          },
          "metadata": {}
        },
        {
          "output_type": "display_data",
          "data": {
            "text/plain": [
              "\u001b[1m Non-trainable params: \u001b[0m\u001b[38;5;34m0\u001b[0m (0.00 B)\n"
            ],
            "text/html": [
              "<pre style=\"white-space:pre;overflow-x:auto;line-height:normal;font-family:Menlo,'DejaVu Sans Mono',consolas,'Courier New',monospace\"><span style=\"font-weight: bold\"> Non-trainable params: </span><span style=\"color: #00af00; text-decoration-color: #00af00\">0</span> (0.00 B)\n",
              "</pre>\n"
            ]
          },
          "metadata": {}
        },
        {
          "output_type": "stream",
          "name": "stdout",
          "text": [
            "Epoch 1/200\n",
            "\u001b[1m20/20\u001b[0m \u001b[32m━━━━━━━━━━━━━━━━━━━━\u001b[0m\u001b[37m\u001b[0m \u001b[1m5s\u001b[0m 40ms/step - accuracy: 0.7601 - loss: 0.5080 - val_accuracy: 0.7857 - val_loss: 0.5338\n",
            "Epoch 2/200\n",
            "\u001b[1m20/20\u001b[0m \u001b[32m━━━━━━━━━━━━━━━━━━━━\u001b[0m\u001b[37m\u001b[0m \u001b[1m0s\u001b[0m 11ms/step - accuracy: 0.7884 - loss: 0.4846 - val_accuracy: 0.7727 - val_loss: 0.5314\n",
            "Epoch 3/200\n",
            "\u001b[1m20/20\u001b[0m \u001b[32m━━━━━━━━━━━━━━━━━━━━\u001b[0m\u001b[37m\u001b[0m \u001b[1m0s\u001b[0m 12ms/step - accuracy: 0.7921 - loss: 0.4666 - val_accuracy: 0.7532 - val_loss: 0.5375\n",
            "Epoch 4/200\n",
            "\u001b[1m20/20\u001b[0m \u001b[32m━━━━━━━━━━━━━━━━━━━━\u001b[0m\u001b[37m\u001b[0m \u001b[1m0s\u001b[0m 8ms/step - accuracy: 0.8062 - loss: 0.4279 - val_accuracy: 0.7792 - val_loss: 0.5230\n",
            "Epoch 5/200\n",
            "\u001b[1m20/20\u001b[0m \u001b[32m━━━━━━━━━━━━━━━━━━━━\u001b[0m\u001b[37m\u001b[0m \u001b[1m0s\u001b[0m 9ms/step - accuracy: 0.7801 - loss: 0.4446 - val_accuracy: 0.7078 - val_loss: 0.5475\n",
            "Epoch 6/200\n",
            "\u001b[1m20/20\u001b[0m \u001b[32m━━━━━━━━━━━━━━━━━━━━\u001b[0m\u001b[37m\u001b[0m \u001b[1m0s\u001b[0m 9ms/step - accuracy: 0.8055 - loss: 0.4386 - val_accuracy: 0.7597 - val_loss: 0.5442\n",
            "Epoch 7/200\n",
            "\u001b[1m20/20\u001b[0m \u001b[32m━━━━━━━━━━━━━━━━━━━━\u001b[0m\u001b[37m\u001b[0m \u001b[1m0s\u001b[0m 10ms/step - accuracy: 0.7894 - loss: 0.4398 - val_accuracy: 0.7468 - val_loss: 0.5365\n",
            "Epoch 8/200\n",
            "\u001b[1m20/20\u001b[0m \u001b[32m━━━━━━━━━━━━━━━━━━━━\u001b[0m\u001b[37m\u001b[0m \u001b[1m0s\u001b[0m 9ms/step - accuracy: 0.7938 - loss: 0.4437 - val_accuracy: 0.7662 - val_loss: 0.5344\n",
            "Epoch 9/200\n",
            "\u001b[1m20/20\u001b[0m \u001b[32m━━━━━━━━━━━━━━━━━━━━\u001b[0m\u001b[37m\u001b[0m \u001b[1m0s\u001b[0m 10ms/step - accuracy: 0.8093 - loss: 0.3976 - val_accuracy: 0.7338 - val_loss: 0.6204\n",
            "Epoch 10/200\n",
            "\u001b[1m20/20\u001b[0m \u001b[32m━━━━━━━━━━━━━━━━━━━━\u001b[0m\u001b[37m\u001b[0m \u001b[1m0s\u001b[0m 14ms/step - accuracy: 0.8149 - loss: 0.4265 - val_accuracy: 0.7338 - val_loss: 0.5824\n",
            "Epoch 11/200\n",
            "\u001b[1m20/20\u001b[0m \u001b[32m━━━━━━━━━━━━━━━━━━━━\u001b[0m\u001b[37m\u001b[0m \u001b[1m0s\u001b[0m 11ms/step - accuracy: 0.8026 - loss: 0.3882 - val_accuracy: 0.7532 - val_loss: 0.5446\n"
          ]
        },
        {
          "output_type": "execute_result",
          "data": {
            "text/plain": [
              "<keras.src.callbacks.history.History at 0x7cbaa48a3cd0>"
            ]
          },
          "metadata": {},
          "execution_count": 84
        }
      ]
    },
    {
      "cell_type": "code",
      "source": [
        "# prompt: print model accuracy and plot also\n",
        "\n",
        "# Evaluate the model on the test set\n",
        "loss, accuracy = model.evaluate(X_test, y_test)\n",
        "print(f'Test Accuracy: {accuracy:.4f}')\n",
        "\n",
        "import matplotlib.pyplot as plt\n",
        "\n",
        "# Plot accuracy\n",
        "plt.plot(history.history['accuracy'])\n",
        "plt.plot(history.history['val_accuracy'])\n",
        "plt.title('Model Accuracy')\n",
        "plt.ylabel('Accuracy')\n",
        "plt.xlabel('Epoch')\n",
        "plt.legend(['Train', 'Validation'], loc='upper left')\n",
        "plt.show()\n",
        "\n",
        "# Plot loss\n",
        "plt.plot(history.history['loss'])\n",
        "plt.plot(history.history['val_loss'])\n",
        "plt.title('Model Loss')\n",
        "plt.ylabel('Loss')\n",
        "plt.xlabel('Epoch')\n",
        "plt.legend(['Train', 'Validation'], loc='upper left')\n",
        "plt.show()\n"
      ],
      "metadata": {
        "colab": {
          "base_uri": "https://localhost:8080/",
          "height": 962
        },
        "id": "ikDQ4A9xfdD-",
        "outputId": "9ce53907-7c31-428e-8dfa-aca144338136"
      },
      "execution_count": 85,
      "outputs": [
        {
          "output_type": "stream",
          "name": "stdout",
          "text": [
            "\u001b[1m5/5\u001b[0m \u001b[32m━━━━━━━━━━━━━━━━━━━━\u001b[0m\u001b[37m\u001b[0m \u001b[1m0s\u001b[0m 23ms/step - accuracy: 0.7775 - loss: 0.5205\n",
            "Test Accuracy: 0.7857\n"
          ]
        },
        {
          "output_type": "display_data",
          "data": {
            "text/plain": [
              "<Figure size 640x480 with 1 Axes>"
            ],
            "image/png": "[encoded data removed]"
          },
          "metadata": {}
        },
        {
          "output_type": "display_data",
          "data": {
            "text/plain": [
              "<Figure size 640x480 with 1 Axes>"
            ],
            "image/png": "[encoded data removed]"
          },
          "metadata": {}
        }
      ]
    }
  ]
}