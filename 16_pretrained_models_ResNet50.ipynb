{
  "nbformat": 4,
  "nbformat_minor": 0,
  "metadata": {
    "colab": {
      "provenance": []
    },
    "kernelspec": {
      "name": "python3",
      "display_name": "Python 3"
    },
    "language_info": {
      "name": "python"
    }
  },
  "cells": [
    {
      "cell_type": "code",
      "execution_count": 1,
      "metadata": {
        "id": "XW4B2MertE_a"
      },
      "outputs": [],
      "source": [
        "import keras\n",
        "from keras.applications.resnet50 import ResNet50\n",
        "from keras.applications.resnet50 import preprocess_input, decode_predictions\n",
        "import numpy as np\n"
      ]
    },
    {
      "cell_type": "code",
      "source": [
        "model = ResNet50(weights='imagenet')\n"
      ],
      "metadata": {
        "colab": {
          "base_uri": "https://localhost:8080/"
        },
        "id": "bQt-jXKDtLRH",
        "outputId": "55ffcc0b-c37c-4ece-a252-531fe71b08d3"
      },
      "execution_count": 2,
      "outputs": [
        {
          "output_type": "stream",
          "name": "stdout",
          "text": [
            "Downloading data from https://storage.googleapis.com/tensorflow/keras-applications/resnet/resnet50_weights_tf_dim_ordering_tf_kernels.h5\n",
            "\u001b[1m102967424/102967424\u001b[0m \u001b[32m━━━━━━━━━━━━━━━━━━━━\u001b[0m\u001b[37m\u001b[0m \u001b[1m1s\u001b[0m 0us/step\n"
          ]
        }
      ]
    },
    {
      "cell_type": "code",
      "source": [
        "# prompt: i have 2 files create code to predict it\n",
        "\n",
        "import numpy as np\n",
        "from PIL import Image\n",
        "\n",
        "file_path_1 = '/content/zebra.jpeg'  # Replace with the actual path to your first image file\n",
        "file_path_2 = '/content/orange.jpeg'  # Replace with the actual path to your second image file\n",
        "\n",
        "image_paths = [file_path_1, file_path_2]\n",
        "\n",
        "for img_path in image_paths:\n",
        "    img = Image.open(img_path).resize((224, 224))\n",
        "    x = np.array(img)\n",
        "    x = np.expand_dims(x, axis=0)\n",
        "    x = preprocess_input(x)\n",
        "\n",
        "    preds = model.predict(x)\n",
        "    print(f\"Predictions for {img_path}:\")\n",
        "    # decode the results into a list of tuples (class, description, probability)\n",
        "    # (one such list for each sample in the batch)\n",
        "    print('Predicted:', decode_predictions(preds, top=3)[0])"
      ],
      "metadata": {
        "colab": {
          "base_uri": "https://localhost:8080/"
        },
        "id": "uxfXLmjoth9t",
        "outputId": "3e17367b-ec51-40b9-b77b-a389d7bb06f7"
      },
      "execution_count": 7,
      "outputs": [
        {
          "output_type": "stream",
          "name": "stdout",
          "text": [
            "\u001b[1m1/1\u001b[0m \u001b[32m━━━━━━━━━━━━━━━━━━━━\u001b[0m\u001b[37m\u001b[0m \u001b[1m0s\u001b[0m 185ms/step\n",
            "Predictions for /content/zebra.jpeg:\n",
            "Predicted: [('n02391049', 'zebra', np.float32(0.55761874)), ('n02091831', 'Saluki', np.float32(0.054321345)), ('n03903868', 'pedestal', np.float32(0.050784186))]\n",
            "\u001b[1m1/1\u001b[0m \u001b[32m━━━━━━━━━━━━━━━━━━━━\u001b[0m\u001b[37m\u001b[0m \u001b[1m0s\u001b[0m 202ms/step\n",
            "Predictions for /content/orange.jpeg:\n",
            "Predicted: [('n07747607', 'orange', np.float32(0.9645296)), ('n07749582', 'lemon', np.float32(0.035299435)), ('n07745940', 'strawberry', np.float32(5.607426e-05))]\n"
          ]
        }
      ]
    },
    {
      "cell_type": "code",
      "source": [],
      "metadata": {
        "id": "H5RIC3yLth6z"
      },
      "execution_count": null,
      "outputs": []
    },
    {
      "cell_type": "code",
      "source": [],
      "metadata": {
        "id": "fdg1JIVithwY"
      },
      "execution_count": null,
      "outputs": []
    }
  ]
}